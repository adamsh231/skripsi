{
 "cells": [
  {
   "cell_type": "markdown",
   "metadata": {
    "deletable": false,
    "editable": false,
    "heading_collapsed": true
   },
   "source": [
    "# Import Library"
   ]
  },
  {
   "cell_type": "code",
   "execution_count": 1,
   "metadata": {
    "ExecuteTime": {
     "end_time": "2020-06-16T10:57:03.450589Z",
     "start_time": "2020-06-16T10:57:02.227439Z"
    },
    "deletable": false,
    "editable": false,
    "hidden": true
   },
   "outputs": [],
   "source": [
    "import numpy as np\n",
    "import pandas as pd\n",
    "import random\n",
    "import math\n",
    "from sklearn.neighbors import KNeighborsClassifier #KNN\n",
    "from sklearn import metrics #akurasi\n",
    "from sklearn.metrics import confusion_matrix #confussion matrix\n",
    "from sklearn.metrics import recall_score # recall\n",
    "from sklearn.metrics import precision_score #precision\n",
    "from sklearn.metrics import f1_score #f1 score\n",
    "import dill\n",
    "try:\n",
    "    dill.load_session('KNN.db')\n",
    "except Exception as ex:\n",
    "    print(\"Data Belum Tersimpan!\")"
   ]
  },
  {
   "cell_type": "markdown",
   "metadata": {
    "deletable": false,
    "editable": false,
    "heading_collapsed": true
   },
   "source": [
    "# Manual Method (Preprocessing and Support)"
   ]
  },
  {
   "cell_type": "code",
   "execution_count": 2,
   "metadata": {
    "ExecuteTime": {
     "end_time": "2020-06-16T10:57:03.457541Z",
     "start_time": "2020-06-16T10:57:03.452645Z"
    },
    "deletable": false,
    "editable": false,
    "hidden": true
   },
   "outputs": [],
   "source": [
    "def count_label(data):\n",
    "    distinct = [data[0][-1]]\n",
    "    for i in range(len(data)):\n",
    "        check = True\n",
    "        for j in range(len(distinct)):\n",
    "            if distinct[j] == data[i][-1]:\n",
    "                check = False\n",
    "        if check:\n",
    "            distinct.append(data[i][-1])\n",
    "    return np.array(distinct).astype(int), len(distinct)"
   ]
  },
  {
   "cell_type": "code",
   "execution_count": 3,
   "metadata": {
    "ExecuteTime": {
     "end_time": "2020-06-16T10:57:03.589060Z",
     "start_time": "2020-06-16T10:57:03.460525Z"
    },
    "deletable": false,
    "editable": false,
    "hidden": true
   },
   "outputs": [],
   "source": [
    "def evaluation(arr_acc):\n",
    "    mean = np.mean(arr_acc)\n",
    "    varian = sum((arr_acc - mean) * (arr_acc - mean)) / len(arr_acc)\n",
    "    std = math.sqrt(varian)\n",
    "    return mean, std"
   ]
  },
  {
   "cell_type": "code",
   "execution_count": 4,
   "metadata": {
    "ExecuteTime": {
     "end_time": "2020-06-16T10:57:03.796648Z",
     "start_time": "2020-06-16T10:57:03.592166Z"
    },
    "deletable": false,
    "editable": false,
    "hidden": true
   },
   "outputs": [],
   "source": [
    "def handleMissValue(data):\n",
    "    filled_data = np.array([[0 for i in range(len(data[0]))] for j in range(len(data))])\n",
    "    cLabel = count_label(data)[1]\n",
    "    arr_data = [[] for j in range(cLabel)]\n",
    "    mean = []\n",
    "    for i in range(len(data)):\n",
    "        arr_data[int(data[i][-1])-1].append(data[i])\n",
    "    counter = 0\n",
    "    for i in range(len(arr_data)):\n",
    "        mean.append(np.nanmean(arr_data[i], axis=0))\n",
    "        for j in range(len(arr_data[i])):\n",
    "            for k in range(len(arr_data[i][j])):\n",
    "                if np.isnan(arr_data[i][j][k]):\n",
    "                    arr_data[i][j][k] = mean[i][k]\n",
    "            filled_data[counter] = arr_data[i][j]\n",
    "            counter += 1\n",
    "    return filled_data"
   ]
  },
  {
   "cell_type": "code",
   "execution_count": 5,
   "metadata": {
    "ExecuteTime": {
     "end_time": "2020-06-16T10:57:03.949924Z",
     "start_time": "2020-06-16T10:57:03.798665Z"
    },
    "deletable": false,
    "editable": false,
    "hidden": true
   },
   "outputs": [],
   "source": [
    "def randomize(arr):\n",
    "    for i in range(len(arr)-1, 0, -1):\n",
    "        j = random.randint(0, i)\n",
    "        arr[i], arr[j] = arr[j], arr[i]\n",
    "    return arr"
   ]
  },
  {
   "cell_type": "code",
   "execution_count": 6,
   "metadata": {
    "ExecuteTime": {
     "end_time": "2020-06-16T10:57:04.098216Z",
     "start_time": "2020-06-16T10:57:03.951191Z"
    },
    "deletable": false,
    "editable": false,
    "hidden": true
   },
   "outputs": [],
   "source": [
    "def normalize(data):\n",
    "    data = np.array(data).astype(float)\n",
    "    max_value = np.max(data, axis=0)\n",
    "    min_value = np.min(data, axis=0)\n",
    "    for i in range(len(data)):\n",
    "        for j in range(len(data[0])-1):\n",
    "            data[i][j] = (data[i][j] - min_value[j]) / (max_value[j] - min_value[j])\n",
    "    return data"
   ]
  },
  {
   "cell_type": "code",
   "execution_count": 7,
   "metadata": {
    "ExecuteTime": {
     "end_time": "2020-06-16T10:57:04.264129Z",
     "start_time": "2020-06-16T10:57:04.100191Z"
    },
    "deletable": false,
    "editable": false,
    "hidden": true
   },
   "outputs": [],
   "source": [
    "def extraction(file, is_normal = True, is_random = True):\n",
    "    data = pd.read_excel(file)\n",
    "    data = handleMissValue(np.array(data))\n",
    "    data = pd.DataFrame(data)\n",
    "    data.drop_duplicates()\n",
    "    data = np.array(data)\n",
    "    if is_normal:\n",
    "        data = normalize(data)\n",
    "    if is_random:\n",
    "        data = randomize(data.tolist())\n",
    "    return data"
   ]
  },
  {
   "cell_type": "code",
   "execution_count": 8,
   "metadata": {
    "ExecuteTime": {
     "end_time": "2020-06-16T10:57:04.430246Z",
     "start_time": "2020-06-16T10:57:04.266581Z"
    },
    "deletable": false,
    "editable": false,
    "hidden": true
   },
   "outputs": [],
   "source": [
    "def crossValidation(data, cross_val, cross_index, label_index):\n",
    "    split_test = int(len(data) * (1 / cross_val))\n",
    "    change_index = (cross_index - 1) * split_test\n",
    "    \n",
    "    for i in range(split_test):\n",
    "        j = (i + change_index)\n",
    "        data[i], data[j] = data[j], data[i]\n",
    "    \n",
    "    data_train_feature = pd.DataFrame(data[split_test:]).drop([label_index], axis=1)\n",
    "    data_train_label = pd.DataFrame(pd.DataFrame(data[split_test:]), columns=[label_index]).astype(np.int)\n",
    "    data_test_feature = pd.DataFrame(data[0:split_test]).drop([label_index], axis=1)\n",
    "    data_test_label = pd.DataFrame(pd.DataFrame(data[0:split_test]), columns=[label_index]).astype(np.int)\n",
    "    \n",
    "    data_train_feature = np.array(data_train_feature)\n",
    "    data_train_label = np.array(data_train_label)\n",
    "    data_test_feature = np.array(data_test_feature)\n",
    "    data_test_label = np.array(data_test_label)\n",
    "\n",
    "    return data, data_train_feature, data_train_label, data_test_feature, data_test_label"
   ]
  },
  {
   "cell_type": "code",
   "execution_count": 9,
   "metadata": {
    "ExecuteTime": {
     "end_time": "2020-06-16T10:57:04.585275Z",
     "start_time": "2020-06-16T10:57:04.433230Z"
    },
    "deletable": false,
    "editable": false,
    "hidden": true
   },
   "outputs": [],
   "source": [
    "##transform into 1d label array \n",
    "def transformArrLabel(X_label, Y_label):\n",
    "    X_transformed = []\n",
    "    Y_transformed = []\n",
    "    for i in range(len(X_label)):\n",
    "        X_transformed.append(X_label[i][0])\n",
    "    for i in range(len(Y_label)):\n",
    "        Y_transformed.append(Y_label[i][0])\n",
    "    return np.array(X_transformed), np.array(Y_transformed)"
   ]
  },
  {
   "cell_type": "code",
   "execution_count": 10,
   "metadata": {
    "ExecuteTime": {
     "end_time": "2020-06-16T10:57:04.752426Z",
     "start_time": "2020-06-16T10:57:04.586294Z"
    },
    "deletable": false,
    "editable": false,
    "hidden": true
   },
   "outputs": [],
   "source": [
    "def pickCoff(coff):\n",
    "    choosen_coff = []\n",
    "    for i in range(len(coff)):\n",
    "        for j in range(len(coff[i])):\n",
    "            acc = 0\n",
    "            for k in range(len(coff[i][j])):\n",
    "                for l in range(len(coff[i][j][k])):\n",
    "                    if k == l:\n",
    "                        acc += coff[i][j][k][l]\n",
    "            acc /= np.sum(coff[i][j])\n",
    "            if acc != 1:\n",
    "                choosen_coff.append(coff[i][j])\n",
    "                break\n",
    "            elif j == len(coff[i]) - 1:\n",
    "                choosen_coff.append(coff[i][j])\n",
    "    return np.array(choosen_coff)"
   ]
  },
  {
   "cell_type": "markdown",
   "metadata": {
    "deletable": false,
    "editable": false,
    "heading_collapsed": true
   },
   "source": [
    "# Inisialisasi"
   ]
  },
  {
   "cell_type": "code",
   "execution_count": 11,
   "metadata": {
    "ExecuteTime": {
     "end_time": "2020-06-16T10:57:06.067267Z",
     "start_time": "2020-06-16T10:57:04.755398Z"
    },
    "deletable": false,
    "editable": false,
    "hidden": true
   },
   "outputs": [],
   "source": [
    "k = 15\n",
    "file = 'Dataset Pegawai.xlsx'\n",
    "cross_val = 10\n",
    "label_index = 9 #Kinerja\n",
    "normalisasi = True\n",
    "random_data = True\n",
    "data = extraction(file, normalisasi, random_data)"
   ]
  },
  {
   "cell_type": "markdown",
   "metadata": {
    "deletable": false,
    "editable": false
   },
   "source": [
    "# Testing"
   ]
  },
  {
   "cell_type": "code",
   "execution_count": 12,
   "metadata": {
    "deletable": false,
    "editable": false,
    "run_control": {
     "frozen": true
    }
   },
   "outputs": [],
   "source": [
    "k_range = range(1,16)\n",
    "\n",
    "arr_coff = [[] for i in range(k)]\n",
    "arr_mean_acc = [0 for i in range(k)]\n",
    "arr_std_acc  = [0 for i in range(k)]\n",
    "\n",
    "for k in k_range:\n",
    "    arr_acc = [0 for i in range(cross_val)]\n",
    "    for i in range(1, cross_val + 1):\n",
    "        data, train_f, train_l, test_f, test_l = crossValidation(data, cross_val, i, label_index)\n",
    "        train_l, test_l = transformArrLabel(train_l, test_l)\n",
    "        knn = KNeighborsClassifier(n_neighbors = k, algorithm='brute')\n",
    "        knn.fit(train_f, train_l)\n",
    "        y_pred = knn.predict(test_f)\n",
    "        acc = metrics.accuracy_score(test_l, y_pred)\n",
    "        arr_acc[i-1] = acc\n",
    "        \n",
    "        arr_coff[k-1].append(confusion_matrix(test_l, y_pred))\n",
    "\n",
    "#         print(\"Cross-\"+str(i)+\" Acc:\"+ str(acc))\n",
    "#         print(\"---------------------------------------------------------\")\n",
    "\n",
    "    mean, std = evaluation(arr_acc)\n",
    "    arr_mean_acc[k-1] = mean\n",
    "    arr_std_acc[k-1] = std\n",
    "#     print('K-{0} Mean : {1} with Standar Deviation : {2}.'.format(k,mean,std))\n",
    "#     print(\"==========================================================\")"
   ]
  },
  {
   "cell_type": "code",
   "execution_count": 12,
   "metadata": {
    "ExecuteTime": {
     "end_time": "2020-06-16T10:57:06.077285Z",
     "start_time": "2020-06-16T10:57:06.069302Z"
    },
    "deletable": false,
    "editable": false
   },
   "outputs": [
    {
     "name": "stdout",
     "output_type": "stream",
     "text": [
      "[0.95258359 0.94893617 0.95714286 0.95197568 0.95835866 0.95303951\n",
      " 0.95759878 0.95425532 0.9550152  0.95182371 0.95486322 0.95106383\n",
      " 0.95455927 0.94969605 0.95182371]\n",
      "[0.00507699 0.00738921 0.00636849 0.00849434 0.00763517 0.00967048\n",
      " 0.00764273 0.00814028 0.00849434 0.00946773 0.00917032 0.00869853\n",
      " 0.00631934 0.00791004 0.00634123]\n"
     ]
    }
   ],
   "source": [
    "print(np.array(arr_mean_acc))\n",
    "print(np.array(arr_std_acc))\n",
    "# print(np.array(arr_coff))"
   ]
  },
  {
   "cell_type": "markdown",
   "metadata": {},
   "source": [
    "## Manual Testing (Manual vs Library => Precision, Recall, dan F1-Score)"
   ]
  },
  {
   "cell_type": "code",
   "execution_count": 13,
   "metadata": {
    "ExecuteTime": {
     "end_time": "2020-06-16T10:57:06.235567Z",
     "start_time": "2020-06-16T10:57:06.079276Z"
    },
    "deletable": false,
    "editable": false
   },
   "outputs": [],
   "source": [
    "picked_coff = pickCoff(np.array(arr_coff))\n",
    "# print(np.array(picked_coff))"
   ]
  },
  {
   "cell_type": "markdown",
   "metadata": {
    "deletable": false,
    "editable": false
   },
   "source": [
    "### Method (Manual)"
   ]
  },
  {
   "cell_type": "code",
   "execution_count": 14,
   "metadata": {
    "ExecuteTime": {
     "end_time": "2020-06-16T10:57:06.453520Z",
     "start_time": "2020-06-16T10:57:06.237563Z"
    },
    "deletable": false,
    "editable": false
   },
   "outputs": [],
   "source": [
    "def calcPrecRec(coff):\n",
    "    tfn = []\n",
    "    tfp = []\n",
    "    ttp = []\n",
    "    precision = []\n",
    "    recall = []\n",
    "    f1score = []\n",
    "    for i in range(len(coff)):\n",
    "        tfn.append(np.sum(coff[i], axis = 1))\n",
    "        tfp.append(np.sum(coff[i], axis = 0))\n",
    "        ttp.append(np.sum(coff[i], axis = 1))\n",
    "        for j in range(len(coff[i])):\n",
    "            for k in range(len(coff[i][j])):\n",
    "                if j == k:\n",
    "                    tfn[i][j] -= coff[i][j][k]\n",
    "                    tfp[i][j] -= coff[i][j][k]\n",
    "                else:\n",
    "                    ttp[i][j] -= coff[i][j][k]\n",
    "    for i in range(len(tfn)):\n",
    "        precision.append(np.array([0 for i in range(len(tfn[i]))]).astype(np.float32))\n",
    "        recall.append(np.array([0 for i in range(len(tfn[i]))]).astype(np.float32))\n",
    "        f1score.append(np.array([0 for i in range(len(tfn[i]))]).astype(np.float32))\n",
    "        for j in range(len(tfn[i])):\n",
    "            precision[i][j] = ttp[i][j]/(ttp[i][j] + tfp[i][j])\n",
    "            recall[i][j] = ttp[i][j]/(ttp[i][j] + tfn[i][j])\n",
    "            f1score[i][j] = 2 * precision[i][j] * recall[i][j] / (precision[i][j] + recall[i][j])\n",
    "    return np.array(precision), np.array(recall), np.array(f1score)"
   ]
  },
  {
   "cell_type": "code",
   "execution_count": 15,
   "metadata": {
    "ExecuteTime": {
     "end_time": "2020-06-16T10:57:06.545163Z",
     "start_time": "2020-06-16T10:57:06.456512Z"
    },
    "deletable": false,
    "editable": false
   },
   "outputs": [],
   "source": [
    "def calcAvg(precision, recall, f1score):\n",
    "    precision_mean = []\n",
    "    recall_mean = []\n",
    "    f1score_mean = []\n",
    "    for i in range(len(precision)):\n",
    "        precision_mean.append(np.average(precision[i]))\n",
    "        recall_mean.append(np.average(recall[i]))\n",
    "        f1score_mean.append(np.average(f1score[i]))\n",
    "    return np.array(precision_mean), np.array(recall_mean), np.array(f1score_mean)"
   ]
  },
  {
   "cell_type": "code",
   "execution_count": 16,
   "metadata": {
    "ExecuteTime": {
     "end_time": "2020-06-16T10:57:06.714343Z",
     "start_time": "2020-06-16T10:57:06.548133Z"
    },
    "deletable": false,
    "editable": false
   },
   "outputs": [],
   "source": [
    "precision_arr, recall_arr, f1score_arr = calcPrecRec(picked_coff)\n",
    "precision_arr_avg, recall_arr_avg, f1score_arr_avg = calcAvg(precision_arr, recall_arr, f1score_arr)"
   ]
  },
  {
   "cell_type": "markdown",
   "metadata": {
    "deletable": false,
    "editable": false
   },
   "source": [
    "### Method (Library)"
   ]
  },
  {
   "cell_type": "code",
   "execution_count": 17,
   "metadata": {
    "ExecuteTime": {
     "end_time": "2020-06-16T10:57:06.936433Z",
     "start_time": "2020-06-16T10:57:06.716406Z"
    },
    "deletable": false,
    "editable": false
   },
   "outputs": [],
   "source": [
    "def splitCoff(picked_coff):\n",
    "    actual = []\n",
    "    predict = []\n",
    "    for i in range(len(picked_coff)):\n",
    "        predict.append([])\n",
    "        actual.append([])\n",
    "        for j in range(len(picked_coff[i])):\n",
    "            for k in range(len(picked_coff[i][j])):\n",
    "                for l in range(picked_coff[i][j][k]):\n",
    "                    if j == k:\n",
    "                        actual[i].append(j)\n",
    "                        predict[i].append(j)\n",
    "                    else:\n",
    "                        actual[i].append(j)\n",
    "                        predict[i].append(k)\n",
    "    return actual, predict"
   ]
  },
  {
   "cell_type": "code",
   "execution_count": 18,
   "metadata": {
    "ExecuteTime": {
     "end_time": "2020-06-16T10:57:07.302551Z",
     "start_time": "2020-06-16T10:57:06.938958Z"
    },
    "deletable": false,
    "editable": false
   },
   "outputs": [],
   "source": [
    "picked_coff = pickCoff(np.array(arr_coff))\n",
    "\n",
    "precision_lib_arr = []\n",
    "recall_lib_arr = []\n",
    "f1score_lib_arr = []\n",
    "\n",
    "precision_lib_arr_avg = []\n",
    "recall_lib_arr_avg = []\n",
    "f1score_lib_arr_avg = []\n",
    "\n",
    "for i in range(len(picked_coff)):\n",
    "    actual, predict = splitCoff(picked_coff)\n",
    "    \n",
    "    recall_lib = recall_score(actual[i], predict[i], average=None)\n",
    "    precision_lib = precision_score(actual[i], predict[i], average=None)\n",
    "    f1score_lib = f1_score(actual[i], predict[i], average=None)\n",
    "    \n",
    "    recall_lib_avg = recall_score(actual[i], predict[i], average='macro')\n",
    "    precision_lib_avg = precision_score(actual[i], predict[i], average='macro')\n",
    "    f1score_lib_avg = f1_score(actual[i], predict[i], average='macro')\n",
    "    \n",
    "    recall_lib_arr.append(recall_lib)\n",
    "    precision_lib_arr.append(precision_lib)\n",
    "    f1score_lib_arr.append(f1score_lib)\n",
    "    \n",
    "    precision_lib_arr_avg.append(precision_lib_avg)\n",
    "    recall_lib_arr_avg.append(recall_lib_avg)\n",
    "    f1score_lib_arr_avg.append(f1score_lib_avg)"
   ]
  },
  {
   "cell_type": "markdown",
   "metadata": {
    "deletable": false,
    "editable": false
   },
   "source": [
    "### Output (Manual)"
   ]
  },
  {
   "cell_type": "markdown",
   "metadata": {
    "deletable": false,
    "editable": false,
    "heading_collapsed": true
   },
   "source": [
    "#### Precision, Recall and F1-Score (Each Class)"
   ]
  },
  {
   "cell_type": "code",
   "execution_count": 19,
   "metadata": {
    "ExecuteTime": {
     "end_time": "2020-06-16T10:57:07.314383Z",
     "start_time": "2020-06-16T10:57:07.304539Z"
    },
    "deletable": false,
    "editable": false,
    "hidden": true
   },
   "outputs": [
    {
     "name": "stdout",
     "output_type": "stream",
     "text": [
      "-------------Precision--------------\n",
      "[[0.9353612  0.9559748  0.97402596]\n",
      " [0.89928055 0.9737705  1.        ]\n",
      " [0.9442231  0.9689441  0.9764706 ]\n",
      " [0.9139785  0.9661017  1.        ]\n",
      " [0.9390244  0.96755165 0.9589041 ]\n",
      " [0.96031743 0.9737705  1.        ]\n",
      " [0.9312977  0.9773463  1.        ]\n",
      " [0.91570884 0.95731705 1.        ]\n",
      " [0.9348659  0.9745223  1.        ]\n",
      " [0.8924731  0.986532   0.9878049 ]\n",
      " [0.8975265  0.9799331  0.9868421 ]\n",
      " [0.8932384  0.97359735 1.        ]\n",
      " [0.92607003 0.9746032  0.9767442 ]\n",
      " [0.9007092  0.97231835 1.        ]\n",
      " [0.92828685 0.9703264  0.98571426]]\n",
      "\n",
      "---------------Recall----------------\n",
      "[[0.95719844 0.9411765  0.96153843]\n",
      " [0.98039216 0.91384614 0.96153843]\n",
      " [0.97530866 0.9512195  0.954023  ]\n",
      " [0.9883721  0.9223301  0.9230769 ]\n",
      " [0.95454544 0.9479769  1.        ]\n",
      " [0.9797571  0.9674267  0.97115386]\n",
      " [0.9799197  0.94375    0.9775281 ]\n",
      " [0.956      0.9345238  0.9583333 ]\n",
      " [0.976      0.94736844 0.9764706 ]\n",
      " [0.9920319  0.904321   0.97590363]\n",
      " [0.98832685 0.90712076 0.96153843]\n",
      " [0.9843137  0.9076923  0.94871795]\n",
      " [0.9794239  0.9359756  0.9655172 ]\n",
      " [0.9844961  0.9093851  0.95604396]\n",
      " [0.9628099  0.9450867  0.98571426]]\n",
      "\n",
      "--------------F1-SCORE---------------\n",
      "[[0.9461538  0.948518   0.9677419 ]\n",
      " [0.9380863  0.94285715 0.98039216]\n",
      " [0.95951414 0.96       0.96511626]\n",
      " [0.9497206  0.9437086  0.96000004]\n",
      " [0.9467213  0.95766425 0.979021  ]\n",
      " [0.9699399  0.97058827 0.98536587]\n",
      " [0.9549902  0.9602544  0.9886364 ]\n",
      " [0.9354207  0.9457831  0.9787234 ]\n",
      " [0.9549902  0.96075356 0.9880952 ]\n",
      " [0.9396226  0.94363934 0.9818182 ]\n",
      " [0.94074076 0.94212216 0.97402596]\n",
      " [0.9365672  0.93949044 0.9736842 ]\n",
      " [0.95199996 0.95489895 0.97109824]\n",
      " [0.94074076 0.93979937 0.9775281 ]\n",
      " [0.9452332  0.9575403  0.98571426]]\n",
      "\n"
     ]
    }
   ],
   "source": [
    "print(\"-------------Precision--------------\")\n",
    "print(precision_arr)\n",
    "print()\n",
    "print(\"---------------Recall----------------\")\n",
    "print(recall_arr)\n",
    "print()\n",
    "print(\"--------------F1-SCORE---------------\")\n",
    "print(f1score_arr)\n",
    "print()"
   ]
  },
  {
   "cell_type": "markdown",
   "metadata": {
    "deletable": false,
    "editable": false
   },
   "source": [
    "#### Precision, Recall and F1-Score (Average)"
   ]
  },
  {
   "cell_type": "code",
   "execution_count": 20,
   "metadata": {
    "ExecuteTime": {
     "end_time": "2020-06-16T10:57:07.426430Z",
     "start_time": "2020-06-16T10:57:07.316378Z"
    },
    "deletable": false,
    "editable": false
   },
   "outputs": [
    {
     "name": "stdout",
     "output_type": "stream",
     "text": [
      "-------------Precision--------------\n",
      "[0.9551206  0.95768374 0.96321267 0.96002674 0.9551601  0.9780293\n",
      " 0.969548   0.9576753  0.969796   0.9556033  0.9547672  0.95561194\n",
      " 0.9591391  0.9576759  0.9614425 ]\n",
      "\n",
      "---------------Recall----------------\n",
      "[0.95330447 0.9519256  0.9601838  0.944593   0.9675074  0.9727793\n",
      " 0.967066   0.94961905 0.966613   0.95741886 0.9523287  0.946908\n",
      " 0.96030563 0.949975   0.96453696]\n",
      "\n",
      "--------------F1-SCORE---------------\n",
      "[0.95413786 0.9537785  0.9615435  0.9511431  0.96113557 0.975298\n",
      " 0.96796036 0.95330906 0.96794635 0.9550267  0.95229626 0.949914\n",
      " 0.9593324  0.9526894  0.9628293 ]\n",
      "\n"
     ]
    }
   ],
   "source": [
    "print(\"-------------Precision--------------\")\n",
    "print(precision_arr_avg)\n",
    "print()\n",
    "print(\"---------------Recall----------------\")\n",
    "print(recall_arr_avg)\n",
    "print()\n",
    "print(\"--------------F1-SCORE---------------\")\n",
    "print(f1score_arr_avg)\n",
    "print()"
   ]
  },
  {
   "cell_type": "markdown",
   "metadata": {
    "deletable": false,
    "editable": false
   },
   "source": [
    "### Output (Library)"
   ]
  },
  {
   "cell_type": "markdown",
   "metadata": {
    "deletable": false,
    "editable": false,
    "heading_collapsed": true
   },
   "source": [
    "#### Precision, Recall and F1-Score (Each Class)"
   ]
  },
  {
   "cell_type": "code",
   "execution_count": 21,
   "metadata": {
    "ExecuteTime": {
     "end_time": "2020-06-16T10:57:07.525357Z",
     "start_time": "2020-06-16T10:57:07.428419Z"
    },
    "deletable": false,
    "editable": false,
    "hidden": true
   },
   "outputs": [
    {
     "name": "stdout",
     "output_type": "stream",
     "text": [
      "-------------Precision--------------\n",
      "[[0.93536122 0.95597484 0.97402597]\n",
      " [0.89928058 0.97377049 1.        ]\n",
      " [0.94422311 0.9689441  0.97647059]\n",
      " [0.91397849 0.96610169 1.        ]\n",
      " [0.93902439 0.96755162 0.95890411]\n",
      " [0.96031746 0.97377049 1.        ]\n",
      " [0.93129771 0.97734628 1.        ]\n",
      " [0.91570881 0.95731707 1.        ]\n",
      " [0.9348659  0.97452229 1.        ]\n",
      " [0.89247312 0.98653199 0.98780488]\n",
      " [0.8975265  0.97993311 0.98684211]\n",
      " [0.89323843 0.97359736 1.        ]\n",
      " [0.92607004 0.97460317 0.97674419]\n",
      " [0.90070922 0.97231834 1.        ]\n",
      " [0.92828685 0.97032641 0.98571429]]\n",
      "\n",
      "---------------Recall----------------\n",
      "[[0.95719844 0.94117647 0.96153846]\n",
      " [0.98039216 0.91384615 0.96153846]\n",
      " [0.97530864 0.95121951 0.95402299]\n",
      " [0.98837209 0.9223301  0.92307692]\n",
      " [0.95454545 0.94797688 1.        ]\n",
      " [0.97975709 0.96742671 0.97115385]\n",
      " [0.97991968 0.94375    0.97752809]\n",
      " [0.956      0.93452381 0.95833333]\n",
      " [0.976      0.94736842 0.97647059]\n",
      " [0.99203187 0.90432099 0.97590361]\n",
      " [0.98832685 0.90712074 0.96153846]\n",
      " [0.98431373 0.90769231 0.94871795]\n",
      " [0.97942387 0.93597561 0.96551724]\n",
      " [0.98449612 0.90938511 0.95604396]\n",
      " [0.96280992 0.94508671 0.98571429]]\n",
      "\n",
      "--------------F1-SCORE---------------\n",
      "[[0.94615385 0.94851794 0.96774194]\n",
      " [0.9380863  0.94285714 0.98039216]\n",
      " [0.95951417 0.96       0.96511628]\n",
      " [0.94972067 0.94370861 0.96      ]\n",
      " [0.94672131 0.95766423 0.97902098]\n",
      " [0.96993988 0.97058824 0.98536585]\n",
      " [0.95499022 0.96025437 0.98863636]\n",
      " [0.93542074 0.94578313 0.9787234 ]\n",
      " [0.95499022 0.96075353 0.98809524]\n",
      " [0.93962264 0.94363929 0.98181818]\n",
      " [0.94074074 0.94212219 0.97402597]\n",
      " [0.93656716 0.93949045 0.97368421]\n",
      " [0.952      0.95489891 0.97109827]\n",
      " [0.94074074 0.93979933 0.97752809]\n",
      " [0.94523327 0.95754026 0.98571429]]\n",
      "\n"
     ]
    }
   ],
   "source": [
    "print(\"-------------Precision--------------\")\n",
    "print(np.array(precision_lib_arr))\n",
    "print()\n",
    "print(\"---------------Recall----------------\")\n",
    "print(np.array(recall_lib_arr))\n",
    "print()\n",
    "print(\"--------------F1-SCORE---------------\")\n",
    "print(np.array(f1score_lib_arr))\n",
    "print()"
   ]
  },
  {
   "cell_type": "markdown",
   "metadata": {
    "deletable": false,
    "editable": false
   },
   "source": [
    "#### Precision, Recall and F1-Score (Average)"
   ]
  },
  {
   "cell_type": "code",
   "execution_count": 22,
   "metadata": {
    "ExecuteTime": {
     "end_time": "2020-06-16T10:57:07.634191Z",
     "start_time": "2020-06-16T10:57:07.527338Z"
    },
    "deletable": false,
    "editable": false
   },
   "outputs": [
    {
     "name": "stdout",
     "output_type": "stream",
     "text": [
      "-------------Precision--------------\n",
      "[0.95512068 0.95768369 0.9632126  0.96002673 0.95516004 0.97802932\n",
      " 0.969548   0.9576753  0.96979606 0.95560333 0.95476724 0.95561193\n",
      " 0.95913913 0.95767585 0.96144252]\n",
      "\n",
      "---------------Recall----------------\n",
      "[0.95330446 0.95192559 0.96018371 0.94459304 0.96750744 0.97277921\n",
      " 0.96706592 0.94961905 0.966613   0.95741882 0.95232868 0.94690799\n",
      " 0.96030557 0.94997506 0.96453697]\n",
      "\n",
      "--------------F1-SCORE---------------\n",
      "[0.95413791 0.95377853 0.96154348 0.95114309 0.96113551 0.97529799\n",
      " 0.96796032 0.95330909 0.96794633 0.9550267  0.9522963  0.94991394\n",
      " 0.95933239 0.95268939 0.96282927]\n",
      "\n"
     ]
    }
   ],
   "source": [
    "print(\"-------------Precision--------------\")\n",
    "print(np.array(precision_lib_arr_avg))\n",
    "print()\n",
    "print(\"---------------Recall----------------\")\n",
    "print(np.array(recall_lib_arr_avg))\n",
    "print()\n",
    "print(\"--------------F1-SCORE---------------\")\n",
    "print(np.array(f1score_lib_arr_avg))\n",
    "print()"
   ]
  },
  {
   "cell_type": "markdown",
   "metadata": {
    "deletable": false,
    "editable": false
   },
   "source": [
    "# Save Data"
   ]
  },
  {
   "cell_type": "code",
   "execution_count": 24,
   "metadata": {
    "deletable": false,
    "editable": false,
    "run_control": {
     "frozen": true
    }
   },
   "outputs": [],
   "source": [
    "# dill.dump_session('KNN.db')"
   ]
  }
 ],
 "metadata": {
  "kernelspec": {
   "display_name": "Python 3.6.2 64-bit",
   "language": "python",
   "name": "python36264bita850f09a2630471f9307a996c8fc1915"
  },
  "language_info": {
   "codemirror_mode": {
    "name": "ipython",
    "version": 3
   },
   "file_extension": ".py",
   "mimetype": "text/x-python",
   "name": "python",
   "nbconvert_exporter": "python",
   "pygments_lexer": "ipython3",
   "version": "3.6.2"
  },
  "toc": {
   "base_numbering": 1,
   "nav_menu": {},
   "number_sections": true,
   "sideBar": true,
   "skip_h1_title": false,
   "title_cell": "Table of Contents",
   "title_sidebar": "Contents",
   "toc_cell": false,
   "toc_position": {},
   "toc_section_display": true,
   "toc_window_display": true
  }
 },
 "nbformat": 4,
 "nbformat_minor": 2
}
