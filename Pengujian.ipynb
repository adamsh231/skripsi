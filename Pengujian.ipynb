{
 "cells": [
  {
   "cell_type": "markdown",
   "metadata": {
    "heading_collapsed": true
   },
   "source": [
    "# Import Library"
   ]
  },
  {
   "cell_type": "code",
   "execution_count": 1,
   "metadata": {
    "ExecuteTime": {
     "end_time": "2020-06-02T18:41:26.810569Z",
     "start_time": "2020-06-02T18:41:26.174237Z"
    },
    "colab": {},
    "colab_type": "code",
    "deletable": false,
    "editable": false,
    "hidden": true,
    "id": "hkk4mnq5jd6O",
    "scrolled": false
   },
   "outputs": [],
   "source": [
    "import numpy as np\n",
    "import pandas as pd\n",
    "import math\n",
    "import random\n",
    "import dill\n",
    "try:\n",
    "    dill.load_session('Pengujian.db')\n",
    "except Exception as ex:\n",
    "    print(\"Data Belum Tersimpan!\")"
   ]
  },
  {
   "cell_type": "markdown",
   "metadata": {},
   "source": [
    "# Support"
   ]
  },
  {
   "cell_type": "markdown",
   "metadata": {
    "colab_type": "text",
    "heading_collapsed": true,
    "id": "6PMrAgyjf-sP"
   },
   "source": [
    "## Identify Label"
   ]
  },
  {
   "cell_type": "code",
   "execution_count": 2,
   "metadata": {
    "ExecuteTime": {
     "end_time": "2020-06-02T18:41:26.817552Z",
     "start_time": "2020-06-02T18:41:26.811567Z"
    },
    "colab": {},
    "colab_type": "code",
    "deletable": false,
    "editable": false,
    "hidden": true,
    "id": "QLNn6_tQgAVc",
    "scrolled": false
   },
   "outputs": [],
   "source": [
    "def count_label(data):\n",
    "    distinct = [data[0][-1]]\n",
    "    for i in range(len(data)):\n",
    "        check = True\n",
    "        for j in range(len(distinct)):\n",
    "            if distinct[j] == data[i][-1]:\n",
    "                check = False\n",
    "        if check:\n",
    "            distinct.append(data[i][-1])\n",
    "    return np.array(distinct).astype(int), len(distinct)"
   ]
  },
  {
   "cell_type": "markdown",
   "metadata": {},
   "source": [
    "## Model Evaluation Performance"
   ]
  },
  {
   "cell_type": "markdown",
   "metadata": {
    "heading_collapsed": true
   },
   "source": [
    "### Mean + STD"
   ]
  },
  {
   "cell_type": "code",
   "execution_count": 3,
   "metadata": {
    "ExecuteTime": {
     "end_time": "2020-06-02T18:41:27.150804Z",
     "start_time": "2020-06-02T18:41:26.819547Z"
    },
    "deletable": false,
    "editable": false,
    "hidden": true,
    "scrolled": false
   },
   "outputs": [],
   "source": [
    "def evaluation(arr_acc):\n",
    "    mean = np.mean(arr_acc)\n",
    "    varian = sum((arr_acc - mean) * (arr_acc - mean)) / len(arr_acc)\n",
    "    std = math.sqrt(varian)\n",
    "    return mean, std"
   ]
  },
  {
   "cell_type": "markdown",
   "metadata": {
    "deletable": false,
    "editable": false
   },
   "source": [
    "### Precision, Recall dan F1-Score"
   ]
  },
  {
   "cell_type": "code",
   "execution_count": 4,
   "metadata": {
    "ExecuteTime": {
     "end_time": "2020-06-02T18:41:27.252277Z",
     "start_time": "2020-06-02T18:41:27.153766Z"
    },
    "deletable": false,
    "editable": false
   },
   "outputs": [],
   "source": [
    "def toNumpyArray(coff):\n",
    "    coff = np.array(coff)\n",
    "    for i in range(len(coff)):\n",
    "        coff[i] = np.array(coff[i])\n",
    "        for j in range(len(coff[i])):\n",
    "            coff[i][j] = np.array(coff[i][j])\n",
    "    return coff\n",
    "\n",
    "def pickCoff(coff):\n",
    "    coff = toNumpyArray(coff)\n",
    "    choosen_coff = []\n",
    "    for i in range(len(coff)):\n",
    "        for j in range(len(coff[i])):\n",
    "            acc = 0\n",
    "            for k in range(len(coff[i][j])):\n",
    "                for l in range(len(coff[i][j][k])):\n",
    "                    if k == l:\n",
    "                        acc += coff[i][j][k][l]\n",
    "            acc /= np.sum(coff[i][j])\n",
    "            if acc != 1:\n",
    "                choosen_coff.append(coff[i][j])\n",
    "                break\n",
    "            elif j == len(coff[i]) - 1:\n",
    "                choosen_coff.append(coff[i][j])\n",
    "    return np.array(choosen_coff)\n",
    "\n",
    "def calcPrecRec(coff):\n",
    "    coff = pickCoff(coff)\n",
    "    tfn = []\n",
    "    tfp = []\n",
    "    ttp = []\n",
    "    precision = []\n",
    "    recall = []\n",
    "    for i in range(len(coff)):\n",
    "        tfn.append(np.sum(coff[i], axis = 1))\n",
    "        tfp.append(np.sum(coff[i], axis = 0))\n",
    "        ttp_count = 0\n",
    "        for j in range(len(coff[i])):\n",
    "            for k in range(len(coff[i][j])):\n",
    "                if j == k:\n",
    "                    tfn[i][j] -= coff[i][j][k]\n",
    "                    tfp[i][j] -= coff[i][j][k]\n",
    "                    ttp_count += coff[i][j][k]\n",
    "        ttp.append(ttp_count)\n",
    "    for i in range(len(tfn)):\n",
    "        precision.append(np.array([0 for i in range(len(tfn[i]))]).astype(np.float32))\n",
    "        recall.append(np.array([0 for i in range(len(tfn[i]))]).astype(np.float32))\n",
    "        for j in range(len(tfn[i])):\n",
    "            precision[i][j] = ttp[i]/(ttp[i] + tfp[i][j])\n",
    "            recall[i][j] = ttp[i]/(ttp[i] + tfn[i][j])\n",
    "    return np.array(precision), np.array(recall)\n",
    "\n",
    "def calcF1Score(precision, recall):\n",
    "    f1 = []\n",
    "    for i in range(len(precision)):\n",
    "        prec = np.mean(precision[i])\n",
    "        rec = np.mean(recall[i])\n",
    "        f1.append(2*prec*rec/(prec+rec))\n",
    "    return np.array(f1)"
   ]
  },
  {
   "cell_type": "markdown",
   "metadata": {
    "colab_type": "text",
    "heading_collapsed": true,
    "id": "qFjAlvj6gGPh"
   },
   "source": [
    "## Euclidian Distance"
   ]
  },
  {
   "cell_type": "code",
   "execution_count": 5,
   "metadata": {
    "ExecuteTime": {
     "end_time": "2020-06-02T18:41:27.339427Z",
     "start_time": "2020-06-02T18:41:27.253239Z"
    },
    "colab": {},
    "colab_type": "code",
    "deletable": false,
    "editable": false,
    "hidden": true,
    "id": "JhBa0l7kgRg2",
    "scrolled": false
   },
   "outputs": [],
   "source": [
    "def euclidian(X, Y, categories = []):\n",
    "    euc = 0\n",
    "    for i in range(len(X)):\n",
    "        if not i in categories: ## similarity matrix\n",
    "            euc += math.pow((X[i]-Y[i]), 2)\n",
    "    euc = math.sqrt(euc)\n",
    "    ##------------Similiratity Matrix-------------##\n",
    "    if len(categories) != 0:\n",
    "        p = len(categories)\n",
    "        m = 0\n",
    "        for i in range(len(categories)):\n",
    "            if X[categories[i]] == Y[categories[i]]:\n",
    "                m += 1\n",
    "        cat_dist = (p-m)/p\n",
    "        euc += cat_dist\n",
    "    ##--------------------------------------------##\n",
    "    return euc"
   ]
  },
  {
   "cell_type": "markdown",
   "metadata": {
    "heading_collapsed": true
   },
   "source": [
    "# Pre Processing"
   ]
  },
  {
   "cell_type": "markdown",
   "metadata": {
    "colab_type": "text",
    "hidden": true,
    "id": "K0_E2oPPMyvm"
   },
   "source": [
    "## Random Data"
   ]
  },
  {
   "cell_type": "code",
   "execution_count": 6,
   "metadata": {
    "ExecuteTime": {
     "end_time": "2020-06-02T18:41:27.439065Z",
     "start_time": "2020-06-02T18:41:27.340366Z"
    },
    "colab": {},
    "colab_type": "code",
    "deletable": false,
    "editable": false,
    "hidden": true,
    "id": "SUKJZX2OI1gG",
    "scrolled": false
   },
   "outputs": [],
   "source": [
    "def randomize(arr):\n",
    "    for i in range(len(arr)-1, 0, -1):\n",
    "        j = random.randint(0, i)\n",
    "        arr[i], arr[j] = arr[j], arr[i]\n",
    "    return arr"
   ]
  },
  {
   "cell_type": "markdown",
   "metadata": {
    "colab_type": "text",
    "hidden": true,
    "id": "87enrK1db87J"
   },
   "source": [
    "## Normalisasi"
   ]
  },
  {
   "cell_type": "code",
   "execution_count": 7,
   "metadata": {
    "ExecuteTime": {
     "end_time": "2020-06-02T18:41:27.578789Z",
     "start_time": "2020-06-02T18:41:27.440062Z"
    },
    "colab": {},
    "colab_type": "code",
    "deletable": false,
    "editable": false,
    "hidden": true,
    "id": "4ViDg5Zhb_ZJ",
    "scrolled": false
   },
   "outputs": [],
   "source": [
    "def normalize(data):\n",
    "    data = np.array(data).astype(float)\n",
    "    max_value = np.max(data, axis=0)\n",
    "    min_value = np.min(data, axis=0)\n",
    "    for i in range(len(data)):\n",
    "        for j in range(len(data[0])-1):\n",
    "            data[i][j] = (data[i][j] - min_value[j]) / (max_value[j] - min_value[j])\n",
    "    return data"
   ]
  },
  {
   "cell_type": "markdown",
   "metadata": {
    "hidden": true
   },
   "source": [
    "## Missing Value"
   ]
  },
  {
   "cell_type": "code",
   "execution_count": 8,
   "metadata": {
    "ExecuteTime": {
     "end_time": "2020-06-02T18:41:27.677531Z",
     "start_time": "2020-06-02T18:41:27.582801Z"
    },
    "deletable": false,
    "editable": false,
    "hidden": true
   },
   "outputs": [],
   "source": [
    "def handleMissValue(data):\n",
    "    filled_data = np.array([[0 for i in range(len(data[0]))] for j in range(len(data))])\n",
    "    cLabel = count_label(data)[1]\n",
    "    arr_data = [[] for j in range(cLabel)]\n",
    "    mean = []\n",
    "    for i in range(len(data)):\n",
    "        arr_data[int(data[i][-1])-1].append(data[i])\n",
    "    counter = 0\n",
    "    for i in range(len(arr_data)):\n",
    "        mean.append(np.nanmean(arr_data[i], axis=0))\n",
    "        for j in range(len(arr_data[i])):\n",
    "            for k in range(len(arr_data[i][j])):\n",
    "                if np.isnan(arr_data[i][j][k]):\n",
    "                    arr_data[i][j][k] = mean[i][k]\n",
    "            filled_data[counter] = arr_data[i][j]\n",
    "            counter += 1\n",
    "    return filled_data"
   ]
  },
  {
   "cell_type": "markdown",
   "metadata": {
    "colab_type": "text",
    "hidden": true,
    "id": "VTR3dPCYfv8r"
   },
   "source": [
    "## Ekstraksi File \n"
   ]
  },
  {
   "cell_type": "code",
   "execution_count": 9,
   "metadata": {
    "ExecuteTime": {
     "end_time": "2020-06-02T18:41:27.832556Z",
     "start_time": "2020-06-02T18:41:27.679526Z"
    },
    "colab": {},
    "colab_type": "code",
    "deletable": false,
    "editable": false,
    "hidden": true,
    "id": "TyEfDO9gI2JJ",
    "scrolled": false
   },
   "outputs": [],
   "source": [
    "def extraction(file, is_normal = True, is_random = True):\n",
    "    data = pd.read_excel(file)\n",
    "    data = handleMissValue(np.array(data))\n",
    "    data = pd.DataFrame(data)\n",
    "    data.drop_duplicates()\n",
    "    data = np.array(data)\n",
    "    if is_normal:\n",
    "        data = normalize(data)\n",
    "    if is_random:\n",
    "        data = randomize(data.tolist())\n",
    "    return data"
   ]
  },
  {
   "cell_type": "markdown",
   "metadata": {
    "heading_collapsed": true
   },
   "source": [
    "# LMKHNCN"
   ]
  },
  {
   "cell_type": "markdown",
   "metadata": {
    "hidden": true
   },
   "source": [
    "## Set of KNCN"
   ]
  },
  {
   "cell_type": "markdown",
   "metadata": {
    "colab_type": "text",
    "heading_collapsed": true,
    "hidden": true,
    "id": "-GHhQf-shskl"
   },
   "source": [
    "### 1 NCN"
   ]
  },
  {
   "cell_type": "code",
   "execution_count": 10,
   "metadata": {
    "ExecuteTime": {
     "end_time": "2020-06-02T18:41:27.915602Z",
     "start_time": "2020-06-02T18:41:27.834430Z"
    },
    "colab": {},
    "colab_type": "code",
    "deletable": false,
    "editable": false,
    "hidden": true,
    "id": "lsiAuPM1hv8L",
    "scrolled": false
   },
   "outputs": [],
   "source": [
    "def closest(Xx, Xx_label, Y, cLabel, nominal):\n",
    "    distance = [[None for i in range(len(Xx))] for j in range(cLabel)]\n",
    "    min_distance_value = [0 for i in range(cLabel)]\n",
    "    min_distance_index = [0 for i in range(cLabel)]\n",
    "    for i in range(len(Xx)):\n",
    "        distance[((Xx_label[i][0])-1)][i] = euclidian(Xx[i], Y, nominal)\n",
    "    for i in range(cLabel):\n",
    "        min_distance_value[i] = min(x for x in distance[i] if x is not None)\n",
    "        min_distance_index[i] = distance[i].index(min(x for x in distance[i] if x is not None))\n",
    "    return np.array(distance), min_distance_index, min_distance_value"
   ]
  },
  {
   "cell_type": "markdown",
   "metadata": {
    "colab_type": "text",
    "hidden": true,
    "id": "OAaqAUIhrmw1"
   },
   "source": [
    "### N NCN"
   ]
  },
  {
   "cell_type": "code",
   "execution_count": 11,
   "metadata": {
    "ExecuteTime": {
     "end_time": "2020-06-02T18:41:28.010781Z",
     "start_time": "2020-06-02T18:41:27.916628Z"
    },
    "colab": {},
    "colab_type": "code",
    "deletable": false,
    "editable": false,
    "hidden": true,
    "id": "W-bltI-QrqxG",
    "scrolled": false
   },
   "outputs": [],
   "source": [
    "def kncn(k, Xx, Xx_label, Y, cLabel, close_dist, nominal):\n",
    "    ncn = np.array([[0 for i in range(k)] for j in range(cLabel)])\n",
    "    for i in range(cLabel):\n",
    "        ncn[i][0] = close_dist[i]\n",
    "\n",
    "    for i in range (1, k):\n",
    "        distance = [[None for i in range(len(Xx))] for j in range(cLabel)]\n",
    "        min_distance_value = [0 for i in range(cLabel)]\n",
    "        min_distance_index = [0 for i in range(cLabel)]\n",
    "        for j in range(len(Xx)):\n",
    "            label = Xx_label[j][0] - 1\n",
    "            check = True\n",
    "            for a in range(i):\n",
    "                if ncn[label][a] == j:\n",
    "                    check = False\n",
    "            if check:\n",
    "                add = 0 + Xx[j]\n",
    "                for a in range(i):\n",
    "                    indeks_ncn = ncn[label][a]\n",
    "                    add += Xx[indeks_ncn]\n",
    "                centroid = add / (i+1)\n",
    "                distance[label][j] = euclidian(Y, centroid, nominal)\n",
    "        for j in range(cLabel):\n",
    "            min_distance_value[j] = min(x for x in distance[j] if x is not None)\n",
    "            min_distance_index[j] = distance[j].index(min(x for x in distance[j] if x is not None))\n",
    "            ncn[j][i] = min_distance_index[j]\n",
    "    return ncn"
   ]
  },
  {
   "cell_type": "markdown",
   "metadata": {
    "colab_type": "text",
    "heading_collapsed": true,
    "hidden": true,
    "id": "Cegy7uCE-Vq-"
   },
   "source": [
    "## Local Mean Vector"
   ]
  },
  {
   "cell_type": "code",
   "execution_count": 12,
   "metadata": {
    "ExecuteTime": {
     "end_time": "2020-06-02T18:41:28.092115Z",
     "start_time": "2020-06-02T18:41:28.011780Z"
    },
    "colab": {},
    "colab_type": "code",
    "deletable": false,
    "editable": false,
    "hidden": true,
    "id": "nayKWlHL-cSx",
    "scrolled": false
   },
   "outputs": [],
   "source": [
    "def localMeanVector(Xx, ncn):\n",
    "    lm_ncn = [[0 for i in range(len(ncn[0]))] for j in range(len(ncn))]\n",
    "    for i in range(len(ncn)):\n",
    "        lm_ncn[i][0] = Xx[ncn[i][0]]\n",
    "        for j in range(1, len(ncn[0])):\n",
    "            add = 0 + lm_ncn[i][0]\n",
    "            for a in range(j):\n",
    "                add += Xx[ncn[i][a + 1]]\n",
    "            lm_ncn[i][j] = add / (j+1)\n",
    "    return np.array(lm_ncn)"
   ]
  },
  {
   "cell_type": "markdown",
   "metadata": {
    "colab_type": "text",
    "hidden": true,
    "id": "Pimj9wplP7ax"
   },
   "source": [
    "## Harmonic Mean Distance"
   ]
  },
  {
   "cell_type": "code",
   "execution_count": 13,
   "metadata": {
    "ExecuteTime": {
     "end_time": "2020-06-02T18:41:28.181074Z",
     "start_time": "2020-06-02T18:41:28.094110Z"
    },
    "colab": {},
    "colab_type": "code",
    "deletable": false,
    "editable": false,
    "hidden": true,
    "id": "9NLHcN7hQGQ0",
    "scrolled": false
   },
   "outputs": [],
   "source": [
    "def harmonicMean(lm_ncn, Y, nominal):\n",
    "    k = len(lm_ncn[0])\n",
    "    hm_ncn = []\n",
    "    for i in range(len(lm_ncn)):\n",
    "        add = 0\n",
    "        for j in range(len(lm_ncn[0])):\n",
    "            distance = euclidian(Y, lm_ncn[i][j], nominal)\n",
    "            ## Centroid Lokal i Tepat Pada Data Uji\n",
    "            if distance == 0:\n",
    "                add =+ 0\n",
    "            else:\n",
    "                add += (1/distance)\n",
    "        ## Semua Centroid Lokal Tepat Pada Data Uji\n",
    "        if add == 0:\n",
    "            harmonic_mean = 0\n",
    "        else:\n",
    "            harmonic_mean = (k/add)\n",
    "        hm_ncn.append(harmonic_mean)\n",
    "    return hm_ncn"
   ]
  },
  {
   "cell_type": "markdown",
   "metadata": {
    "colab_type": "text",
    "heading_collapsed": true,
    "hidden": true,
    "id": "dWv3nlC8So_Y"
   },
   "source": [
    "## Classification Decision"
   ]
  },
  {
   "cell_type": "code",
   "execution_count": 14,
   "metadata": {
    "ExecuteTime": {
     "end_time": "2020-06-02T18:41:28.262061Z",
     "start_time": "2020-06-02T18:41:28.183090Z"
    },
    "colab": {},
    "colab_type": "code",
    "deletable": false,
    "editable": false,
    "hidden": true,
    "id": "-mb6a5heStfh",
    "scrolled": false
   },
   "outputs": [],
   "source": [
    "def decision(hm_ncn, Y_label):\n",
    "    min_distance_index = hm_ncn.index(min(x for x in hm_ncn))\n",
    "    return (min_distance_index + 1), Y_label[0]"
   ]
  },
  {
   "cell_type": "markdown",
   "metadata": {},
   "source": [
    "# Performance Evaluation"
   ]
  },
  {
   "cell_type": "markdown",
   "metadata": {
    "heading_collapsed": true
   },
   "source": [
    "## K Cross Fold Validation"
   ]
  },
  {
   "cell_type": "code",
   "execution_count": 15,
   "metadata": {
    "ExecuteTime": {
     "end_time": "2020-06-02T18:41:28.372814Z",
     "start_time": "2020-06-02T18:41:28.264030Z"
    },
    "deletable": false,
    "editable": false,
    "hidden": true,
    "scrolled": false
   },
   "outputs": [],
   "source": [
    "def crossValidation(data, cross_val, cross_index, label_index):\n",
    "    split_test = int(len(data) * (1 / cross_val))\n",
    "    change_index = (cross_index - 1) * split_test\n",
    "    \n",
    "    for i in range(split_test):\n",
    "        j = (i + change_index)\n",
    "        data[i], data[j] = data[j], data[i]\n",
    "    \n",
    "    data_train_feature = pd.DataFrame(data[split_test:]).drop([label_index], axis=1)\n",
    "    data_train_label = pd.DataFrame(pd.DataFrame(data[split_test:]), columns=[label_index]).astype(np.int)\n",
    "    data_test_feature = pd.DataFrame(data[0:split_test]).drop([label_index], axis=1)\n",
    "    data_test_label = pd.DataFrame(pd.DataFrame(data[0:split_test]), columns=[label_index]).astype(np.int)\n",
    "    \n",
    "    data_train_feature = np.array(data_train_feature)\n",
    "    data_train_label = np.array(data_train_label)\n",
    "    data_test_feature = np.array(data_test_feature)\n",
    "    data_test_label = np.array(data_test_label)\n",
    "\n",
    "    return data, data_train_feature, data_train_label, data_test_feature, data_test_label"
   ]
  },
  {
   "cell_type": "markdown",
   "metadata": {
    "colab_type": "text",
    "id": "h2Ym7FNVXFFQ"
   },
   "source": [
    "## LMKHNCN"
   ]
  },
  {
   "cell_type": "code",
   "execution_count": 16,
   "metadata": {
    "ExecuteTime": {
     "end_time": "2020-06-02T18:41:28.701486Z",
     "start_time": "2020-06-02T18:41:28.373777Z"
    },
    "colab": {},
    "colab_type": "code",
    "deletable": false,
    "editable": false,
    "id": "1glBAlFoXP5k",
    "scrolled": false
   },
   "outputs": [],
   "source": [
    "def lmkhncn(k, Xx, Xx_label, Yy, Yy_label, cLabel, nominal):\n",
    "    acc = 0\n",
    "    coff = np.array([[0 for i in range(jml_kelas)] for j in range(jml_kelas)])\n",
    "    \n",
    "    for i in range(len(Yy)):\n",
    "        jarak, jarak_index_min, jarak_nilai_min = closest(Xx, Xx_label, Yy[i], cLabel, nominal)\n",
    "        ncn = kncn(k, Xx, Xx_label, Yy[i], cLabel, jarak_index_min, nominal)\n",
    "        local_mean = localMeanVector(Xx, ncn)\n",
    "        harmonic_mean = harmonicMean(local_mean, Yy[i], nominal)\n",
    "        predict, actual = decision(harmonic_mean, Yy_label[i])\n",
    "        \n",
    "        coff[actual-1][predict-1] += 1\n",
    "        if(predict == actual):\n",
    "            acc += 1\n",
    "#         print(str(round((i+1)/len(Yy),2)*100)+\"%. Prediksi :\"+ str(predict) + \" Actual :\" + str(actual) + \" Acc Lokal: \"+ str(acc/(i+1)))\n",
    "    \n",
    "    acc /= len(Yy)\n",
    "    return acc, coff"
   ]
  },
  {
   "cell_type": "markdown",
   "metadata": {
    "colab_type": "text",
    "id": "1cLGE6CbfX6C"
   },
   "source": [
    "# Inisialisasi"
   ]
  },
  {
   "cell_type": "code",
   "execution_count": 17,
   "metadata": {
    "ExecuteTime": {
     "end_time": "2020-06-02T18:41:29.810605Z",
     "start_time": "2020-06-02T18:41:28.703483Z"
    },
    "deletable": false,
    "editable": false,
    "scrolled": false
   },
   "outputs": [],
   "source": [
    "k = 15\n",
    "nominal = [8] ##Kawin Attribute\n",
    "file = 'Dataset Pegawai.xlsx'\n",
    "cross_val = 10\n",
    "label_index = 9 #Kinerja\n",
    "normalisasi = False\n",
    "random_data = True\n",
    "data = extraction(file, normalisasi, random_data)\n",
    "arr_kelas, jml_kelas = count_label(data)"
   ]
  },
  {
   "cell_type": "markdown",
   "metadata": {
    "colab_type": "text",
    "id": "3QNRC_KPZAc1"
   },
   "source": [
    "# Testing"
   ]
  },
  {
   "cell_type": "code",
   "execution_count": null,
   "metadata": {
    "colab": {
     "base_uri": "https://localhost:8080/",
     "height": 1000
    },
    "colab_type": "code",
    "deletable": false,
    "editable": false,
    "id": "zsPF5oAwZABo",
    "outputId": "1c186c16-86c9-4614-e999-dac680a1e502",
    "run_control": {
     "frozen": true
    },
    "scrolled": false
   },
   "outputs": [],
   "source": [
    "arr_coff = [[] for i in range(k)]\n",
    "arr_mean_acc = [0 for i in range(k)]\n",
    "arr_std_acc  = [0 for i in range(k)]\n",
    "\n",
    "for a in range(1, k + 1): #Pengujian Parameter K\n",
    "    arr_acc = [0 for i in range(cross_val)]\n",
    "    for i in range(1, cross_val + 1):\n",
    "        data, train_f, train_l, test_f, test_l = crossValidation(data, cross_val, i, label_index)\n",
    "        acc, coff = lmkhncn(a, train_f, train_l, test_f, test_l, jml_kelas, nominal)\n",
    "        arr_acc[i-1] = acc\n",
    "        arr_coff[a-1].append(np.array(coff))\n",
    "        print(\"Cross-\"+str(i)+\" Acc:\"+ str(acc))\n",
    "    mean, std = evaluation(arr_acc)\n",
    "    arr_mean_acc[a-1] = mean\n",
    "    arr_std_acc[a-1] = std\n",
    "    print('K-{0} Mean : {1} with Standar Deviation : {2}.'.format(a,mean,std))"
   ]
  },
  {
   "cell_type": "code",
   "execution_count": 18,
   "metadata": {
    "ExecuteTime": {
     "end_time": "2020-06-02T18:41:29.824541Z",
     "start_time": "2020-06-02T18:41:29.812572Z"
    }
   },
   "outputs": [
    {
     "name": "stdout",
     "output_type": "stream",
     "text": [
      "[0.91352584 0.91306991 0.91231003 0.9106383  0.9106383  0.9100304\n",
      " 0.90927052 0.90790274 0.90638298 0.90683891 0.90668693 0.90714286\n",
      " 0.90683891 0.90668693 0.90668693]\n",
      "[0.0074592  0.00534298 0.00763063 0.00734532 0.00583872 0.00595621\n",
      " 0.0063047  0.00612445 0.0075132  0.00741573 0.00690445 0.00667483\n",
      " 0.00666097 0.00649063 0.00706973]\n",
      "[[[[223  16   1]\n",
      "   [ 22 305   4]\n",
      "   [  4   8  75]]\n",
      "\n",
      "  [[225  21   1]\n",
      "   [ 21 293   6]\n",
      "   [  0   7  84]]\n",
      "\n",
      "  [[221  18   0]\n",
      "   [ 22 303  10]\n",
      "   [  1   8  75]]\n",
      "\n",
      "  ...\n",
      "\n",
      "  [[214  19   3]\n",
      "   [ 30 302   3]\n",
      "   [  1  11  75]]\n",
      "\n",
      "  [[235  20   0]\n",
      "   [ 24 290   5]\n",
      "   [  3   7  74]]\n",
      "\n",
      "  [[258  22   0]\n",
      "   [ 19 278   5]\n",
      "   [  1  13  62]]]\n",
      "\n",
      "\n",
      " [[[258  22   0]\n",
      "   [ 15 278   9]\n",
      "   [  0  14  62]]\n",
      "\n",
      "  [[219  19   2]\n",
      "   [ 19 305   7]\n",
      "   [  6  10  71]]\n",
      "\n",
      "  [[221  25   1]\n",
      "   [ 15 302   3]\n",
      "   [  2  12  77]]\n",
      "\n",
      "  ...\n",
      "\n",
      "  [[226  18   0]\n",
      "   [ 16 297   4]\n",
      "   [  4  13  80]]\n",
      "\n",
      "  [[212  21   3]\n",
      "   [ 23 311   1]\n",
      "   [  3   8  76]]\n",
      "\n",
      "  [[234  20   1]\n",
      "   [ 18 295   6]\n",
      "   [  3   9  72]]]\n",
      "\n",
      "\n",
      " [[[234  20   1]\n",
      "   [ 15 298   6]\n",
      "   [  3   9  72]]\n",
      "\n",
      "  [[257  23   0]\n",
      "   [ 16 278   8]\n",
      "   [  1  12  63]]\n",
      "\n",
      "  [[215  24   1]\n",
      "   [ 13 310   8]\n",
      "   [  6  11  70]]\n",
      "\n",
      "  ...\n",
      "\n",
      "  [[238  31   3]\n",
      "   [ 14 301   4]\n",
      "   [  1   9  57]]\n",
      "\n",
      "  [[228  16   0]\n",
      "   [ 14 298   5]\n",
      "   [  4  13  80]]\n",
      "\n",
      "  [[212  21   3]\n",
      "   [ 21 312   2]\n",
      "   [  3   9  75]]]\n",
      "\n",
      "\n",
      " ...\n",
      "\n",
      "\n",
      " [[[230  25   0]\n",
      "   [ 15 299   5]\n",
      "   [  3  13  68]]\n",
      "\n",
      "  [[257  23   0]\n",
      "   [ 17 282   3]\n",
      "   [  0  13  63]]\n",
      "\n",
      "  [[208  31   1]\n",
      "   [ 14 314   3]\n",
      "   [  7  12  68]]\n",
      "\n",
      "  ...\n",
      "\n",
      "  [[236  35   1]\n",
      "   [ 11 301   7]\n",
      "   [  1  12  54]]\n",
      "\n",
      "  [[219  25   0]\n",
      "   [ 14 300   3]\n",
      "   [  3  15  79]]\n",
      "\n",
      "  [[209  25   2]\n",
      "   [ 17 316   2]\n",
      "   [  3  12  72]]]\n",
      "\n",
      "\n",
      " [[[209  26   1]\n",
      "   [ 16 317   2]\n",
      "   [  3  13  71]]\n",
      "\n",
      "  [[230  25   0]\n",
      "   [ 14 300   5]\n",
      "   [  2  14  68]]\n",
      "\n",
      "  [[257  23   0]\n",
      "   [ 17 282   3]\n",
      "   [  0  13  63]]\n",
      "\n",
      "  ...\n",
      "\n",
      "  [[233  26   0]\n",
      "   [ 15 306   3]\n",
      "   [  0  11  64]]\n",
      "\n",
      "  [[237  34   1]\n",
      "   [ 11 301   7]\n",
      "   [  1  12  54]]\n",
      "\n",
      "  [[219  25   0]\n",
      "   [ 13 301   3]\n",
      "   [  3  15  79]]]\n",
      "\n",
      "\n",
      " [[[219  25   0]\n",
      "   [ 13 301   3]\n",
      "   [  3  14  80]]\n",
      "\n",
      "  [[209  26   1]\n",
      "   [ 15 318   2]\n",
      "   [  3  14  70]]\n",
      "\n",
      "  [[231  24   0]\n",
      "   [ 14 300   5]\n",
      "   [  2  15  67]]\n",
      "\n",
      "  ...\n",
      "\n",
      "  [[205  25   0]\n",
      "   [ 19 312   7]\n",
      "   [  4   9  77]]\n",
      "\n",
      "  [[233  26   0]\n",
      "   [ 14 307   3]\n",
      "   [  0  12  63]]\n",
      "\n",
      "  [[237  34   1]\n",
      "   [ 11 301   7]\n",
      "   [  1  12  54]]]]\n"
     ]
    }
   ],
   "source": [
    "print(np.array(arr_mean_acc))\n",
    "print(np.array(arr_std_acc))\n",
    "print(np.array(arr_coff))"
   ]
  },
  {
   "cell_type": "code",
   "execution_count": 19,
   "metadata": {
    "ExecuteTime": {
     "end_time": "2020-06-02T18:41:29.919288Z",
     "start_time": "2020-06-02T18:41:29.826535Z"
    }
   },
   "outputs": [
    {
     "name": "stdout",
     "output_type": "stream",
     "text": [
      "[[0.95866454 0.9617225  0.9917763 ]\n",
      " [0.9755302  0.9432177  0.985173  ]\n",
      " [0.9710611  0.95418644 0.9885434 ]\n",
      " [0.96135265 0.947619   0.9933444 ]\n",
      " [0.9741936  0.9452269  0.99505764]\n",
      " [0.97712415 0.93583727 0.9917081 ]\n",
      " [0.977492   0.9485179  0.99509   ]\n",
      " [0.9675851  0.9506369  0.9835255 ]\n",
      " [0.9691057  0.943038   0.9883914 ]\n",
      " [0.9642276  0.9353312  0.99663866]\n",
      " [0.9655738  0.93343896 0.98991597]\n",
      " [0.97244734 0.9433962  0.9917355 ]\n",
      " [0.97073174 0.9401575  0.99169433]\n",
      " [0.96915585 0.9386792  0.995     ]\n",
      " [0.97402596 0.9389671  0.99502486]]\n",
      "[[0.9725807  0.95866454 0.9804878 ]\n",
      " [0.9645161  0.9614148  0.97712415]\n",
      " [0.9664     0.9664     0.9805195 ]\n",
      " [0.9598071  0.9644588  0.9770867 ]\n",
      " [0.9648562  0.9757674  0.9726248 ]\n",
      " [0.94770205 0.9739414  0.9819376 ]\n",
      " [0.96202534 0.974359   0.98381877]\n",
      " [0.9629032  0.9567308  0.9819079 ]\n",
      " [0.95974237 0.95974237 0.9802632 ]\n",
      " [0.95337623 0.965798   0.9753289 ]\n",
      " [0.95       0.96875    0.96875   ]\n",
      " [0.96308184 0.96463025 0.97879285]\n",
      " [0.9598071  0.9675851  0.9738989 ]\n",
      " [0.9567308  0.97073174 0.9738989 ]\n",
      " [0.96       0.97402596 0.97244734]]\n",
      "[0.97064942 0.96782933 0.97118508 0.9672781  0.97128768 0.96804174\n",
      " 0.97355048 0.96721488 0.96671383 0.96511666 0.9627381  0.96901396\n",
      " 0.96731241 0.96736598 0.96908181]\n"
     ]
    }
   ],
   "source": [
    "precision, recall = calcPrecRec(arr_coff)\n",
    "f1Score = calcF1Score(precision,recall)\n",
    "print(precision)\n",
    "print(recall)\n",
    "print(f1Score)"
   ]
  },
  {
   "cell_type": "markdown",
   "metadata": {},
   "source": [
    "# Save Data"
   ]
  },
  {
   "cell_type": "code",
   "execution_count": 20,
   "metadata": {
    "deletable": false,
    "editable": false,
    "run_control": {
     "frozen": true
    }
   },
   "outputs": [],
   "source": [
    "# dill.dump_session('Pengujian.db')"
   ]
  }
 ],
 "metadata": {
  "colab": {
   "collapsed_sections": [],
   "name": "Pengujian.ipynb",
   "provenance": [],
   "toc_visible": true
  },
  "kernelspec": {
   "display_name": "Python 3",
   "language": "python",
   "name": "python3"
  },
  "language_info": {
   "codemirror_mode": {
    "name": "ipython",
    "version": 3
   },
   "file_extension": ".py",
   "mimetype": "text/x-python",
   "name": "python",
   "nbconvert_exporter": "python",
   "pygments_lexer": "ipython3",
   "version": "3.6.2"
  },
  "notify_time": "30",
  "toc": {
   "base_numbering": "1",
   "nav_menu": {
    "height": "140px",
    "width": "172px"
   },
   "number_sections": true,
   "sideBar": true,
   "skip_h1_title": false,
   "title_cell": "Table of Contents",
   "title_sidebar": "Contents",
   "toc_cell": false,
   "toc_position": {
    "height": "359.6px",
    "left": "937px",
    "top": "158.8px",
    "width": "215px"
   },
   "toc_section_display": true,
   "toc_window_display": true
  }
 },
 "nbformat": 4,
 "nbformat_minor": 1
}
