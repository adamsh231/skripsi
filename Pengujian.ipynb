{
 "cells": [
  {
   "cell_type": "markdown",
   "metadata": {
    "heading_collapsed": true
   },
   "source": [
    "# Import Library"
   ]
  },
  {
   "cell_type": "code",
   "execution_count": 1,
   "metadata": {
    "ExecuteTime": {
     "end_time": "2020-06-12T00:47:48.498473Z",
     "start_time": "2020-06-12T00:47:47.435751Z"
    },
    "colab": {},
    "colab_type": "code",
    "deletable": false,
    "editable": false,
    "hidden": true,
    "id": "hkk4mnq5jd6O",
    "scrolled": false
   },
   "outputs": [],
   "source": [
    "import numpy as np\n",
    "import pandas as pd\n",
    "import math\n",
    "import random\n",
    "import dill\n",
    "try:\n",
    "    dill.load_session('Pengujian.db')\n",
    "except Exception as ex:\n",
    "    print(\"Data Belum Tersimpan!\")"
   ]
  },
  {
   "cell_type": "markdown",
   "metadata": {
    "heading_collapsed": true
   },
   "source": [
    "# Support"
   ]
  },
  {
   "cell_type": "markdown",
   "metadata": {
    "colab_type": "text",
    "heading_collapsed": true,
    "hidden": true,
    "id": "6PMrAgyjf-sP"
   },
   "source": [
    "## Identify Label"
   ]
  },
  {
   "cell_type": "code",
   "execution_count": 2,
   "metadata": {
    "ExecuteTime": {
     "end_time": "2020-06-12T00:47:48.983015Z",
     "start_time": "2020-06-12T00:47:48.500461Z"
    },
    "colab": {},
    "colab_type": "code",
    "deletable": false,
    "editable": false,
    "hidden": true,
    "id": "QLNn6_tQgAVc",
    "scrolled": false
   },
   "outputs": [],
   "source": [
    "def count_label(data):\n",
    "    distinct = [data[0][-1]]\n",
    "    for i in range(len(data)):\n",
    "        check = True\n",
    "        for j in range(len(distinct)):\n",
    "            if distinct[j] == data[i][-1]:\n",
    "                check = False\n",
    "        if check:\n",
    "            distinct.append(data[i][-1])\n",
    "    return np.array(distinct).astype(int), len(distinct)"
   ]
  },
  {
   "cell_type": "markdown",
   "metadata": {
    "hidden": true
   },
   "source": [
    "## Model Evaluation Performance"
   ]
  },
  {
   "cell_type": "markdown",
   "metadata": {
    "heading_collapsed": true,
    "hidden": true
   },
   "source": [
    "### Mean + STD"
   ]
  },
  {
   "cell_type": "code",
   "execution_count": 3,
   "metadata": {
    "ExecuteTime": {
     "end_time": "2020-06-12T00:47:49.065795Z",
     "start_time": "2020-06-12T00:47:48.986008Z"
    },
    "deletable": false,
    "editable": false,
    "hidden": true,
    "scrolled": false
   },
   "outputs": [],
   "source": [
    "def evaluation(arr_acc):\n",
    "    mean = np.mean(arr_acc)\n",
    "    varian = sum((arr_acc - mean) * (arr_acc - mean)) / len(arr_acc)\n",
    "    std = math.sqrt(varian)\n",
    "    return mean, std"
   ]
  },
  {
   "cell_type": "markdown",
   "metadata": {
    "deletable": false,
    "editable": false,
    "hidden": true
   },
   "source": [
    "### Pick Random Confussion Matrix"
   ]
  },
  {
   "cell_type": "code",
   "execution_count": 4,
   "metadata": {
    "ExecuteTime": {
     "end_time": "2020-06-12T00:47:49.154556Z",
     "start_time": "2020-06-12T00:47:49.067789Z"
    },
    "deletable": false,
    "editable": false,
    "hidden": true
   },
   "outputs": [],
   "source": [
    "def toNumpyArray(coff):\n",
    "    coff = np.array(coff)\n",
    "    for i in range(len(coff)):\n",
    "        coff[i] = np.array(coff[i])\n",
    "        for j in range(len(coff[i])):\n",
    "            coff[i][j] = np.array(coff[i][j])\n",
    "    return coff\n",
    "\n",
    "def pickCoff(coff):\n",
    "    coff = toNumpyArray(coff)\n",
    "    choosen_coff = []\n",
    "    for i in range(len(coff)):\n",
    "        for j in range(len(coff[i])):\n",
    "            acc = 0\n",
    "            for k in range(len(coff[i][j])):\n",
    "                for l in range(len(coff[i][j][k])):\n",
    "                    if k == l:\n",
    "                        acc += coff[i][j][k][l]\n",
    "            acc /= np.sum(coff[i][j])\n",
    "            if acc != 1:\n",
    "                choosen_coff.append(coff[i][j])\n",
    "                break\n",
    "            elif j == len(coff[i]) - 1:\n",
    "                choosen_coff.append(coff[i][j])\n",
    "    return np.array(choosen_coff)"
   ]
  },
  {
   "cell_type": "markdown",
   "metadata": {
    "colab_type": "text",
    "heading_collapsed": true,
    "hidden": true,
    "id": "qFjAlvj6gGPh"
   },
   "source": [
    "## Euclidian Distance"
   ]
  },
  {
   "cell_type": "code",
   "execution_count": 5,
   "metadata": {
    "ExecuteTime": {
     "end_time": "2020-06-12T00:47:49.353054Z",
     "start_time": "2020-06-12T00:47:49.156550Z"
    },
    "colab": {},
    "colab_type": "code",
    "deletable": false,
    "editable": false,
    "hidden": true,
    "id": "JhBa0l7kgRg2",
    "scrolled": false
   },
   "outputs": [],
   "source": [
    "def euclidian(X, Y, categories = []):\n",
    "    euc = 0\n",
    "    for i in range(len(X)):\n",
    "        if not i in categories: ## similarity matrix\n",
    "            euc += math.pow((X[i]-Y[i]), 2)\n",
    "    euc = math.sqrt(euc)\n",
    "    ##------------Similiratity Matrix-------------##\n",
    "    if len(categories) != 0:\n",
    "        p = len(categories)\n",
    "        m = 0\n",
    "        for i in range(len(categories)):\n",
    "            if X[categories[i]] == Y[categories[i]]:\n",
    "                m += 1\n",
    "        cat_dist = (p-m)/p\n",
    "        euc += cat_dist\n",
    "    ##--------------------------------------------##\n",
    "    return euc"
   ]
  },
  {
   "cell_type": "markdown",
   "metadata": {
    "heading_collapsed": true
   },
   "source": [
    "# Pre Processing"
   ]
  },
  {
   "cell_type": "markdown",
   "metadata": {
    "colab_type": "text",
    "hidden": true,
    "id": "K0_E2oPPMyvm"
   },
   "source": [
    "## Random Data"
   ]
  },
  {
   "cell_type": "code",
   "execution_count": 6,
   "metadata": {
    "ExecuteTime": {
     "end_time": "2020-06-12T00:47:49.441789Z",
     "start_time": "2020-06-12T00:47:49.355021Z"
    },
    "colab": {},
    "colab_type": "code",
    "deletable": false,
    "editable": false,
    "hidden": true,
    "id": "SUKJZX2OI1gG",
    "scrolled": false
   },
   "outputs": [],
   "source": [
    "def randomize(arr):\n",
    "    for i in range(len(arr)-1, 0, -1):\n",
    "        j = random.randint(0, i)\n",
    "        arr[i], arr[j] = arr[j], arr[i]\n",
    "    return arr"
   ]
  },
  {
   "cell_type": "markdown",
   "metadata": {
    "colab_type": "text",
    "hidden": true,
    "id": "87enrK1db87J"
   },
   "source": [
    "## Normalisasi"
   ]
  },
  {
   "cell_type": "code",
   "execution_count": 7,
   "metadata": {
    "ExecuteTime": {
     "end_time": "2020-06-12T00:47:49.652226Z",
     "start_time": "2020-06-12T00:47:49.444781Z"
    },
    "colab": {},
    "colab_type": "code",
    "deletable": false,
    "editable": false,
    "hidden": true,
    "id": "4ViDg5Zhb_ZJ",
    "scrolled": false
   },
   "outputs": [],
   "source": [
    "def normalize(data):\n",
    "    data = np.array(data).astype(float)\n",
    "    max_value = np.max(data, axis=0)\n",
    "    min_value = np.min(data, axis=0)\n",
    "    for i in range(len(data)):\n",
    "        for j in range(len(data[0])-1):\n",
    "            data[i][j] = (data[i][j] - min_value[j]) / (max_value[j] - min_value[j])\n",
    "    return data"
   ]
  },
  {
   "cell_type": "markdown",
   "metadata": {
    "hidden": true
   },
   "source": [
    "## Missing Value"
   ]
  },
  {
   "cell_type": "code",
   "execution_count": 8,
   "metadata": {
    "ExecuteTime": {
     "end_time": "2020-06-12T00:47:49.747978Z",
     "start_time": "2020-06-12T00:47:49.657213Z"
    },
    "deletable": false,
    "editable": false,
    "hidden": true
   },
   "outputs": [],
   "source": [
    "def handleMissValue(data):\n",
    "    filled_data = np.array([[0 for i in range(len(data[0]))] for j in range(len(data))])\n",
    "    cLabel = count_label(data)[1]\n",
    "    arr_data = [[] for j in range(cLabel)]\n",
    "    mean = []\n",
    "    for i in range(len(data)):\n",
    "        arr_data[int(data[i][-1])-1].append(data[i])\n",
    "    counter = 0\n",
    "    for i in range(len(arr_data)):\n",
    "        mean.append(np.nanmean(arr_data[i], axis=0))\n",
    "        for j in range(len(arr_data[i])):\n",
    "            for k in range(len(arr_data[i][j])):\n",
    "                if np.isnan(arr_data[i][j][k]):\n",
    "                    arr_data[i][j][k] = mean[i][k]\n",
    "            filled_data[counter] = arr_data[i][j]\n",
    "            counter += 1\n",
    "    return filled_data"
   ]
  },
  {
   "cell_type": "markdown",
   "metadata": {
    "colab_type": "text",
    "hidden": true,
    "id": "VTR3dPCYfv8r"
   },
   "source": [
    "## Ekstraksi File \n"
   ]
  },
  {
   "cell_type": "code",
   "execution_count": 9,
   "metadata": {
    "ExecuteTime": {
     "end_time": "2020-06-12T00:47:49.851700Z",
     "start_time": "2020-06-12T00:47:49.750968Z"
    },
    "colab": {},
    "colab_type": "code",
    "deletable": false,
    "editable": false,
    "hidden": true,
    "id": "TyEfDO9gI2JJ",
    "scrolled": false
   },
   "outputs": [],
   "source": [
    "def extraction(file, is_normal = True, is_random = True):\n",
    "    data = pd.read_excel(file)\n",
    "    data = handleMissValue(np.array(data))\n",
    "    data = pd.DataFrame(data)\n",
    "    data.drop_duplicates()\n",
    "    data = np.array(data)\n",
    "    if is_normal:\n",
    "        data = normalize(data)\n",
    "    if is_random:\n",
    "        data = randomize(data.tolist())\n",
    "    return data"
   ]
  },
  {
   "cell_type": "markdown",
   "metadata": {
    "heading_collapsed": true
   },
   "source": [
    "# LMKHNCN"
   ]
  },
  {
   "cell_type": "markdown",
   "metadata": {
    "hidden": true
   },
   "source": [
    "## Set of KNCN"
   ]
  },
  {
   "cell_type": "markdown",
   "metadata": {
    "colab_type": "text",
    "heading_collapsed": true,
    "hidden": true,
    "id": "-GHhQf-shskl"
   },
   "source": [
    "### 1 NCN"
   ]
  },
  {
   "cell_type": "code",
   "execution_count": 10,
   "metadata": {
    "ExecuteTime": {
     "end_time": "2020-06-12T00:47:49.962404Z",
     "start_time": "2020-06-12T00:47:49.854692Z"
    },
    "colab": {},
    "colab_type": "code",
    "deletable": false,
    "editable": false,
    "hidden": true,
    "id": "lsiAuPM1hv8L",
    "scrolled": false
   },
   "outputs": [],
   "source": [
    "def closest(Xx, Xx_label, Y, cLabel, nominal):\n",
    "    distance = [[None for i in range(len(Xx))] for j in range(cLabel)]\n",
    "    min_distance_value = [0 for i in range(cLabel)]\n",
    "    min_distance_index = [0 for i in range(cLabel)]\n",
    "    for i in range(len(Xx)):\n",
    "        distance[((Xx_label[i][0])-1)][i] = euclidian(Xx[i], Y, nominal)\n",
    "    for i in range(cLabel):\n",
    "        min_distance_value[i] = min(x for x in distance[i] if x is not None)\n",
    "        min_distance_index[i] = distance[i].index(min(x for x in distance[i] if x is not None))\n",
    "    return np.array(distance), min_distance_index, min_distance_value"
   ]
  },
  {
   "cell_type": "markdown",
   "metadata": {
    "colab_type": "text",
    "hidden": true,
    "id": "OAaqAUIhrmw1"
   },
   "source": [
    "### N NCN"
   ]
  },
  {
   "cell_type": "code",
   "execution_count": 11,
   "metadata": {
    "ExecuteTime": {
     "end_time": "2020-06-12T00:47:50.062142Z",
     "start_time": "2020-06-12T00:47:49.965395Z"
    },
    "colab": {},
    "colab_type": "code",
    "deletable": false,
    "editable": false,
    "hidden": true,
    "id": "W-bltI-QrqxG",
    "scrolled": false
   },
   "outputs": [],
   "source": [
    "def kncn(k, Xx, Xx_label, Y, cLabel, close_dist, nominal):\n",
    "    ncn = np.array([[0 for i in range(k)] for j in range(cLabel)])\n",
    "    for i in range(cLabel):\n",
    "        ncn[i][0] = close_dist[i]\n",
    "\n",
    "    for i in range (1, k):\n",
    "        distance = [[None for i in range(len(Xx))] for j in range(cLabel)]\n",
    "        min_distance_value = [0 for i in range(cLabel)]\n",
    "        min_distance_index = [0 for i in range(cLabel)]\n",
    "        for j in range(len(Xx)):\n",
    "            label = Xx_label[j][0] - 1\n",
    "            check = True\n",
    "            for a in range(i):\n",
    "                if ncn[label][a] == j:\n",
    "                    check = False\n",
    "            if check:\n",
    "                add = 0 + Xx[j]\n",
    "                for a in range(i):\n",
    "                    indeks_ncn = ncn[label][a]\n",
    "                    add += Xx[indeks_ncn]\n",
    "                centroid = add / (i+1)\n",
    "                distance[label][j] = euclidian(Y, centroid, nominal)\n",
    "        for j in range(cLabel):\n",
    "            min_distance_value[j] = min(x for x in distance[j] if x is not None)\n",
    "            min_distance_index[j] = distance[j].index(min(x for x in distance[j] if x is not None))\n",
    "            ncn[j][i] = min_distance_index[j]\n",
    "    return ncn"
   ]
  },
  {
   "cell_type": "markdown",
   "metadata": {
    "colab_type": "text",
    "heading_collapsed": true,
    "hidden": true,
    "id": "Cegy7uCE-Vq-"
   },
   "source": [
    "## Local Mean Vector"
   ]
  },
  {
   "cell_type": "code",
   "execution_count": 12,
   "metadata": {
    "ExecuteTime": {
     "end_time": "2020-06-12T00:47:50.150418Z",
     "start_time": "2020-06-12T00:47:50.064136Z"
    },
    "colab": {},
    "colab_type": "code",
    "deletable": false,
    "editable": false,
    "hidden": true,
    "id": "nayKWlHL-cSx",
    "scrolled": false
   },
   "outputs": [],
   "source": [
    "def localMeanVector(Xx, ncn):\n",
    "    lm_ncn = [[0 for i in range(len(ncn[0]))] for j in range(len(ncn))]\n",
    "    for i in range(len(ncn)):\n",
    "        lm_ncn[i][0] = Xx[ncn[i][0]]\n",
    "        for j in range(1, len(ncn[0])):\n",
    "            add = 0 + lm_ncn[i][0]\n",
    "            for a in range(j):\n",
    "                add += Xx[ncn[i][a + 1]]\n",
    "            lm_ncn[i][j] = add / (j+1)\n",
    "    return np.array(lm_ncn)"
   ]
  },
  {
   "cell_type": "markdown",
   "metadata": {
    "colab_type": "text",
    "hidden": true,
    "id": "Pimj9wplP7ax"
   },
   "source": [
    "## Harmonic Mean Distance"
   ]
  },
  {
   "cell_type": "code",
   "execution_count": 13,
   "metadata": {
    "ExecuteTime": {
     "end_time": "2020-06-12T00:47:50.238694Z",
     "start_time": "2020-06-12T00:47:50.152414Z"
    },
    "colab": {},
    "colab_type": "code",
    "deletable": false,
    "editable": false,
    "hidden": true,
    "id": "9NLHcN7hQGQ0",
    "scrolled": false
   },
   "outputs": [],
   "source": [
    "def harmonicMean(lm_ncn, Y, nominal):\n",
    "    k = len(lm_ncn[0])\n",
    "    hm_ncn = []\n",
    "    for i in range(len(lm_ncn)):\n",
    "        add = 0\n",
    "        for j in range(len(lm_ncn[0])):\n",
    "            distance = euclidian(Y, lm_ncn[i][j], nominal)\n",
    "            ## Centroid Lokal i Tepat Pada Data Uji\n",
    "            if distance == 0:\n",
    "                add =+ 0\n",
    "            else:\n",
    "                add += (1/distance)\n",
    "        ## Semua Centroid Lokal Tepat Pada Data Uji\n",
    "        if add == 0:\n",
    "            harmonic_mean = 0\n",
    "        else:\n",
    "            harmonic_mean = (k/add)\n",
    "        hm_ncn.append(harmonic_mean)\n",
    "    return hm_ncn"
   ]
  },
  {
   "cell_type": "markdown",
   "metadata": {
    "colab_type": "text",
    "heading_collapsed": true,
    "hidden": true,
    "id": "dWv3nlC8So_Y"
   },
   "source": [
    "## Classification Decision"
   ]
  },
  {
   "cell_type": "code",
   "execution_count": 14,
   "metadata": {
    "ExecuteTime": {
     "end_time": "2020-06-12T00:47:50.326978Z",
     "start_time": "2020-06-12T00:47:50.241687Z"
    },
    "colab": {},
    "colab_type": "code",
    "deletable": false,
    "editable": false,
    "hidden": true,
    "id": "-mb6a5heStfh",
    "scrolled": false
   },
   "outputs": [],
   "source": [
    "def decision(hm_ncn, Y_label):\n",
    "    min_distance_index = hm_ncn.index(min(x for x in hm_ncn))\n",
    "    return (min_distance_index + 1), Y_label[0]"
   ]
  },
  {
   "cell_type": "markdown",
   "metadata": {
    "heading_collapsed": true
   },
   "source": [
    "# Performance Evaluation"
   ]
  },
  {
   "cell_type": "markdown",
   "metadata": {
    "heading_collapsed": true,
    "hidden": true
   },
   "source": [
    "## K Cross Fold Validation"
   ]
  },
  {
   "cell_type": "code",
   "execution_count": 15,
   "metadata": {
    "ExecuteTime": {
     "end_time": "2020-06-12T00:47:51.523016Z",
     "start_time": "2020-06-12T00:47:50.328969Z"
    },
    "deletable": false,
    "editable": false,
    "hidden": true,
    "scrolled": false
   },
   "outputs": [],
   "source": [
    "def crossValidation(data, cross_val, cross_index, label_index):\n",
    "    split_test = int(len(data) * (1 / cross_val))\n",
    "    change_index = (cross_index - 1) * split_test\n",
    "    \n",
    "    for i in range(split_test):\n",
    "        j = (i + change_index)\n",
    "        data[i], data[j] = data[j], data[i]\n",
    "    \n",
    "    data_train_feature = pd.DataFrame(data[split_test:]).drop([label_index], axis=1)\n",
    "    data_train_label = pd.DataFrame(pd.DataFrame(data[split_test:]), columns=[label_index]).astype(np.int)\n",
    "    data_test_feature = pd.DataFrame(data[0:split_test]).drop([label_index], axis=1)\n",
    "    data_test_label = pd.DataFrame(pd.DataFrame(data[0:split_test]), columns=[label_index]).astype(np.int)\n",
    "    \n",
    "    data_train_feature = np.array(data_train_feature)\n",
    "    data_train_label = np.array(data_train_label)\n",
    "    data_test_feature = np.array(data_test_feature)\n",
    "    data_test_label = np.array(data_test_label)\n",
    "\n",
    "    return data, data_train_feature, data_train_label, data_test_feature, data_test_label"
   ]
  },
  {
   "cell_type": "markdown",
   "metadata": {
    "colab_type": "text",
    "hidden": true,
    "id": "h2Ym7FNVXFFQ"
   },
   "source": [
    "## LMKHNCN"
   ]
  },
  {
   "cell_type": "code",
   "execution_count": 16,
   "metadata": {
    "ExecuteTime": {
     "end_time": "2020-06-12T00:47:51.634369Z",
     "start_time": "2020-06-12T00:47:51.527993Z"
    },
    "colab": {},
    "colab_type": "code",
    "deletable": false,
    "editable": false,
    "hidden": true,
    "id": "1glBAlFoXP5k",
    "scrolled": false
   },
   "outputs": [],
   "source": [
    "def lmkhncn(k, Xx, Xx_label, Yy, Yy_label, cLabel, nominal):\n",
    "    acc = 0\n",
    "    coff = np.array([[0 for i in range(jml_kelas)] for j in range(jml_kelas)])\n",
    "    \n",
    "    for i in range(len(Yy)):\n",
    "        jarak, jarak_index_min, jarak_nilai_min = closest(Xx, Xx_label, Yy[i], cLabel, nominal)\n",
    "        ncn = kncn(k, Xx, Xx_label, Yy[i], cLabel, jarak_index_min, nominal)\n",
    "        local_mean = localMeanVector(Xx, ncn)\n",
    "        harmonic_mean = harmonicMean(local_mean, Yy[i], nominal)\n",
    "        predict, actual = decision(harmonic_mean, Yy_label[i])\n",
    "        \n",
    "        coff[actual-1][predict-1] += 1\n",
    "        if(predict == actual):\n",
    "            acc += 1\n",
    "#         print(str(round((i+1)/len(Yy),2)*100)+\"%. Prediksi :\"+ str(predict) + \" Actual :\" + str(actual) + \" Acc Lokal: \"+ str(acc/(i+1)))\n",
    "    \n",
    "    acc /= len(Yy)\n",
    "    return acc, coff"
   ]
  },
  {
   "cell_type": "markdown",
   "metadata": {
    "colab_type": "text",
    "heading_collapsed": true,
    "id": "1cLGE6CbfX6C"
   },
   "source": [
    "# Inisialisasi"
   ]
  },
  {
   "cell_type": "code",
   "execution_count": 17,
   "metadata": {
    "ExecuteTime": {
     "end_time": "2020-06-12T00:47:53.133088Z",
     "start_time": "2020-06-12T00:47:51.636364Z"
    },
    "deletable": false,
    "editable": false,
    "hidden": true,
    "scrolled": false
   },
   "outputs": [],
   "source": [
    "k = 15\n",
    "nominal = [8] ##Kawin Attribute\n",
    "file = 'Dataset Pegawai.xlsx'\n",
    "cross_val = 10\n",
    "label_index = 9 #Kinerja\n",
    "normalisasi = False\n",
    "random_data = True\n",
    "data = extraction(file, normalisasi, random_data)\n",
    "arr_kelas, jml_kelas = count_label(data)"
   ]
  },
  {
   "cell_type": "markdown",
   "metadata": {
    "colab_type": "text",
    "id": "3QNRC_KPZAc1"
   },
   "source": [
    "# Testing"
   ]
  },
  {
   "cell_type": "code",
   "execution_count": null,
   "metadata": {
    "colab": {
     "base_uri": "https://localhost:8080/",
     "height": 1000
    },
    "colab_type": "code",
    "deletable": false,
    "editable": false,
    "id": "zsPF5oAwZABo",
    "outputId": "1c186c16-86c9-4614-e999-dac680a1e502",
    "run_control": {
     "frozen": true
    },
    "scrolled": false
   },
   "outputs": [],
   "source": [
    "arr_coff = [[] for i in range(k)]\n",
    "arr_mean_acc = [0 for i in range(k)]\n",
    "arr_std_acc  = [0 for i in range(k)]\n",
    "\n",
    "for a in range(1, k + 1): #Pengujian Parameter K\n",
    "    arr_acc = [0 for i in range(cross_val)]\n",
    "    for i in range(1, cross_val + 1):\n",
    "        data, train_f, train_l, test_f, test_l = crossValidation(data, cross_val, i, label_index)\n",
    "        acc, coff = lmkhncn(a, train_f, train_l, test_f, test_l, jml_kelas, nominal)\n",
    "        arr_acc[i-1] = acc\n",
    "        arr_coff[a-1].append(np.array(coff))\n",
    "        print(\"Cross-\"+str(i)+\" Acc:\"+ str(acc))\n",
    "    mean, std = evaluation(arr_acc)\n",
    "    arr_mean_acc[a-1] = mean\n",
    "    arr_std_acc[a-1] = std\n",
    "    print('K-{0} Mean : {1} with Standar Deviation : {2}.'.format(a,mean,std))"
   ]
  },
  {
   "cell_type": "code",
   "execution_count": 18,
   "metadata": {
    "ExecuteTime": {
     "end_time": "2020-06-12T00:47:53.145062Z",
     "start_time": "2020-06-12T00:47:53.136080Z"
    },
    "deletable": false,
    "editable": false
   },
   "outputs": [
    {
     "name": "stdout",
     "output_type": "stream",
     "text": [
      "[0.91352584 0.91306991 0.91231003 0.9106383  0.9106383  0.9100304\n",
      " 0.90927052 0.90790274 0.90638298 0.90683891 0.90668693 0.90714286\n",
      " 0.90683891 0.90668693 0.90668693]\n",
      "[0.0074592  0.00534298 0.00763063 0.00734532 0.00583872 0.00595621\n",
      " 0.0063047  0.00612445 0.0075132  0.00741573 0.00690445 0.00667483\n",
      " 0.00666097 0.00649063 0.00706973]\n"
     ]
    }
   ],
   "source": [
    "print(np.array(arr_mean_acc))\n",
    "print(np.array(arr_std_acc))\n",
    "# print(np.array(arr_coff))"
   ]
  },
  {
   "cell_type": "markdown",
   "metadata": {},
   "source": [
    "## Manual Testing (Manual vs Library => Precision, Recall, dan F1-Score)"
   ]
  },
  {
   "cell_type": "code",
   "execution_count": 19,
   "metadata": {
    "ExecuteTime": {
     "end_time": "2020-06-12T00:47:53.240930Z",
     "start_time": "2020-06-12T00:47:53.148048Z"
    },
    "deletable": false,
    "editable": false
   },
   "outputs": [],
   "source": [
    "picked_coff = pickCoff(np.array(arr_coff))\n",
    "# print(np.array(picked_coff))"
   ]
  },
  {
   "cell_type": "markdown",
   "metadata": {
    "deletable": false,
    "editable": false,
    "heading_collapsed": true
   },
   "source": [
    "### Method (Manual)"
   ]
  },
  {
   "cell_type": "code",
   "execution_count": 20,
   "metadata": {
    "ExecuteTime": {
     "end_time": "2020-06-12T00:47:53.340453Z",
     "start_time": "2020-06-12T00:47:53.242926Z"
    },
    "deletable": false,
    "editable": false,
    "hidden": true
   },
   "outputs": [],
   "source": [
    "def calcPrecRec(coff):\n",
    "    tfn = []\n",
    "    tfp = []\n",
    "    ttp = []\n",
    "    precision = []\n",
    "    recall = []\n",
    "    f1score = []\n",
    "    for i in range(len(coff)):\n",
    "        tfn.append(np.sum(coff[i], axis = 1))\n",
    "        tfp.append(np.sum(coff[i], axis = 0))\n",
    "        ttp.append(np.sum(coff[i], axis = 1))\n",
    "        for j in range(len(coff[i])):\n",
    "            for k in range(len(coff[i][j])):\n",
    "                if j == k:\n",
    "                    tfn[i][j] -= coff[i][j][k]\n",
    "                    tfp[i][j] -= coff[i][j][k]\n",
    "                else:\n",
    "                    ttp[i][j] -= coff[i][j][k]\n",
    "    for i in range(len(tfn)):\n",
    "        precision.append(np.array([0 for i in range(len(tfn[i]))]).astype(np.float32))\n",
    "        recall.append(np.array([0 for i in range(len(tfn[i]))]).astype(np.float32))\n",
    "        f1score.append(np.array([0 for i in range(len(tfn[i]))]).astype(np.float32))\n",
    "        for j in range(len(tfn[i])):\n",
    "            precision[i][j] = ttp[i][j]/(ttp[i][j] + tfp[i][j])\n",
    "            recall[i][j] = ttp[i][j]/(ttp[i][j] + tfn[i][j])\n",
    "            f1score[i][j] = 2 * precision[i][j] * recall[i][j] / (precision[i][j] + recall[i][j])\n",
    "    return np.array(precision), np.array(recall), np.array(f1score)"
   ]
  },
  {
   "cell_type": "code",
   "execution_count": 21,
   "metadata": {
    "ExecuteTime": {
     "end_time": "2020-06-12T00:47:53.460181Z",
     "start_time": "2020-06-12T00:47:53.342447Z"
    },
    "deletable": false,
    "editable": false,
    "hidden": true
   },
   "outputs": [],
   "source": [
    "def calcAvg(precision, recall, f1score):\n",
    "    precision_mean = []\n",
    "    recall_mean = []\n",
    "    f1score_mean = []\n",
    "    for i in range(len(precision)):\n",
    "        precision_mean.append(np.average(precision[i]))\n",
    "        recall_mean.append(np.average(recall[i]))\n",
    "        f1score_mean.append(np.average(f1score[i]))\n",
    "    return np.array(precision_mean), np.array(recall_mean), np.array(f1score_mean)"
   ]
  },
  {
   "cell_type": "code",
   "execution_count": 22,
   "metadata": {
    "ExecuteTime": {
     "end_time": "2020-06-12T00:47:53.562582Z",
     "start_time": "2020-06-12T00:47:53.462127Z"
    },
    "deletable": false,
    "editable": false,
    "hidden": true
   },
   "outputs": [],
   "source": [
    "precision_arr, recall_arr, f1score_arr = calcPrecRec(picked_coff)\n",
    "f1Score_arr = calcF1Score(precision,recall)\n",
    "precision_arr_avg, recall_arr_avg, f1score_arr_avg = calcAvg(precision_arr, recall_arr, f1score_arr)"
   ]
  },
  {
   "cell_type": "markdown",
   "metadata": {
    "heading_collapsed": true
   },
   "source": [
    "### Method (Library)"
   ]
  },
  {
   "cell_type": "code",
   "execution_count": 23,
   "metadata": {
    "ExecuteTime": {
     "end_time": "2020-06-12T00:47:54.367651Z",
     "start_time": "2020-06-12T00:47:53.567572Z"
    },
    "deletable": false,
    "editable": false,
    "hidden": true
   },
   "outputs": [],
   "source": [
    "from sklearn.metrics import confusion_matrix #confussion matrix\n",
    "from sklearn.metrics import recall_score # recall\n",
    "from sklearn.metrics import precision_score #precision\n",
    "from sklearn.metrics import f1_score #f1 score"
   ]
  },
  {
   "cell_type": "code",
   "execution_count": 24,
   "metadata": {
    "ExecuteTime": {
     "end_time": "2020-06-12T00:47:54.380532Z",
     "start_time": "2020-06-12T00:47:54.369561Z"
    },
    "deletable": false,
    "editable": false,
    "hidden": true
   },
   "outputs": [],
   "source": [
    "def splitCoff(picked_coff):\n",
    "    actual = []\n",
    "    predict = []\n",
    "    for i in range(len(picked_coff)):\n",
    "        predict.append([])\n",
    "        actual.append([])\n",
    "        for j in range(len(picked_coff[i])):\n",
    "            for k in range(len(picked_coff[i][j])):\n",
    "                for l in range(picked_coff[i][j][k]):\n",
    "                    if j == k:\n",
    "                        actual[i].append(j)\n",
    "                        predict[i].append(j)\n",
    "                    else:\n",
    "                        actual[i].append(j)\n",
    "                        predict[i].append(k)\n",
    "    return actual, predict"
   ]
  },
  {
   "cell_type": "code",
   "execution_count": 25,
   "metadata": {
    "ExecuteTime": {
     "end_time": "2020-06-12T00:47:54.697763Z",
     "start_time": "2020-06-12T00:47:54.383525Z"
    },
    "deletable": false,
    "editable": false,
    "hidden": true
   },
   "outputs": [],
   "source": [
    "picked_coff = pickCoff(np.array(arr_coff))\n",
    "\n",
    "precision_lib_arr = []\n",
    "recall_lib_arr = []\n",
    "f1score_lib_arr = []\n",
    "\n",
    "precision_lib_arr_avg = []\n",
    "recall_lib_arr_avg = []\n",
    "f1score_lib_arr_avg = []\n",
    "\n",
    "for i in range(len(picked_coff)):\n",
    "    actual, predict = splitCoff(picked_coff)\n",
    "    \n",
    "    recall_lib = recall_score(actual[i], predict[i], average=None)\n",
    "    precision_lib = precision_score(actual[i], predict[i], average=None)\n",
    "    f1score_lib = f1_score(actual[i], predict[i], average=None)\n",
    "    \n",
    "    recall_lib_avg = recall_score(actual[i], predict[i], average='macro')\n",
    "    precision_lib_avg = precision_score(actual[i], predict[i], average='macro')\n",
    "    f1score_lib_avg = f1_score(actual[i], predict[i], average='macro')\n",
    "    \n",
    "    recall_lib_arr.append(recall_lib)\n",
    "    precision_lib_arr.append(precision_lib)\n",
    "    f1score_lib_arr.append(f1score_lib)\n",
    "    \n",
    "    precision_lib_arr_avg.append(precision_lib_avg)\n",
    "    recall_lib_arr_avg.append(recall_lib_avg)\n",
    "    f1score_lib_arr_avg.append(f1score_lib_avg)"
   ]
  },
  {
   "cell_type": "markdown",
   "metadata": {
    "deletable": false,
    "editable": false
   },
   "source": [
    "### Output (Manual)"
   ]
  },
  {
   "cell_type": "markdown",
   "metadata": {
    "deletable": false,
    "editable": false,
    "heading_collapsed": true
   },
   "source": [
    "#### Precision, Recall and F1-Score (Each Class)"
   ]
  },
  {
   "cell_type": "code",
   "execution_count": 26,
   "metadata": {
    "ExecuteTime": {
     "end_time": "2020-06-12T00:47:54.709654Z",
     "start_time": "2020-06-12T00:47:54.699681Z"
    },
    "deletable": false,
    "editable": false,
    "hidden": true
   },
   "outputs": [
    {
     "name": "stdout",
     "output_type": "stream",
     "text": [
      "-------------Precision--------------\n",
      "[[0.8955823  0.92705166 0.9375    ]\n",
      " [0.94505495 0.88535035 0.87323946]\n",
      " [0.9285714  0.91131496 0.9113924 ]\n",
      " [0.8978723  0.9046243  0.9480519 ]\n",
      " [0.9327731  0.8961424  0.96385545]\n",
      " [0.94466406 0.88081396 0.91803277]\n",
      " [0.9437751  0.9032258  0.9558824 ]\n",
      " [0.91189426 0.9093567  0.8876405 ]\n",
      " [0.91845495 0.8959538  0.9113924 ]\n",
      " [0.90833336 0.87941176 0.974359  ]\n",
      " [0.90869564 0.88135594 0.9189189 ]\n",
      " [0.9379562  0.886076   0.9264706 ]\n",
      " [0.92741936 0.88724035 0.9315069 ]\n",
      " [0.9166667  0.89044946 0.9594595 ]\n",
      " [0.93191487 0.88529414 0.96385545]]\n",
      "\n",
      "---------------Recall----------------\n",
      "[[0.9291667  0.92145014 0.86206895]\n",
      " [0.92142856 0.9205298  0.81578946]\n",
      " [0.91764706 0.9341693  0.85714287]\n",
      " [0.8940678  0.9343284  0.83908045]\n",
      " [0.90983605 0.95268136 0.82474226]\n",
      " [0.8786765  0.9498433  0.8358209 ]\n",
      " [0.90733594 0.9506173  0.8666667 ]\n",
      " [0.9        0.92011833 0.87777776]\n",
      " [0.8953975  0.92537314 0.85714287]\n",
      " [0.88259107 0.934375   0.83516484]\n",
      " [0.87083334 0.94259816 0.7816092 ]\n",
      " [0.91785717 0.92715234 0.82894737]\n",
      " [0.9019608  0.9373041  0.8095238 ]\n",
      " [0.88559324 0.9462687  0.81609195]\n",
      " [0.897541   0.9495268  0.82474226]]\n",
      "\n",
      "--------------F1-SCORE---------------\n",
      "[[0.91206545 0.92424244 0.8982036 ]\n",
      " [0.93309224 0.9025974  0.8435374 ]\n",
      " [0.9230769  0.9226006  0.8834356 ]\n",
      " [0.895966   0.9192364  0.8902439 ]\n",
      " [0.92116183 0.9235474  0.8888889 ]\n",
      " [0.9104762  0.91402715 0.875     ]\n",
      " [0.9251969  0.9263158  0.9090909 ]\n",
      " [0.9059081  0.9147059  0.88268155]\n",
      " [0.90677965 0.91042584 0.8834356 ]\n",
      " [0.8952772  0.9060606  0.8994083 ]\n",
      " [0.8893617  0.9109489  0.8447204 ]\n",
      " [0.92779785 0.90614885 0.875     ]\n",
      " [0.91451293 0.9115854  0.86624205]\n",
      " [0.9008621  0.9175109  0.8819876 ]\n",
      " [0.914405   0.9162861  0.8888889 ]]\n",
      "\n"
     ]
    }
   ],
   "source": [
    "print(\"-------------Precision--------------\")\n",
    "print(precision_arr)\n",
    "print()\n",
    "print(\"---------------Recall----------------\")\n",
    "print(recall_arr)\n",
    "print()\n",
    "print(\"--------------F1-SCORE---------------\")\n",
    "print(f1score_arr)\n",
    "print()"
   ]
  },
  {
   "cell_type": "markdown",
   "metadata": {
    "deletable": false,
    "editable": false
   },
   "source": [
    "#### Precision, Recall and F1-Score (Average)"
   ]
  },
  {
   "cell_type": "code",
   "execution_count": 27,
   "metadata": {
    "ExecuteTime": {
     "end_time": "2020-06-12T00:47:54.843298Z",
     "start_time": "2020-06-12T00:47:54.711648Z"
    },
    "deletable": false,
    "editable": false
   },
   "outputs": [
    {
     "name": "stdout",
     "output_type": "stream",
     "text": [
      "-------------Precision--------------\n",
      "[0.92004466 0.9012149  0.917093   0.91684955 0.9309237  0.9145036\n",
      " 0.9342944  0.9029638  0.9086004  0.9207013  0.90299016 0.9168343\n",
      " 0.9153889  0.92219186 0.9270215 ]\n",
      "\n",
      "---------------Recall----------------\n",
      "[0.9042286  0.88591594 0.90298647 0.8891589  0.8957532  0.88811356\n",
      " 0.90820664 0.89929867 0.8926378  0.88404363 0.8650136  0.891319\n",
      " 0.88292956 0.8826513  0.89060336]\n",
      "\n",
      "--------------F1-SCORE---------------\n",
      "[0.9115038  0.8930757  0.9097044  0.9018154  0.91119933 0.89983445\n",
      " 0.9202011  0.9010985  0.9002137  0.9002487  0.881677   0.90298223\n",
      " 0.8974468  0.9001202  0.9065266 ]\n",
      "\n"
     ]
    }
   ],
   "source": [
    "print(\"-------------Precision--------------\")\n",
    "print(precision_arr_avg)\n",
    "print()\n",
    "print(\"---------------Recall----------------\")\n",
    "print(recall_arr_avg)\n",
    "print()\n",
    "print(\"--------------F1-SCORE---------------\")\n",
    "print(f1score_arr_avg)\n",
    "print()"
   ]
  },
  {
   "cell_type": "markdown",
   "metadata": {
    "deletable": false,
    "editable": false
   },
   "source": [
    "### Output (Library)"
   ]
  },
  {
   "cell_type": "markdown",
   "metadata": {
    "deletable": false,
    "editable": false,
    "heading_collapsed": true
   },
   "source": [
    "#### Precision, Recall and F1-Score (Each Class)"
   ]
  },
  {
   "cell_type": "code",
   "execution_count": 28,
   "metadata": {
    "ExecuteTime": {
     "end_time": "2020-06-12T00:47:55.051823Z",
     "start_time": "2020-06-12T00:47:54.846287Z"
    },
    "deletable": false,
    "editable": false,
    "hidden": true
   },
   "outputs": [
    {
     "name": "stdout",
     "output_type": "stream",
     "text": [
      "-------------Precision--------------\n",
      "[[0.89558233 0.92705167 0.9375    ]\n",
      " [0.94505495 0.88535032 0.87323944]\n",
      " [0.92857143 0.91131498 0.91139241]\n",
      " [0.89787234 0.90462428 0.94805195]\n",
      " [0.93277311 0.89614243 0.96385542]\n",
      " [0.94466403 0.88081395 0.91803279]\n",
      " [0.9437751  0.90322581 0.95588235]\n",
      " [0.91189427 0.90935673 0.88764045]\n",
      " [0.91845494 0.89595376 0.91139241]\n",
      " [0.90833333 0.87941176 0.97435897]\n",
      " [0.90869565 0.88135593 0.91891892]\n",
      " [0.9379562  0.88607595 0.92647059]\n",
      " [0.92741935 0.88724036 0.93150685]\n",
      " [0.91666667 0.89044944 0.95945946]\n",
      " [0.93191489 0.88529412 0.96385542]]\n",
      "\n",
      "---------------Recall----------------\n",
      "[[0.92916667 0.92145015 0.86206897]\n",
      " [0.92142857 0.9205298  0.81578947]\n",
      " [0.91764706 0.93416928 0.85714286]\n",
      " [0.8940678  0.93432836 0.83908046]\n",
      " [0.90983607 0.95268139 0.82474227]\n",
      " [0.87867647 0.94984326 0.8358209 ]\n",
      " [0.90733591 0.95061728 0.86666667]\n",
      " [0.9        0.92011834 0.87777778]\n",
      " [0.89539749 0.92537313 0.85714286]\n",
      " [0.88259109 0.934375   0.83516484]\n",
      " [0.87083333 0.94259819 0.7816092 ]\n",
      " [0.91785714 0.92715232 0.82894737]\n",
      " [0.90196078 0.93730408 0.80952381]\n",
      " [0.88559322 0.94626866 0.81609195]\n",
      " [0.89754098 0.94952681 0.82474227]]\n",
      "\n",
      "--------------F1-SCORE---------------\n",
      "[[0.91206544 0.92424242 0.89820359]\n",
      " [0.93309222 0.9025974  0.84353741]\n",
      " [0.92307692 0.92260062 0.88343558]\n",
      " [0.89596603 0.91923642 0.8902439 ]\n",
      " [0.92116183 0.9235474  0.88888889]\n",
      " [0.91047619 0.91402715 0.875     ]\n",
      " [0.92519685 0.92631579 0.90909091]\n",
      " [0.9059081  0.91470588 0.88268156]\n",
      " [0.90677966 0.91042584 0.88343558]\n",
      " [0.89527721 0.90606061 0.89940828]\n",
      " [0.8893617  0.91094891 0.8447205 ]\n",
      " [0.92779783 0.90614887 0.875     ]\n",
      " [0.91451292 0.91158537 0.86624204]\n",
      " [0.90086207 0.91751085 0.88198758]\n",
      " [0.91440501 0.91628615 0.88888889]]\n",
      "\n"
     ]
    }
   ],
   "source": [
    "print(\"-------------Precision--------------\")\n",
    "print(np.array(precision_lib_arr))\n",
    "print()\n",
    "print(\"---------------Recall----------------\")\n",
    "print(np.array(recall_lib_arr))\n",
    "print()\n",
    "print(\"--------------F1-SCORE---------------\")\n",
    "print(np.array(f1score_lib_arr))\n",
    "print()"
   ]
  },
  {
   "cell_type": "markdown",
   "metadata": {
    "deletable": false,
    "editable": false
   },
   "source": [
    "#### Precision, Recall and F1-Score (Average)"
   ]
  },
  {
   "cell_type": "code",
   "execution_count": 29,
   "metadata": {
    "ExecuteTime": {
     "end_time": "2020-06-12T00:47:55.192344Z",
     "start_time": "2020-06-12T00:47:55.055812Z"
    },
    "deletable": false,
    "editable": false
   },
   "outputs": [
    {
     "name": "stdout",
     "output_type": "stream",
     "text": [
      "-------------Precision--------------\n",
      "[0.92004467 0.9012149  0.91709294 0.91684952 0.93092365 0.91450359\n",
      " 0.93429442 0.90296382 0.90860037 0.92070136 0.90299017 0.91683425\n",
      " 0.91538885 0.92219185 0.92702148]\n",
      "\n",
      "---------------Recall----------------\n",
      "[0.90422859 0.88591595 0.9029864  0.88915887 0.89575324 0.88811354\n",
      " 0.90820662 0.89929871 0.89263783 0.88404364 0.86501357 0.89131894\n",
      " 0.88292956 0.88265128 0.89060336]\n",
      "\n",
      "--------------F1-SCORE---------------\n",
      "[0.91150382 0.89307568 0.90970438 0.90181545 0.91119937 0.89983445\n",
      " 0.92020118 0.90109851 0.9002137  0.9002487  0.88167703 0.90298223\n",
      " 0.89744678 0.90012017 0.90652668]\n",
      "\n"
     ]
    }
   ],
   "source": [
    "print(\"-------------Precision--------------\")\n",
    "print(np.array(precision_lib_arr_avg))\n",
    "print()\n",
    "print(\"---------------Recall----------------\")\n",
    "print(np.array(recall_lib_arr_avg))\n",
    "print()\n",
    "print(\"--------------F1-SCORE---------------\")\n",
    "print(np.array(f1score_lib_arr_avg))\n",
    "print()"
   ]
  },
  {
   "cell_type": "markdown",
   "metadata": {},
   "source": [
    "# Save Data"
   ]
  },
  {
   "cell_type": "code",
   "execution_count": null,
   "metadata": {
    "deletable": false,
    "editable": false,
    "run_control": {
     "frozen": true
    }
   },
   "outputs": [],
   "source": [
    "# dill.dump_session('Pengujian.db')"
   ]
  }
 ],
 "metadata": {
  "colab": {
   "collapsed_sections": [],
   "name": "Pengujian.ipynb",
   "provenance": [],
   "toc_visible": true
  },
  "kernelspec": {
   "display_name": "Python 3",
   "language": "python",
   "name": "python3"
  },
  "language_info": {
   "codemirror_mode": {
    "name": "ipython",
    "version": 3
   },
   "file_extension": ".py",
   "mimetype": "text/x-python",
   "name": "python",
   "nbconvert_exporter": "python",
   "pygments_lexer": "ipython3",
   "version": "3.6.2"
  },
  "notify_time": "30",
  "toc": {
   "base_numbering": "1",
   "nav_menu": {
    "height": "140px",
    "width": "172px"
   },
   "number_sections": true,
   "sideBar": true,
   "skip_h1_title": false,
   "title_cell": "Table of Contents",
   "title_sidebar": "Contents",
   "toc_cell": false,
   "toc_position": {
    "height": "359.6px",
    "left": "937px",
    "top": "158.8px",
    "width": "215px"
   },
   "toc_section_display": true,
   "toc_window_display": true
  }
 },
 "nbformat": 4,
 "nbformat_minor": 1
}
