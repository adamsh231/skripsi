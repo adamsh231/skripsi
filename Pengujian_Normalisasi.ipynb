{
 "cells": [
  {
   "cell_type": "markdown",
   "metadata": {
    "heading_collapsed": true
   },
   "source": [
    "# Import Library"
   ]
  },
  {
   "cell_type": "code",
   "execution_count": 1,
   "metadata": {
    "ExecuteTime": {
     "end_time": "2020-06-02T18:41:24.136912Z",
     "start_time": "2020-06-02T18:41:23.423864Z"
    },
    "colab": {},
    "colab_type": "code",
    "deletable": false,
    "editable": false,
    "hidden": true,
    "id": "hkk4mnq5jd6O",
    "scrolled": false
   },
   "outputs": [],
   "source": [
    "import numpy as np\n",
    "import pandas as pd\n",
    "import math\n",
    "import random\n",
    "import dill\n",
    "try:\n",
    "    dill.load_session('Pengujian_Normalisasi.db')\n",
    "except Exception as ex:\n",
    "    print(\"Data Belum Tersimpan!\")"
   ]
  },
  {
   "cell_type": "markdown",
   "metadata": {},
   "source": [
    "# Support"
   ]
  },
  {
   "cell_type": "markdown",
   "metadata": {
    "colab_type": "text",
    "heading_collapsed": true,
    "id": "6PMrAgyjf-sP"
   },
   "source": [
    "## Identify Label"
   ]
  },
  {
   "cell_type": "code",
   "execution_count": 2,
   "metadata": {
    "ExecuteTime": {
     "end_time": "2020-06-02T18:41:24.144866Z",
     "start_time": "2020-06-02T18:41:24.138875Z"
    },
    "colab": {},
    "colab_type": "code",
    "deletable": false,
    "editable": false,
    "hidden": true,
    "id": "QLNn6_tQgAVc",
    "scrolled": false
   },
   "outputs": [],
   "source": [
    "def count_label(data):\n",
    "    distinct = [data[0][-1]]\n",
    "    for i in range(len(data)):\n",
    "        check = True\n",
    "        for j in range(len(distinct)):\n",
    "            if distinct[j] == data[i][-1]:\n",
    "                check = False\n",
    "        if check:\n",
    "            distinct.append(data[i][-1])\n",
    "    return np.array(distinct).astype(int), len(distinct)"
   ]
  },
  {
   "cell_type": "markdown",
   "metadata": {},
   "source": [
    "## Model Evaluation Performance"
   ]
  },
  {
   "cell_type": "markdown",
   "metadata": {
    "heading_collapsed": true
   },
   "source": [
    "### Mean + STD"
   ]
  },
  {
   "cell_type": "code",
   "execution_count": 3,
   "metadata": {
    "ExecuteTime": {
     "end_time": "2020-06-02T18:41:24.284664Z",
     "start_time": "2020-06-02T18:41:24.147850Z"
    },
    "deletable": false,
    "editable": false,
    "hidden": true,
    "scrolled": false
   },
   "outputs": [],
   "source": [
    "def evaluation(arr_acc):\n",
    "    mean = np.mean(arr_acc)\n",
    "    varian = sum((arr_acc - mean) * (arr_acc - mean)) / len(arr_acc)\n",
    "    std = math.sqrt(varian)\n",
    "    return mean, std"
   ]
  },
  {
   "cell_type": "markdown",
   "metadata": {
    "deletable": false,
    "editable": false
   },
   "source": [
    "### Precision, Recall dan F1-Score"
   ]
  },
  {
   "cell_type": "code",
   "execution_count": 4,
   "metadata": {
    "ExecuteTime": {
     "end_time": "2020-06-02T18:41:24.374442Z",
     "start_time": "2020-06-02T18:41:24.287641Z"
    },
    "deletable": false,
    "editable": false
   },
   "outputs": [],
   "source": [
    "def toNumpyArray(coff):\n",
    "    coff = np.array(coff)\n",
    "    for i in range(len(coff)):\n",
    "        coff[i] = np.array(coff[i])\n",
    "        for j in range(len(coff[i])):\n",
    "            coff[i][j] = np.array(coff[i][j])\n",
    "    return coff\n",
    "\n",
    "def pickCoff(coff):\n",
    "    coff = toNumpyArray(coff)\n",
    "    choosen_coff = []\n",
    "    for i in range(len(coff)):\n",
    "        for j in range(len(coff[i])):\n",
    "            acc = 0\n",
    "            for k in range(len(coff[i][j])):\n",
    "                for l in range(len(coff[i][j][k])):\n",
    "                    if k == l:\n",
    "                        acc += coff[i][j][k][l]\n",
    "            acc /= np.sum(coff[i][j])\n",
    "            if acc != 1:\n",
    "                choosen_coff.append(coff[i][j])\n",
    "                break\n",
    "            elif j == len(coff[i]) - 1:\n",
    "                choosen_coff.append(coff[i][j])\n",
    "    return np.array(choosen_coff)\n",
    "\n",
    "def calcPrecRec(coff):\n",
    "    coff = pickCoff(coff)\n",
    "    tfn = []\n",
    "    tfp = []\n",
    "    ttp = []\n",
    "    precision = []\n",
    "    recall = []\n",
    "    for i in range(len(coff)):\n",
    "        tfn.append(np.sum(coff[i], axis = 1))\n",
    "        tfp.append(np.sum(coff[i], axis = 0))\n",
    "        ttp_count = 0\n",
    "        for j in range(len(coff[i])):\n",
    "            for k in range(len(coff[i][j])):\n",
    "                if j == k:\n",
    "                    tfn[i][j] -= coff[i][j][k]\n",
    "                    tfp[i][j] -= coff[i][j][k]\n",
    "                    ttp_count += coff[i][j][k]\n",
    "        ttp.append(ttp_count)\n",
    "    for i in range(len(tfn)):\n",
    "        precision.append(np.array([0 for i in range(len(tfn[i]))]).astype(np.float32))\n",
    "        recall.append(np.array([0 for i in range(len(tfn[i]))]).astype(np.float32))\n",
    "        for j in range(len(tfn[i])):\n",
    "            precision[i][j] = ttp[i]/(ttp[i] + tfp[i][j])\n",
    "            recall[i][j] = ttp[i]/(ttp[i] + tfn[i][j])\n",
    "    return np.array(precision), np.array(recall)\n",
    "\n",
    "def calcF1Score(precision, recall):\n",
    "    f1 = []\n",
    "    for i in range(len(precision)):\n",
    "        prec = np.mean(precision[i])\n",
    "        rec = np.mean(recall[i])\n",
    "        f1.append(2*prec*rec/(prec+rec))\n",
    "    return np.array(f1)"
   ]
  },
  {
   "cell_type": "markdown",
   "metadata": {
    "colab_type": "text",
    "heading_collapsed": true,
    "id": "qFjAlvj6gGPh"
   },
   "source": [
    "## Euclidian Distance"
   ]
  },
  {
   "cell_type": "code",
   "execution_count": 5,
   "metadata": {
    "ExecuteTime": {
     "end_time": "2020-06-02T18:41:24.619364Z",
     "start_time": "2020-06-02T18:41:24.376432Z"
    },
    "colab": {},
    "colab_type": "code",
    "deletable": false,
    "editable": false,
    "hidden": true,
    "id": "JhBa0l7kgRg2",
    "scrolled": false
   },
   "outputs": [],
   "source": [
    "def euclidian(X, Y, categories = []):\n",
    "    euc = 0\n",
    "    for i in range(len(X)):\n",
    "        if not i in categories: ## similarity matrix\n",
    "            euc += math.pow((X[i]-Y[i]), 2)\n",
    "    euc = math.sqrt(euc)\n",
    "    ##------------Similiratity Matrix-------------##\n",
    "    if len(categories) != 0:\n",
    "        p = len(categories)\n",
    "        m = 0\n",
    "        for i in range(len(categories)):\n",
    "            if X[categories[i]] == Y[categories[i]]:\n",
    "                m += 1\n",
    "        cat_dist = (p-m)/p\n",
    "        euc += cat_dist\n",
    "    ##--------------------------------------------##\n",
    "    return euc"
   ]
  },
  {
   "cell_type": "markdown",
   "metadata": {
    "heading_collapsed": true
   },
   "source": [
    "# Pre Processing"
   ]
  },
  {
   "cell_type": "markdown",
   "metadata": {
    "colab_type": "text",
    "hidden": true,
    "id": "K0_E2oPPMyvm"
   },
   "source": [
    "## Random Data"
   ]
  },
  {
   "cell_type": "code",
   "execution_count": 6,
   "metadata": {
    "ExecuteTime": {
     "end_time": "2020-06-02T18:41:24.724113Z",
     "start_time": "2020-06-02T18:41:24.621388Z"
    },
    "colab": {},
    "colab_type": "code",
    "deletable": false,
    "editable": false,
    "hidden": true,
    "id": "SUKJZX2OI1gG",
    "scrolled": false
   },
   "outputs": [],
   "source": [
    "def randomize(arr):\n",
    "    for i in range(len(arr)-1, 0, -1):\n",
    "        j = random.randint(0, i)\n",
    "        arr[i], arr[j] = arr[j], arr[i]\n",
    "    return arr"
   ]
  },
  {
   "cell_type": "markdown",
   "metadata": {
    "colab_type": "text",
    "hidden": true,
    "id": "87enrK1db87J"
   },
   "source": [
    "## Normalisasi"
   ]
  },
  {
   "cell_type": "code",
   "execution_count": 7,
   "metadata": {
    "ExecuteTime": {
     "end_time": "2020-06-02T18:41:24.815835Z",
     "start_time": "2020-06-02T18:41:24.726109Z"
    },
    "colab": {},
    "colab_type": "code",
    "deletable": false,
    "editable": false,
    "hidden": true,
    "id": "4ViDg5Zhb_ZJ",
    "scrolled": false
   },
   "outputs": [],
   "source": [
    "def normalize(data):\n",
    "    data = np.array(data).astype(float)\n",
    "    max_value = np.max(data, axis=0)\n",
    "    min_value = np.min(data, axis=0)\n",
    "    for i in range(len(data)):\n",
    "        for j in range(len(data[0])-1):\n",
    "            data[i][j] = (data[i][j] - min_value[j]) / (max_value[j] - min_value[j])\n",
    "    return data"
   ]
  },
  {
   "cell_type": "markdown",
   "metadata": {
    "hidden": true
   },
   "source": [
    "## Missing Value"
   ]
  },
  {
   "cell_type": "code",
   "execution_count": 8,
   "metadata": {
    "ExecuteTime": {
     "end_time": "2020-06-02T18:41:24.927059Z",
     "start_time": "2020-06-02T18:41:24.820823Z"
    },
    "deletable": false,
    "editable": false,
    "hidden": true
   },
   "outputs": [],
   "source": [
    "def handleMissValue(data):\n",
    "    filled_data = np.array([[0 for i in range(len(data[0]))] for j in range(len(data))])\n",
    "    cLabel = count_label(data)[1]\n",
    "    arr_data = [[] for j in range(cLabel)]\n",
    "    mean = []\n",
    "    for i in range(len(data)):\n",
    "        arr_data[int(data[i][-1])-1].append(data[i])\n",
    "    counter = 0\n",
    "    for i in range(len(arr_data)):\n",
    "        mean.append(np.nanmean(arr_data[i], axis=0))\n",
    "        for j in range(len(arr_data[i])):\n",
    "            for k in range(len(arr_data[i][j])):\n",
    "                if np.isnan(arr_data[i][j][k]):\n",
    "                    arr_data[i][j][k] = mean[i][k]\n",
    "            filled_data[counter] = arr_data[i][j]\n",
    "            counter += 1\n",
    "    return filled_data"
   ]
  },
  {
   "cell_type": "markdown",
   "metadata": {
    "colab_type": "text",
    "hidden": true,
    "id": "VTR3dPCYfv8r"
   },
   "source": [
    "## Ekstraksi File \n"
   ]
  },
  {
   "cell_type": "code",
   "execution_count": 9,
   "metadata": {
    "ExecuteTime": {
     "end_time": "2020-06-02T18:41:25.047739Z",
     "start_time": "2020-06-02T18:41:24.929054Z"
    },
    "colab": {},
    "colab_type": "code",
    "deletable": false,
    "editable": false,
    "hidden": true,
    "id": "TyEfDO9gI2JJ",
    "scrolled": false
   },
   "outputs": [],
   "source": [
    "def extraction(file, is_normal = True, is_random = True):\n",
    "    data = pd.read_excel(file)\n",
    "    data = handleMissValue(np.array(data))\n",
    "    data = pd.DataFrame(data)\n",
    "    data.drop_duplicates()\n",
    "    data = np.array(data)\n",
    "    if is_normal:\n",
    "        data = normalize(data)\n",
    "    if is_random:\n",
    "        data = randomize(data.tolist())\n",
    "    return data"
   ]
  },
  {
   "cell_type": "markdown",
   "metadata": {
    "heading_collapsed": true
   },
   "source": [
    "# LMKHNCN"
   ]
  },
  {
   "cell_type": "markdown",
   "metadata": {
    "hidden": true
   },
   "source": [
    "## Set of KNCN"
   ]
  },
  {
   "cell_type": "markdown",
   "metadata": {
    "colab_type": "text",
    "heading_collapsed": true,
    "hidden": true,
    "id": "-GHhQf-shskl"
   },
   "source": [
    "### 1 NCN"
   ]
  },
  {
   "cell_type": "code",
   "execution_count": 10,
   "metadata": {
    "ExecuteTime": {
     "end_time": "2020-06-02T18:41:25.159437Z",
     "start_time": "2020-06-02T18:41:25.049730Z"
    },
    "colab": {},
    "colab_type": "code",
    "deletable": false,
    "editable": false,
    "hidden": true,
    "id": "lsiAuPM1hv8L",
    "scrolled": false
   },
   "outputs": [],
   "source": [
    "def closest(Xx, Xx_label, Y, cLabel, nominal):\n",
    "    distance = [[None for i in range(len(Xx))] for j in range(cLabel)]\n",
    "    min_distance_value = [0 for i in range(cLabel)]\n",
    "    min_distance_index = [0 for i in range(cLabel)]\n",
    "    for i in range(len(Xx)):\n",
    "        distance[((Xx_label[i][0])-1)][i] = euclidian(Xx[i], Y, nominal)\n",
    "    for i in range(cLabel):\n",
    "        min_distance_value[i] = min(x for x in distance[i] if x is not None)\n",
    "        min_distance_index[i] = distance[i].index(min(x for x in distance[i] if x is not None))\n",
    "    return np.array(distance), min_distance_index, min_distance_value"
   ]
  },
  {
   "cell_type": "markdown",
   "metadata": {
    "colab_type": "text",
    "hidden": true,
    "id": "OAaqAUIhrmw1"
   },
   "source": [
    "### N NCN"
   ]
  },
  {
   "cell_type": "code",
   "execution_count": 11,
   "metadata": {
    "ExecuteTime": {
     "end_time": "2020-06-02T18:41:25.255181Z",
     "start_time": "2020-06-02T18:41:25.161432Z"
    },
    "colab": {},
    "colab_type": "code",
    "deletable": false,
    "editable": false,
    "hidden": true,
    "id": "W-bltI-QrqxG",
    "scrolled": false
   },
   "outputs": [],
   "source": [
    "def kncn(k, Xx, Xx_label, Y, cLabel, close_dist, nominal):\n",
    "    ncn = np.array([[0 for i in range(k)] for j in range(cLabel)])\n",
    "    for i in range(cLabel):\n",
    "        ncn[i][0] = close_dist[i]\n",
    "\n",
    "    for i in range (1, k):\n",
    "        distance = [[None for i in range(len(Xx))] for j in range(cLabel)]\n",
    "        min_distance_value = [0 for i in range(cLabel)]\n",
    "        min_distance_index = [0 for i in range(cLabel)]\n",
    "        for j in range(len(Xx)):\n",
    "            label = Xx_label[j][0] - 1\n",
    "            check = True\n",
    "            for a in range(i):\n",
    "                if ncn[label][a] == j:\n",
    "                    check = False\n",
    "            if check:\n",
    "                add = 0 + Xx[j]\n",
    "                for a in range(i):\n",
    "                    indeks_ncn = ncn[label][a]\n",
    "                    add += Xx[indeks_ncn]\n",
    "                centroid = add / (i+1)\n",
    "                distance[label][j] = euclidian(Y, centroid, nominal)\n",
    "        for j in range(cLabel):\n",
    "            min_distance_value[j] = min(x for x in distance[j] if x is not None)\n",
    "            min_distance_index[j] = distance[j].index(min(x for x in distance[j] if x is not None))\n",
    "            ncn[j][i] = min_distance_index[j]\n",
    "    return ncn"
   ]
  },
  {
   "cell_type": "markdown",
   "metadata": {
    "colab_type": "text",
    "heading_collapsed": true,
    "hidden": true,
    "id": "Cegy7uCE-Vq-"
   },
   "source": [
    "## Local Mean Vector"
   ]
  },
  {
   "cell_type": "code",
   "execution_count": 12,
   "metadata": {
    "ExecuteTime": {
     "end_time": "2020-06-02T18:41:25.354914Z",
     "start_time": "2020-06-02T18:41:25.257175Z"
    },
    "colab": {},
    "colab_type": "code",
    "deletable": false,
    "editable": false,
    "hidden": true,
    "id": "nayKWlHL-cSx",
    "scrolled": false
   },
   "outputs": [],
   "source": [
    "def localMeanVector(Xx, ncn):\n",
    "    lm_ncn = [[0 for i in range(len(ncn[0]))] for j in range(len(ncn))]\n",
    "    for i in range(len(ncn)):\n",
    "        lm_ncn[i][0] = Xx[ncn[i][0]]\n",
    "        for j in range(1, len(ncn[0])):\n",
    "            add = 0 + lm_ncn[i][0]\n",
    "            for a in range(j):\n",
    "                add += Xx[ncn[i][a + 1]]\n",
    "            lm_ncn[i][j] = add / (j+1)\n",
    "    return np.array(lm_ncn)"
   ]
  },
  {
   "cell_type": "markdown",
   "metadata": {
    "colab_type": "text",
    "hidden": true,
    "id": "Pimj9wplP7ax"
   },
   "source": [
    "## Harmonic Mean Distance"
   ]
  },
  {
   "cell_type": "code",
   "execution_count": 13,
   "metadata": {
    "ExecuteTime": {
     "end_time": "2020-06-02T18:41:25.468610Z",
     "start_time": "2020-06-02T18:41:25.356909Z"
    },
    "colab": {},
    "colab_type": "code",
    "deletable": false,
    "editable": false,
    "hidden": true,
    "id": "9NLHcN7hQGQ0",
    "scrolled": false
   },
   "outputs": [],
   "source": [
    "def harmonicMean(lm_ncn, Y, nominal):\n",
    "    k = len(lm_ncn[0])\n",
    "    hm_ncn = []\n",
    "    for i in range(len(lm_ncn)):\n",
    "        add = 0\n",
    "        for j in range(len(lm_ncn[0])):\n",
    "            distance = euclidian(Y, lm_ncn[i][j], nominal)\n",
    "            ## Centroid Lokal i Tepat Pada Data Uji\n",
    "            if distance == 0:\n",
    "                add =+ 0\n",
    "            else:\n",
    "                add += (1/distance)\n",
    "        ## Semua Centroid Lokal Tepat Pada Data Uji\n",
    "        if add == 0:\n",
    "            harmonic_mean = 0\n",
    "        else:\n",
    "            harmonic_mean = (k/add)\n",
    "        hm_ncn.append(harmonic_mean)\n",
    "    return hm_ncn"
   ]
  },
  {
   "cell_type": "markdown",
   "metadata": {
    "colab_type": "text",
    "heading_collapsed": true,
    "hidden": true,
    "id": "dWv3nlC8So_Y"
   },
   "source": [
    "## Classification Decision"
   ]
  },
  {
   "cell_type": "code",
   "execution_count": 14,
   "metadata": {
    "ExecuteTime": {
     "end_time": "2020-06-02T18:41:25.557372Z",
     "start_time": "2020-06-02T18:41:25.470606Z"
    },
    "colab": {},
    "colab_type": "code",
    "deletable": false,
    "editable": false,
    "hidden": true,
    "id": "-mb6a5heStfh",
    "scrolled": false
   },
   "outputs": [],
   "source": [
    "def decision(hm_ncn, Y_label):\n",
    "    min_distance_index = hm_ncn.index(min(x for x in hm_ncn))\n",
    "    return (min_distance_index + 1), Y_label[0]"
   ]
  },
  {
   "cell_type": "markdown",
   "metadata": {
    "heading_collapsed": true
   },
   "source": [
    "# Performance Evaluation"
   ]
  },
  {
   "cell_type": "markdown",
   "metadata": {
    "heading_collapsed": true,
    "hidden": true
   },
   "source": [
    "## K Cross Fold Validation"
   ]
  },
  {
   "cell_type": "code",
   "execution_count": 15,
   "metadata": {
    "ExecuteTime": {
     "end_time": "2020-06-02T18:41:25.657105Z",
     "start_time": "2020-06-02T18:41:25.559367Z"
    },
    "deletable": false,
    "editable": false,
    "hidden": true,
    "scrolled": false
   },
   "outputs": [],
   "source": [
    "def crossValidation(data, cross_val, cross_index, label_index):\n",
    "    split_test = int(len(data) * (1 / cross_val))\n",
    "    change_index = (cross_index - 1) * split_test\n",
    "    \n",
    "    for i in range(split_test):\n",
    "        j = (i + change_index)\n",
    "        data[i], data[j] = data[j], data[i]\n",
    "    \n",
    "    data_train_feature = pd.DataFrame(data[split_test:]).drop([label_index], axis=1)\n",
    "    data_train_label = pd.DataFrame(pd.DataFrame(data[split_test:]), columns=[label_index]).astype(np.int)\n",
    "    data_test_feature = pd.DataFrame(data[0:split_test]).drop([label_index], axis=1)\n",
    "    data_test_label = pd.DataFrame(pd.DataFrame(data[0:split_test]), columns=[label_index]).astype(np.int)\n",
    "    \n",
    "    data_train_feature = np.array(data_train_feature)\n",
    "    data_train_label = np.array(data_train_label)\n",
    "    data_test_feature = np.array(data_test_feature)\n",
    "    data_test_label = np.array(data_test_label)\n",
    "\n",
    "    return data, data_train_feature, data_train_label, data_test_feature, data_test_label"
   ]
  },
  {
   "cell_type": "markdown",
   "metadata": {
    "colab_type": "text",
    "heading_collapsed": true,
    "hidden": true,
    "id": "h2Ym7FNVXFFQ"
   },
   "source": [
    "## LMKHNCN"
   ]
  },
  {
   "cell_type": "code",
   "execution_count": 16,
   "metadata": {
    "ExecuteTime": {
     "end_time": "2020-06-02T18:41:25.768322Z",
     "start_time": "2020-06-02T18:41:25.659101Z"
    },
    "colab": {},
    "colab_type": "code",
    "deletable": false,
    "editable": false,
    "hidden": true,
    "id": "1glBAlFoXP5k",
    "scrolled": false
   },
   "outputs": [],
   "source": [
    "def lmkhncn(k, Xx, Xx_label, Yy, Yy_label, cLabel, nominal):\n",
    "    acc = 0\n",
    "    coff = np.array([[0 for i in range(jml_kelas)] for j in range(jml_kelas)])\n",
    "    \n",
    "    for i in range(len(Yy)):\n",
    "        jarak, jarak_index_min, jarak_nilai_min = closest(Xx, Xx_label, Yy[i], cLabel, nominal)\n",
    "        ncn = kncn(k, Xx, Xx_label, Yy[i], cLabel, jarak_index_min, nominal)\n",
    "        local_mean = localMeanVector(Xx, ncn)\n",
    "        harmonic_mean = harmonicMean(local_mean, Yy[i], nominal)\n",
    "        predict, actual = decision(harmonic_mean, Yy_label[i])\n",
    "        \n",
    "        coff[actual-1][predict-1] += 1\n",
    "        if(predict == actual):\n",
    "            acc += 1\n",
    "#         print(str(round((i+1)/len(Yy),2)*100)+\"%. Prediksi :\"+ str(predict) + \" Actual :\" + str(actual) + \" Acc Lokal: \"+ str(acc/(i+1)))\n",
    "    \n",
    "    acc /= len(Yy)\n",
    "    return acc, coff"
   ]
  },
  {
   "cell_type": "markdown",
   "metadata": {
    "colab_type": "text",
    "heading_collapsed": true,
    "id": "1cLGE6CbfX6C"
   },
   "source": [
    "# Inisialisasi"
   ]
  },
  {
   "cell_type": "code",
   "execution_count": 17,
   "metadata": {
    "ExecuteTime": {
     "end_time": "2020-06-02T18:41:26.940316Z",
     "start_time": "2020-06-02T18:41:25.770315Z"
    },
    "deletable": false,
    "editable": false,
    "hidden": true,
    "scrolled": false
   },
   "outputs": [],
   "source": [
    "k = 15\n",
    "nominal = [8] ##Kawin Attribute\n",
    "file = 'Dataset Pegawai.xlsx'\n",
    "cross_val = 10\n",
    "label_index = 9 #Kinerja\n",
    "normalisasi = True\n",
    "random_data = True\n",
    "data = extraction(file, normalisasi, random_data)\n",
    "arr_kelas, jml_kelas = count_label(data)"
   ]
  },
  {
   "cell_type": "markdown",
   "metadata": {
    "colab_type": "text",
    "id": "3QNRC_KPZAc1"
   },
   "source": [
    "# Testing"
   ]
  },
  {
   "cell_type": "code",
   "execution_count": null,
   "metadata": {
    "colab": {
     "base_uri": "https://localhost:8080/",
     "height": 1000
    },
    "colab_type": "code",
    "deletable": false,
    "editable": false,
    "id": "zsPF5oAwZABo",
    "outputId": "1c186c16-86c9-4614-e999-dac680a1e502",
    "run_control": {
     "frozen": true
    },
    "scrolled": false
   },
   "outputs": [],
   "source": [
    "arr_coff = [[] for i in range(k)]\n",
    "arr_mean_acc = [0 for i in range(k)]\n",
    "arr_std_acc  = [0 for i in range(k)]\n",
    "\n",
    "for a in range(1, k + 1): #Pengujian Parameter K\n",
    "    arr_acc = [0 for i in range(cross_val)]\n",
    "    for i in range(1, cross_val + 1):\n",
    "        data, train_f, train_l, test_f, test_l = crossValidation(data, cross_val, i, label_index)\n",
    "        acc, coff = lmkhncn(a, train_f, train_l, test_f, test_l, jml_kelas, nominal)\n",
    "        arr_acc[i-1] = acc\n",
    "        arr_coff[a-1].append(np.array(coff))\n",
    "        print(\"Cross-\"+str(i)+\" Acc:\"+ str(acc))\n",
    "    mean, std = evaluation(arr_acc)\n",
    "    arr_mean_acc[a-1] = mean\n",
    "    arr_std_acc[a-1] = std\n",
    "    print('K-{0} Mean : {1} with Standar Deviation : {2}.'.format(a,mean,std))"
   ]
  },
  {
   "cell_type": "code",
   "execution_count": 18,
   "metadata": {
    "ExecuteTime": {
     "end_time": "2020-06-02T18:41:26.952195Z",
     "start_time": "2020-06-02T18:41:26.942272Z"
    }
   },
   "outputs": [
    {
     "name": "stdout",
     "output_type": "stream",
     "text": [
      "[0.95045593 0.9656535  0.96732523 0.9674772  0.96762918 0.96717325\n",
      " 0.96641337 0.9662614  0.96504559 0.96474164 0.96352584 0.96246201\n",
      " 0.96170213 0.9606383  0.9600304 ]\n",
      "[0.00706973 0.00391614 0.00544786 0.00456939 0.00424717 0.00379635\n",
      " 0.00415925 0.00503129 0.00465949 0.00464956 0.00480589 0.00548167\n",
      " 0.0059173  0.00586437 0.00604283]\n",
      "[[[[223  13   0]\n",
      "   [ 16 318   0]\n",
      "   [  0   1  87]]\n",
      "\n",
      "  [[248  15   0]\n",
      "   [ 17 299   2]\n",
      "   [  0   3  74]]\n",
      "\n",
      "  [[218  12   0]\n",
      "   [ 19 316   1]\n",
      "   [  0   2  90]]\n",
      "\n",
      "  ...\n",
      "\n",
      "  [[236  10   0]\n",
      "   [ 16 310   2]\n",
      "   [  0   2  82]]\n",
      "\n",
      "  [[248  15   0]\n",
      "   [ 19 288   1]\n",
      "   [  0   2  85]]\n",
      "\n",
      "  [[241   9   0]\n",
      "   [ 23 299   5]\n",
      "   [  0   5  76]]]\n",
      "\n",
      "\n",
      " [[[245   5   0]\n",
      "   [ 14 311   2]\n",
      "   [  0   3  78]]\n",
      "\n",
      "  [[223  13   0]\n",
      "   [ 11 323   0]\n",
      "   [  0   1  87]]\n",
      "\n",
      "  [[253  10   0]\n",
      "   [  8 307   3]\n",
      "   [  0   3  74]]\n",
      "\n",
      "  ...\n",
      "\n",
      "  [[245   7   0]\n",
      "   [ 11 327   0]\n",
      "   [  0   2  66]]\n",
      "\n",
      "  [[238   8   0]\n",
      "   [ 11 317   0]\n",
      "   [  0   2  82]]\n",
      "\n",
      "  [[250  13   0]\n",
      "   [ 13 295   0]\n",
      "   [  0   2  85]]]\n",
      "\n",
      "\n",
      " [[[250  13   0]\n",
      "   [ 11 297   0]\n",
      "   [  0   2  85]]\n",
      "\n",
      "  [[242   8   0]\n",
      "   [ 11 314   2]\n",
      "   [  0   3  78]]\n",
      "\n",
      "  [[224  12   0]\n",
      "   [  8 326   0]\n",
      "   [  0   1  87]]\n",
      "\n",
      "  ...\n",
      "\n",
      "  [[267   8   0]\n",
      "   [  8 287   1]\n",
      "   [  0   1  86]]\n",
      "\n",
      "  [[243   9   0]\n",
      "   [  9 329   0]\n",
      "   [  0   2  66]]\n",
      "\n",
      "  [[237   9   0]\n",
      "   [  7 320   1]\n",
      "   [  0   2  82]]]\n",
      "\n",
      "\n",
      " ...\n",
      "\n",
      "\n",
      " [[[245  18   0]\n",
      "   [  4 304   0]\n",
      "   [  0   1  86]]\n",
      "\n",
      "  [[236  14   0]\n",
      "   [  8 317   2]\n",
      "   [  0   3  78]]\n",
      "\n",
      "  [[214  22   0]\n",
      "   [  6 328   0]\n",
      "   [  0   1  87]]\n",
      "\n",
      "  ...\n",
      "\n",
      "  [[255  20   0]\n",
      "   [  3 292   1]\n",
      "   [  0   1  86]]\n",
      "\n",
      "  [[239  13   0]\n",
      "   [  9 329   0]\n",
      "   [  0   1  67]]\n",
      "\n",
      "  [[232  14   0]\n",
      "   [  3 323   2]\n",
      "   [  0   1  83]]]\n",
      "\n",
      "\n",
      " [[[230  16   0]\n",
      "   [  3 323   2]\n",
      "   [  0   1  83]]\n",
      "\n",
      "  [[245  18   0]\n",
      "   [  3 305   0]\n",
      "   [  0   1  86]]\n",
      "\n",
      "  [[236  14   0]\n",
      "   [  8 317   2]\n",
      "   [  0   3  78]]\n",
      "\n",
      "  ...\n",
      "\n",
      "  [[233  11   0]\n",
      "   [  7 319   1]\n",
      "   [  0   1  86]]\n",
      "\n",
      "  [[254  21   0]\n",
      "   [  3 292   1]\n",
      "   [  0   1  86]]\n",
      "\n",
      "  [[239  13   0]\n",
      "   [  9 329   0]\n",
      "   [  0   1  67]]]\n",
      "\n",
      "\n",
      " [[[239  13   0]\n",
      "   [  9 329   0]\n",
      "   [  0   1  67]]\n",
      "\n",
      "  [[230  16   0]\n",
      "   [  2 324   2]\n",
      "   [  0   1  83]]\n",
      "\n",
      "  [[245  18   0]\n",
      "   [  3 305   0]\n",
      "   [  0   1  86]]\n",
      "\n",
      "  ...\n",
      "\n",
      "  [[221  22   0]\n",
      "   [  5 323   0]\n",
      "   [  0   1  86]]\n",
      "\n",
      "  [[232  12   0]\n",
      "   [  7 319   1]\n",
      "   [  0   1  86]]\n",
      "\n",
      "  [[252  23   0]\n",
      "   [  3 292   1]\n",
      "   [  0   1  86]]]]\n"
     ]
    }
   ],
   "source": [
    "print(np.array(arr_mean_acc))\n",
    "print(np.array(arr_std_acc))\n",
    "print(np.array(arr_coff))"
   ]
  },
  {
   "cell_type": "code",
   "execution_count": 19,
   "metadata": {
    "ExecuteTime": {
     "end_time": "2020-06-02T18:41:28.477576Z",
     "start_time": "2020-06-02T18:41:26.955184Z"
    },
    "scrolled": true
   },
   "outputs": [
    {
     "name": "stdout",
     "output_type": "stream",
     "text": [
      "[[0.9751553  0.97819316 1.        ]\n",
      " [0.97839504 0.98753893 0.9968553 ]\n",
      " [0.9828927  0.97681606 1.        ]\n",
      " [0.99068326 0.9815385  0.996875  ]\n",
      " [0.98297215 0.9814529  1.        ]\n",
      " [0.9906687  0.97849464 0.9984326 ]\n",
      " [0.9845679  0.9845679  1.        ]\n",
      " [0.992224   0.9770291  1.        ]\n",
      " [0.98748046 0.972265   0.99841774]\n",
      " [0.990566   0.97072417 0.99526066]\n",
      " [0.9906103  0.9708589  1.        ]\n",
      " [0.98748046 0.97376543 0.9968404 ]\n",
      " [0.9937402  0.97094804 1.        ]\n",
      " [0.9953052  0.9739663  0.9968652 ]\n",
      " [0.98602486 0.97842836 1.        ]]\n",
      "[[0.97971916 0.9751553  0.99841017]\n",
      " [0.9921753  0.9753846  0.9952904 ]\n",
      " [0.979845   0.9828927  0.9968454 ]\n",
      " [0.9845679  0.9876161  0.996875  ]\n",
      " [0.9844961  0.98297215 0.99686027]\n",
      " [0.98       0.98913044 0.9984326 ]\n",
      " [0.98608965 0.9845679  0.9984351 ]\n",
      " [0.9785276  0.992224   0.9984351 ]\n",
      " [0.97527045 0.9859375  0.9968404 ]\n",
      " [0.9737249  0.9859155  0.9968355 ]\n",
      " [0.97235024 0.9906103  0.99842274]\n",
      " [0.97829455 0.9843994  0.99526817]\n",
      " [0.97243494 0.9937402  0.9984277 ]\n",
      " [0.9754601  0.99219966 0.99843013]\n",
      " [0.97993827 0.98602486 0.9984277 ]]\n",
      "[0.98443884 0.98760658 0.9865486  0.98969263 0.98812562 0.9891932\n",
      " 0.98970473 0.98973995 0.98603529 0.98550445 0.98714209 0.98600805\n",
      " 0.98821515 0.98870438 0.98814064]\n"
     ]
    }
   ],
   "source": [
    "precision, recall = calcPrecRec(arr_coff)\n",
    "f1Score = calcF1Score(precision,recall)\n",
    "print(precision)\n",
    "print(recall)\n",
    "print(f1Score)"
   ]
  },
  {
   "cell_type": "markdown",
   "metadata": {},
   "source": [
    "# Save Data"
   ]
  },
  {
   "cell_type": "code",
   "execution_count": 20,
   "metadata": {
    "deletable": false,
    "editable": false,
    "run_control": {
     "frozen": true
    }
   },
   "outputs": [],
   "source": [
    "# dill.dump_session('Pengujian_Normalisasi.db')"
   ]
  }
 ],
 "metadata": {
  "colab": {
   "collapsed_sections": [],
   "name": "Pengujian.ipynb",
   "provenance": [],
   "toc_visible": true
  },
  "kernelspec": {
   "display_name": "Python 3",
   "language": "python",
   "name": "python3"
  },
  "language_info": {
   "codemirror_mode": {
    "name": "ipython",
    "version": 3
   },
   "file_extension": ".py",
   "mimetype": "text/x-python",
   "name": "python",
   "nbconvert_exporter": "python",
   "pygments_lexer": "ipython3",
   "version": "3.6.2"
  },
  "notify_time": "30",
  "toc": {
   "base_numbering": "1",
   "nav_menu": {
    "height": "140px",
    "width": "172px"
   },
   "number_sections": true,
   "sideBar": true,
   "skip_h1_title": false,
   "title_cell": "Table of Contents",
   "title_sidebar": "Contents",
   "toc_cell": false,
   "toc_position": {
    "height": "359.6px",
    "left": "937px",
    "top": "158.8px",
    "width": "215px"
   },
   "toc_section_display": true,
   "toc_window_display": true
  }
 },
 "nbformat": 4,
 "nbformat_minor": 1
}
