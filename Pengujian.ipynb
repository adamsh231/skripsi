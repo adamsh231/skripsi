{
 "cells": [
  {
   "cell_type": "markdown",
   "metadata": {
    "heading_collapsed": true
   },
   "source": [
    "# Import Library"
   ]
  },
  {
   "cell_type": "code",
   "execution_count": 1,
   "metadata": {
    "ExecuteTime": {
     "end_time": "2020-04-07T21:28:02.381949Z",
     "start_time": "2020-04-07T21:28:01.680743Z"
    },
    "colab": {},
    "colab_type": "code",
    "deletable": false,
    "editable": false,
    "hidden": true,
    "id": "hkk4mnq5jd6O",
    "scrolled": false
   },
   "outputs": [],
   "source": [
    "import numpy as np\n",
    "import pandas as pd\n",
    "import math\n",
    "import random\n",
    "import dill\n",
    "try:\n",
    "    dill.load_session('Pengujian.db')\n",
    "except Exception as ex:\n",
    "    print(\"Data Belum Tersimpan!\")"
   ]
  },
  {
   "cell_type": "markdown",
   "metadata": {},
   "source": [
    "# Support"
   ]
  },
  {
   "cell_type": "markdown",
   "metadata": {
    "colab_type": "text",
    "id": "6PMrAgyjf-sP"
   },
   "source": [
    "## Identify Label"
   ]
  },
  {
   "cell_type": "code",
   "execution_count": 2,
   "metadata": {
    "ExecuteTime": {
     "end_time": "2020-04-07T21:28:02.389887Z",
     "start_time": "2020-04-07T21:28:02.383927Z"
    },
    "colab": {},
    "colab_type": "code",
    "deletable": false,
    "editable": false,
    "id": "QLNn6_tQgAVc",
    "scrolled": false
   },
   "outputs": [],
   "source": [
    "def count_label(data):\n",
    "    distinct = [data[0][-1]]\n",
    "    for i in range(len(data)):\n",
    "        check = True\n",
    "        for j in range(len(distinct)):\n",
    "            if distinct[j] == data[i][-1]:\n",
    "                check = False\n",
    "        if check:\n",
    "            distinct.append(data[i][-1])\n",
    "    return np.array(distinct).astype(int), len(distinct)"
   ]
  },
  {
   "cell_type": "markdown",
   "metadata": {},
   "source": [
    "## Evaluation STD dan Mean"
   ]
  },
  {
   "cell_type": "code",
   "execution_count": 3,
   "metadata": {
    "ExecuteTime": {
     "end_time": "2020-04-07T21:28:02.564917Z",
     "start_time": "2020-04-07T21:28:02.392875Z"
    },
    "deletable": false,
    "editable": false,
    "scrolled": false
   },
   "outputs": [],
   "source": [
    "def evaluation(arr_acc):\n",
    "    mean = np.mean(arr_acc)\n",
    "    varian = sum((arr_acc - mean) * (arr_acc - mean)) / len(arr_acc)\n",
    "    std = math.sqrt(varian)\n",
    "    return mean, std"
   ]
  },
  {
   "cell_type": "markdown",
   "metadata": {
    "colab_type": "text",
    "id": "qFjAlvj6gGPh"
   },
   "source": [
    "## Euclidian Distance"
   ]
  },
  {
   "cell_type": "code",
   "execution_count": 4,
   "metadata": {
    "ExecuteTime": {
     "end_time": "2020-04-07T21:28:02.653254Z",
     "start_time": "2020-04-07T21:28:02.566936Z"
    },
    "colab": {},
    "colab_type": "code",
    "deletable": false,
    "editable": false,
    "id": "JhBa0l7kgRg2",
    "scrolled": false
   },
   "outputs": [],
   "source": [
    "def euclidian(X, Y):\n",
    "    euc = 0\n",
    "    for i in range(len(X)):\n",
    "        euc += math.pow((X[i]-Y[i]), 2)\n",
    "    euc = math.sqrt(euc)\n",
    "    return euc"
   ]
  },
  {
   "cell_type": "markdown",
   "metadata": {},
   "source": [
    "# Pre Processing"
   ]
  },
  {
   "cell_type": "markdown",
   "metadata": {
    "colab_type": "text",
    "id": "K0_E2oPPMyvm"
   },
   "source": [
    "## Random Data"
   ]
  },
  {
   "cell_type": "code",
   "execution_count": 5,
   "metadata": {
    "ExecuteTime": {
     "end_time": "2020-04-07T21:28:02.731289Z",
     "start_time": "2020-04-07T21:28:02.654209Z"
    },
    "colab": {},
    "colab_type": "code",
    "deletable": false,
    "editable": false,
    "id": "SUKJZX2OI1gG",
    "scrolled": false
   },
   "outputs": [],
   "source": [
    "def randomize(arr):\n",
    "    for i in range(len(arr)-1, 0, -1):\n",
    "        j = random.randint(0, i)\n",
    "        arr[i], arr[j] = arr[j], arr[i]\n",
    "    return arr"
   ]
  },
  {
   "cell_type": "markdown",
   "metadata": {
    "colab_type": "text",
    "id": "87enrK1db87J"
   },
   "source": [
    "## Normalisasi"
   ]
  },
  {
   "cell_type": "code",
   "execution_count": 6,
   "metadata": {
    "ExecuteTime": {
     "end_time": "2020-04-07T21:28:02.807319Z",
     "start_time": "2020-04-07T21:28:02.732287Z"
    },
    "colab": {},
    "colab_type": "code",
    "deletable": false,
    "editable": false,
    "id": "4ViDg5Zhb_ZJ",
    "scrolled": false
   },
   "outputs": [],
   "source": [
    "def normalize(data):\n",
    "    data = np.array(data).astype(float)\n",
    "    max_value = np.max(data, axis=0)\n",
    "    min_value = np.min(data, axis=0)\n",
    "    for i in range(len(data)):\n",
    "        for j in range(len(data[0])-1):\n",
    "            data[i][j] = (data[i][j] - min_value[j]) / (max_value[j] - min_value[j])\n",
    "    return data"
   ]
  },
  {
   "cell_type": "markdown",
   "metadata": {},
   "source": [
    "## Missing Value"
   ]
  },
  {
   "cell_type": "code",
   "execution_count": 7,
   "metadata": {
    "ExecuteTime": {
     "end_time": "2020-04-07T21:28:02.896199Z",
     "start_time": "2020-04-07T21:28:02.809316Z"
    },
    "deletable": false,
    "editable": false
   },
   "outputs": [],
   "source": [
    "def handleMissValue(data):\n",
    "    filled_data = np.array([[0 for i in range(len(data[0]))] for j in range(len(data))])\n",
    "    cLabel = count_label(data)[1]\n",
    "    arr_data = [[] for j in range(cLabel)]\n",
    "    mean = []\n",
    "    for i in range(len(data)):\n",
    "        arr_data[int(data[i][-1])-1].append(data[i])\n",
    "    counter = 0\n",
    "    for i in range(len(arr_data)):\n",
    "        mean.append(np.nanmean(arr_data[i], axis=0))\n",
    "        for j in range(len(arr_data[i])):\n",
    "            for k in range(len(arr_data[i][j])):\n",
    "                if np.isnan(arr_data[i][j][k]):\n",
    "                    arr_data[i][j][k] = mean[i][k]\n",
    "            filled_data[counter] = arr_data[i][j]\n",
    "            counter += 1\n",
    "    return filled_data"
   ]
  },
  {
   "cell_type": "markdown",
   "metadata": {
    "colab_type": "text",
    "id": "VTR3dPCYfv8r"
   },
   "source": [
    "## Ekstraksi File \n"
   ]
  },
  {
   "cell_type": "code",
   "execution_count": 8,
   "metadata": {
    "ExecuteTime": {
     "end_time": "2020-04-07T21:28:02.985253Z",
     "start_time": "2020-04-07T21:28:02.898222Z"
    },
    "colab": {},
    "colab_type": "code",
    "deletable": false,
    "editable": false,
    "id": "TyEfDO9gI2JJ",
    "scrolled": false
   },
   "outputs": [],
   "source": [
    "def extraction(file, is_normal = True, is_random = True):\n",
    "    data = pd.read_excel(file)\n",
    "    data = handleMissValue(np.array(data))\n",
    "    data = pd.DataFrame(data)\n",
    "    data.drop_duplicates()\n",
    "    data = np.array(data)\n",
    "    if is_normal:\n",
    "        data = normalize(data)\n",
    "    if is_random:\n",
    "        data = randomize(data.tolist())\n",
    "    return data"
   ]
  },
  {
   "cell_type": "markdown",
   "metadata": {},
   "source": [
    "# LMKHNCN"
   ]
  },
  {
   "cell_type": "markdown",
   "metadata": {},
   "source": [
    "## Set of KNCN"
   ]
  },
  {
   "cell_type": "markdown",
   "metadata": {
    "colab_type": "text",
    "id": "-GHhQf-shskl"
   },
   "source": [
    "### 1 NCN"
   ]
  },
  {
   "cell_type": "code",
   "execution_count": 9,
   "metadata": {
    "ExecuteTime": {
     "end_time": "2020-04-07T21:28:03.075480Z",
     "start_time": "2020-04-07T21:28:02.987250Z"
    },
    "colab": {},
    "colab_type": "code",
    "deletable": false,
    "editable": false,
    "id": "lsiAuPM1hv8L",
    "scrolled": false
   },
   "outputs": [],
   "source": [
    "def closest(Xx, Xx_label, Y, cLabel):\n",
    "    distance = [[None for i in range(len(Xx))] for j in range(cLabel)]\n",
    "    min_distance_value = [0 for i in range(cLabel)]\n",
    "    min_distance_index = [0 for i in range(cLabel)]\n",
    "    for i in range(len(Xx)):\n",
    "        distance[((Xx_label[i][0])-1)][i] = euclidian(Xx[i], Y)\n",
    "    for i in range(cLabel):\n",
    "        min_distance_value[i] = min(x for x in distance[i] if x is not None)\n",
    "        min_distance_index[i] = distance[i].index(min(x for x in distance[i] if x is not None))\n",
    "    return np.array(distance), min_distance_index, min_distance_value"
   ]
  },
  {
   "cell_type": "markdown",
   "metadata": {
    "colab_type": "text",
    "id": "OAaqAUIhrmw1"
   },
   "source": [
    "### N NCN"
   ]
  },
  {
   "cell_type": "code",
   "execution_count": 10,
   "metadata": {
    "ExecuteTime": {
     "end_time": "2020-04-07T21:28:03.152924Z",
     "start_time": "2020-04-07T21:28:03.077469Z"
    },
    "colab": {},
    "colab_type": "code",
    "deletable": false,
    "editable": false,
    "id": "W-bltI-QrqxG",
    "scrolled": false
   },
   "outputs": [],
   "source": [
    "def kncn(k, Xx, Xx_label, Y, cLabel, close_dist):\n",
    "    ncn = np.array([[0 for i in range(k)] for j in range(cLabel)])\n",
    "    for i in range(cLabel):\n",
    "        ncn[i][0] = close_dist[i]\n",
    "\n",
    "    for i in range (1, k):\n",
    "        distance = [[None for i in range(len(Xx))] for j in range(cLabel)]\n",
    "        min_distance_value = [0 for i in range(cLabel)]\n",
    "        min_distance_index = [0 for i in range(cLabel)]\n",
    "        for j in range(len(Xx)):\n",
    "            label = Xx_label[j][0] - 1\n",
    "            check = True\n",
    "            for a in range(i):\n",
    "                if ncn[label][a] == j:\n",
    "                    check = False\n",
    "            if check:\n",
    "                add = 0 + Xx[j]\n",
    "                for a in range(i):\n",
    "                    indeks_ncn = ncn[label][a]\n",
    "                    add += Xx[indeks_ncn]\n",
    "                centroid = add / (i+1)\n",
    "                distance[label][j] = euclidian(Y, centroid)\n",
    "        for j in range(cLabel):\n",
    "            min_distance_value[j] = min(x for x in distance[j] if x is not None)\n",
    "            min_distance_index[j] = distance[j].index(min(x for x in distance[j] if x is not None))\n",
    "            ncn[j][i] = min_distance_index[j]\n",
    "    return ncn"
   ]
  },
  {
   "cell_type": "markdown",
   "metadata": {
    "colab_type": "text",
    "id": "Cegy7uCE-Vq-"
   },
   "source": [
    "## Local Mean Vector"
   ]
  },
  {
   "cell_type": "code",
   "execution_count": 11,
   "metadata": {
    "ExecuteTime": {
     "end_time": "2020-04-07T21:28:03.252176Z",
     "start_time": "2020-04-07T21:28:03.153806Z"
    },
    "colab": {},
    "colab_type": "code",
    "deletable": false,
    "editable": false,
    "id": "nayKWlHL-cSx",
    "scrolled": false
   },
   "outputs": [],
   "source": [
    "def localMeanVector(Xx, ncn):\n",
    "    lm_ncn = [[0 for i in range(len(ncn[0]))] for j in range(len(ncn))]\n",
    "    for i in range(len(ncn)):\n",
    "        lm_ncn[i][0] = Xx[ncn[i][0]]\n",
    "        for j in range(1, len(ncn[0])):\n",
    "            add = 0 + lm_ncn[i][0]\n",
    "            for a in range(j):\n",
    "                add += Xx[ncn[i][a + 1]]\n",
    "            lm_ncn[i][j] = add / (j+1)\n",
    "    return np.array(lm_ncn)"
   ]
  },
  {
   "cell_type": "markdown",
   "metadata": {
    "colab_type": "text",
    "id": "Pimj9wplP7ax"
   },
   "source": [
    "## Harmonic Mean Distance"
   ]
  },
  {
   "cell_type": "code",
   "execution_count": 12,
   "metadata": {
    "ExecuteTime": {
     "end_time": "2020-04-07T21:28:03.339325Z",
     "start_time": "2020-04-07T21:28:03.254171Z"
    },
    "colab": {},
    "colab_type": "code",
    "deletable": false,
    "editable": false,
    "id": "9NLHcN7hQGQ0",
    "scrolled": false
   },
   "outputs": [],
   "source": [
    "def harmonicMean(lm_ncn, Y):\n",
    "    k = len(lm_ncn[0])\n",
    "    hm_ncn = []\n",
    "    for i in range(len(lm_ncn)):\n",
    "        add = 0\n",
    "        for j in range(len(lm_ncn[0])):\n",
    "            distance = euclidian(Y, lm_ncn[i][j])\n",
    "            ## Centroid Lokal i Tepat Pada Data Uji\n",
    "            if distance == 0:\n",
    "                add =+ 0\n",
    "            else:\n",
    "                add += (1/distance)\n",
    "        ## Semua Centroid Lokal Tepat Pada Data Uji\n",
    "        if add == 0:\n",
    "            harmonic_mean = 0\n",
    "        else:\n",
    "            harmonic_mean = (k/add)\n",
    "        hm_ncn.append(harmonic_mean)\n",
    "    return hm_ncn"
   ]
  },
  {
   "cell_type": "markdown",
   "metadata": {
    "colab_type": "text",
    "id": "dWv3nlC8So_Y"
   },
   "source": [
    "## Classification Decision"
   ]
  },
  {
   "cell_type": "code",
   "execution_count": 13,
   "metadata": {
    "ExecuteTime": {
     "end_time": "2020-04-07T21:28:03.415199Z",
     "start_time": "2020-04-07T21:28:03.342294Z"
    },
    "colab": {},
    "colab_type": "code",
    "deletable": false,
    "editable": false,
    "id": "-mb6a5heStfh",
    "scrolled": false
   },
   "outputs": [],
   "source": [
    "def decision(hm_ncn, Y_label):\n",
    "    min_distance_index = hm_ncn.index(min(x for x in hm_ncn))\n",
    "    return (min_distance_index + 1), Y_label[0]"
   ]
  },
  {
   "cell_type": "markdown",
   "metadata": {},
   "source": [
    "# Performance Evaluation"
   ]
  },
  {
   "cell_type": "markdown",
   "metadata": {},
   "source": [
    "## K Cross Fold Validation"
   ]
  },
  {
   "cell_type": "code",
   "execution_count": 14,
   "metadata": {
    "ExecuteTime": {
     "end_time": "2020-04-07T21:28:03.506088Z",
     "start_time": "2020-04-07T21:28:03.417227Z"
    },
    "deletable": false,
    "editable": false,
    "scrolled": false
   },
   "outputs": [],
   "source": [
    "def crossValidation(data, cross_val, cross_index, label_index):\n",
    "    split_test = int(len(data) * (1 / cross_val))\n",
    "    change_index = (cross_index - 1) * split_test\n",
    "    \n",
    "    for i in range(split_test):\n",
    "        j = (i + change_index)\n",
    "        data[i], data[j] = data[j], data[i]\n",
    "    \n",
    "    data_train_feature = pd.DataFrame(data[split_test:]).drop([label_index], axis=1)\n",
    "    data_train_label = pd.DataFrame(pd.DataFrame(data[split_test:]), columns=[label_index]).astype(np.int)\n",
    "    data_test_feature = pd.DataFrame(data[0:split_test]).drop([label_index], axis=1)\n",
    "    data_test_label = pd.DataFrame(pd.DataFrame(data[0:split_test]), columns=[label_index]).astype(np.int)\n",
    "    \n",
    "    data_train_feature = np.array(data_train_feature)\n",
    "    data_train_label = np.array(data_train_label)\n",
    "    data_test_feature = np.array(data_test_feature)\n",
    "    data_test_label = np.array(data_test_label)\n",
    "\n",
    "    return data, data_train_feature, data_train_label, data_test_feature, data_test_label"
   ]
  },
  {
   "cell_type": "markdown",
   "metadata": {
    "colab_type": "text",
    "id": "h2Ym7FNVXFFQ"
   },
   "source": [
    "## LMKHNCN"
   ]
  },
  {
   "cell_type": "code",
   "execution_count": 15,
   "metadata": {
    "ExecuteTime": {
     "end_time": "2020-04-07T21:28:03.584033Z",
     "start_time": "2020-04-07T21:28:03.509086Z"
    },
    "colab": {},
    "colab_type": "code",
    "deletable": false,
    "editable": false,
    "id": "1glBAlFoXP5k",
    "scrolled": false
   },
   "outputs": [],
   "source": [
    "def lmkhncn(k, Xx, Xx_label, Yy, Yy_label, cLabel):\n",
    "    acc = 0\n",
    "    coff = np.array([[0 for i in range(jml_kelas)] for j in range(jml_kelas)])\n",
    "    \n",
    "    for i in range(len(Yy)):\n",
    "        jarak, jarak_index_min, jarak_nilai_min = closest(Xx, Xx_label, Yy[i], cLabel)\n",
    "        ncn = kncn(k, Xx, Xx_label, Yy[i], cLabel, jarak_index_min)\n",
    "        local_mean = localMeanVector(Xx, ncn)\n",
    "        harmonic_mean = harmonicMean(local_mean, Yy[i])\n",
    "        predict, actual = decision(harmonic_mean, Yy_label[i])\n",
    "        \n",
    "        coff[predict-1][actual-1] += 1\n",
    "        if(predict == actual):\n",
    "            acc += 1\n",
    "#         print(str(round((i+1)/len(Yy),2)*100)+\"%. Prediksi :\"+ str(predict) + \" Actual :\" + str(actual) + \" Acc Lokal: \"+ str(acc/(i+1)))\n",
    "    \n",
    "    acc /= len(Yy)\n",
    "    return acc, coff"
   ]
  },
  {
   "cell_type": "markdown",
   "metadata": {
    "colab_type": "text",
    "id": "1cLGE6CbfX6C"
   },
   "source": [
    "# Inisialisasi"
   ]
  },
  {
   "cell_type": "code",
   "execution_count": 16,
   "metadata": {
    "ExecuteTime": {
     "end_time": "2020-04-07T21:28:04.668426Z",
     "start_time": "2020-04-07T21:28:03.585032Z"
    },
    "deletable": false,
    "editable": false,
    "run_control": {
     "frozen": true
    },
    "scrolled": false
   },
   "outputs": [],
   "source": [
    "# k = 1\n",
    "k = 15\n",
    "file = 'Dataset Pegawai.xlsx'\n",
    "cross_val = 10\n",
    "label_index = 9 #Kinerja\n",
    "normalisasi = False\n",
    "random_data = True\n",
    "data = extraction(file, normalisasi, random_data)\n",
    "arr_kelas, jml_kelas = count_label(data)"
   ]
  },
  {
   "cell_type": "markdown",
   "metadata": {
    "colab_type": "text",
    "heading_collapsed": true,
    "id": "3QNRC_KPZAc1"
   },
   "source": [
    "# Testing"
   ]
  },
  {
   "cell_type": "code",
   "execution_count": null,
   "metadata": {
    "colab": {
     "base_uri": "https://localhost:8080/",
     "height": 1000
    },
    "colab_type": "code",
    "deletable": false,
    "editable": false,
    "hidden": true,
    "id": "zsPF5oAwZABo",
    "outputId": "1c186c16-86c9-4614-e999-dac680a1e502",
    "run_control": {
     "frozen": true
    },
    "scrolled": false
   },
   "outputs": [],
   "source": [
    "arr_coff = [[] for i in range(k)]\n",
    "arr_mean_acc = [0 for i in range(k)]\n",
    "arr_std_acc  = [0 for i in range(k)]\n",
    "\n",
    "for a in range(1, k + 1): #Pengujian Parameter K\n",
    "    arr_acc = [0 for i in range(cross_val)]\n",
    "    for i in range(1, cross_val + 1):\n",
    "        data, train_f, train_l, test_f, test_l = crossValidation(data, cross_val, i, label_index)\n",
    "        acc, coff = lmkhncn(a, train_f, train_l, test_f, test_l, jml_kelas)\n",
    "        arr_acc[i-1] = acc\n",
    "        arr_coff[a-1].append(np.array(coff))\n",
    "#         print(\"Cross-\"+str(i)+\" Acc:\"+ str(acc))\n",
    "    mean, std = evaluation(arr_acc)\n",
    "    arr_mean_acc[a-1] = mean\n",
    "    arr_std_acc[a-1] = std\n",
    "    print('K-{0} Mean : {1} with Standar Deviation : {2}.'.format(a,mean,std))"
   ]
  },
  {
   "cell_type": "code",
   "execution_count": 18,
   "metadata": {
    "ExecuteTime": {
     "end_time": "2020-04-07T21:28:04.788454Z",
     "start_time": "2020-04-07T21:28:04.683308Z"
    },
    "deletable": false,
    "editable": false,
    "hidden": true
   },
   "outputs": [
    {
     "name": "stdout",
     "output_type": "stream",
     "text": [
      "[0.99969605 1.         0.95987842 0.9331307  0.92142857 0.91048632\n",
      " 0.91291793 0.91291793 0.91458967 0.91322188 0.91337386 0.91276596\n",
      " 0.9156535  0.91474164 0.91428571]\n",
      "[0.00091185 0.         0.01735719 0.0159972  0.01851423 0.01724037\n",
      " 0.01772391 0.01744811 0.01737847 0.01899939 0.0176318  0.01866519\n",
      " 0.01870289 0.01882843 0.01881309]\n"
     ]
    }
   ],
   "source": [
    "print(np.array(arr_mean_acc))\n",
    "print(np.array(arr_std_acc))"
   ]
  },
  {
   "cell_type": "code",
   "execution_count": 19,
   "metadata": {
    "ExecuteTime": {
     "end_time": "2020-04-07T21:28:04.891995Z",
     "start_time": "2020-04-07T21:28:04.790420Z"
    },
    "deletable": false,
    "editable": false,
    "hidden": true
   },
   "outputs": [
    {
     "name": "stdout",
     "output_type": "stream",
     "text": [
      "[[[[  0   2   0]\n",
      "   [  0 418   0]\n",
      "   [  0   0 238]]\n",
      "\n",
      "  [[147   0   0]\n",
      "   [  0 376   0]\n",
      "   [  0   0 135]]\n",
      "\n",
      "  [[227   0   0]\n",
      "   [  0 348   0]\n",
      "   [  0   0  83]]\n",
      "\n",
      "  ...\n",
      "\n",
      "  [[320   0   0]\n",
      "   [  0 286   0]\n",
      "   [  0   0  52]]\n",
      "\n",
      "  [[296   0   0]\n",
      "   [  0 306   0]\n",
      "   [  0   0  56]]\n",
      "\n",
      "  [[253   0   0]\n",
      "   [  0 346   0]\n",
      "   [  0   0  59]]]\n",
      "\n",
      "\n",
      " [[[253   0   0]\n",
      "   [  0 346   0]\n",
      "   [  0   0  59]]\n",
      "\n",
      "  [[147   0   0]\n",
      "   [  0 376   0]\n",
      "   [  0   0 135]]\n",
      "\n",
      "  [[227   0   0]\n",
      "   [  0 348   0]\n",
      "   [  0   0  83]]\n",
      "\n",
      "  ...\n",
      "\n",
      "  [[320   0   0]\n",
      "   [  0 286   0]\n",
      "   [  0   0  52]]\n",
      "\n",
      "  [[296   0   0]\n",
      "   [  0 306   0]\n",
      "   [  0   0  56]]\n",
      "\n",
      "  [[253   0   0]\n",
      "   [  0 346   0]\n",
      "   [  0   0  59]]]\n",
      "\n",
      "\n",
      " [[[245  25   0]\n",
      "   [  6 319  10]\n",
      "   [  2   2  49]]\n",
      "\n",
      "  [[147   2   1]\n",
      "   [  0 373   3]\n",
      "   [  0   1 131]]\n",
      "\n",
      "  [[222   7   1]\n",
      "   [  5 341   1]\n",
      "   [  0   0  81]]\n",
      "\n",
      "  ...\n",
      "\n",
      "  [[304   7   2]\n",
      "   [ 16 278   4]\n",
      "   [  0   1  46]]\n",
      "\n",
      "  [[285  10   1]\n",
      "   [ 11 296   3]\n",
      "   [  0   0  52]]\n",
      "\n",
      "  [[245  25   0]\n",
      "   [  6 319  10]\n",
      "   [  2   2  49]]]\n",
      "\n",
      "\n",
      " ...\n",
      "\n",
      "\n",
      " [[[235  24   2]\n",
      "   [ 17 320  12]\n",
      "   [  1   2  45]]\n",
      "\n",
      "  [[145   6   5]\n",
      "   [  2 366  13]\n",
      "   [  0   4 117]]\n",
      "\n",
      "  [[208  10   6]\n",
      "   [ 18 333   7]\n",
      "   [  1   5  70]]\n",
      "\n",
      "  ...\n",
      "\n",
      "  [[289  16   6]\n",
      "   [ 30 269   4]\n",
      "   [  1   1  42]]\n",
      "\n",
      "  [[271  15   3]\n",
      "   [ 24 287   2]\n",
      "   [  1   4  51]]\n",
      "\n",
      "  [[235  24   2]\n",
      "   [ 17 320  12]\n",
      "   [  1   2  45]]]\n",
      "\n",
      "\n",
      " [[[235  25   2]\n",
      "   [ 18 319  12]\n",
      "   [  0   2  45]]\n",
      "\n",
      "  [[145   6   4]\n",
      "   [  2 366  14]\n",
      "   [  0   4 117]]\n",
      "\n",
      "  [[209  11   6]\n",
      "   [ 17 332   7]\n",
      "   [  1   5  70]]\n",
      "\n",
      "  ...\n",
      "\n",
      "  [[286  16   6]\n",
      "   [ 33 269   4]\n",
      "   [  1   1  42]]\n",
      "\n",
      "  [[272  14   3]\n",
      "   [ 23 288   2]\n",
      "   [  1   4  51]]\n",
      "\n",
      "  [[235  25   2]\n",
      "   [ 18 319  12]\n",
      "   [  0   2  45]]]\n",
      "\n",
      "\n",
      " [[[235  26   2]\n",
      "   [ 17 317  12]\n",
      "   [  1   3  45]]\n",
      "\n",
      "  [[145   6   4]\n",
      "   [  2 366  14]\n",
      "   [  0   4 117]]\n",
      "\n",
      "  [[209  11   6]\n",
      "   [ 17 332   7]\n",
      "   [  1   5  70]]\n",
      "\n",
      "  ...\n",
      "\n",
      "  [[286  15   6]\n",
      "   [ 33 270   4]\n",
      "   [  1   1  42]]\n",
      "\n",
      "  [[272  14   3]\n",
      "   [ 23 288   2]\n",
      "   [  1   4  51]]\n",
      "\n",
      "  [[235  26   2]\n",
      "   [ 17 317  12]\n",
      "   [  1   3  45]]]]\n"
     ]
    }
   ],
   "source": [
    "print(np.array(arr_coff))"
   ]
  },
  {
   "cell_type": "markdown",
   "metadata": {},
   "source": [
    "# Save Data"
   ]
  },
  {
   "cell_type": "code",
   "execution_count": null,
   "metadata": {
    "deletable": false,
    "editable": false,
    "run_control": {
     "frozen": true
    }
   },
   "outputs": [],
   "source": [
    "dill.dump_session('Pengujian.db')"
   ]
  },
  {
   "cell_type": "code",
   "execution_count": 20,
   "metadata": {
    "ExecuteTime": {
     "end_time": "2020-04-07T21:28:05.001977Z",
     "start_time": "2020-04-07T21:28:04.893988Z"
    }
   },
   "outputs": [],
   "source": [
    "def coff_transform(coff):\n",
    "    prec = np.array([[0 for i in range(len(coff[0][0]))] for j in range(len(coff))]).astype(np.float)\n",
    "    rec = np.array([[0 for i in range(len(coff[0][0]))] for j in range(len(coff))]).astype(np.float)\n",
    "    acc = np.array([0 for j in range(len(coff))]).astype(np.float)\n",
    "    for i in range(len(coff)):\n",
    "        ttp = 0\n",
    "        tfp = np.array([0 for i in range(len(coff[0][0]))])\n",
    "        tfn = np.array([0 for i in range(len(coff[0][0]))])\n",
    "        for j in range(len(coff[i])):\n",
    "            count_test = sum(sum(arr_coff[i][j]))\n",
    "            for k in range(len(coff[i][j])):\n",
    "                ttp += coff[i][j][k][k]\n",
    "#                 tfp[k] = sum(coff[i][j])[k]\n",
    "#                 tfn[k] = sum(coff[i][j][k])\n",
    "                tfp[k] = sum(coff[i][j][k])\n",
    "                tfn[k] = sum(coff[i][j])[k]\n",
    "            for k in range(len(coff[i][j])):\n",
    "                prec[i][k] += ttp / (ttp + tfp[k])\n",
    "                rec[i][k] += ttp / (ttp + tfn[k])\n",
    "        for j in range(len(coff[i][j])):\n",
    "            prec[i][j] /= len(coff[i])\n",
    "            rec[i][j] /= len(coff[i])\n",
    "        acc[i] = (ttp / count_test) / len(coff[i])  \n",
    "    return prec, rec, acc"
   ]
  },
  {
   "cell_type": "code",
   "execution_count": 21,
   "metadata": {
    "ExecuteTime": {
     "end_time": "2020-04-07T21:28:05.097863Z",
     "start_time": "2020-04-07T21:28:05.003885Z"
    }
   },
   "outputs": [
    {
     "name": "stdout",
     "output_type": "stream",
     "text": [
      "[[0.93247584 0.8766382  0.95203487]\n",
      " [0.90505356 0.88115786 0.97044897]\n",
      " [0.89983666 0.87735683 0.97030519]\n",
      " [0.89835685 0.87471203 0.97010332]\n",
      " [0.8970579  0.87269726 0.97043041]\n",
      " [0.89687101 0.87081146 0.97029016]\n",
      " [0.89736744 0.87056183 0.9708983 ]\n",
      " [0.89751105 0.8707635  0.97074801]\n",
      " [0.89771301 0.870859   0.97074662]\n",
      " [0.89791955 0.87074665 0.97087181]\n",
      " [0.89772192 0.87079459 0.97101457]\n",
      " [0.89733245 0.87100333 0.97120672]\n",
      " [0.89816754 0.870723   0.97149089]\n",
      " [0.89806837 0.87050191 0.97165386]\n",
      " [0.8978679  0.87063569 0.9712309 ]]\n",
      "\n",
      "[[0.93277979 0.87652466 0.95203487]\n",
      " [0.90505356 0.88115786 0.97044897]\n",
      " [0.90134695 0.87681365 0.96913198]\n",
      " [0.89949231 0.87473035 0.96859035]\n",
      " [0.89822637 0.87327141 0.96815777]\n",
      " [0.89726997 0.87217153 0.96785904]\n",
      " [0.89752652 0.87245534 0.96792992]\n",
      " [0.89765192 0.87261865 0.96799498]\n",
      " [0.89778395 0.87275746 0.96802782]\n",
      " [0.89785033 0.87285784 0.96807534]\n",
      " [0.89783024 0.87283332 0.96806952]\n",
      " [0.89780666 0.87281299 0.96806715]\n",
      " [0.89809459 0.87314702 0.96816406]\n",
      " [0.89799942 0.87303885 0.96813202]\n",
      " [0.89788081 0.87289417 0.96808125]]\n",
      "\n",
      "[0.99969605 1.         0.95987842 0.9331307  0.92142857 0.91048632\n",
      " 0.91291793 0.91291793 0.91458967 0.91322188 0.91337386 0.91276596\n",
      " 0.9156535  0.91474164 0.91428571]\n"
     ]
    }
   ],
   "source": [
    "precision, recall, accuracy = coff_transform(arr_coff)\n",
    "print(precision)\n",
    "print()\n",
    "print(recall)\n",
    "print()\n",
    "print(accuracy)"
   ]
  },
  {
   "cell_type": "code",
   "execution_count": null,
   "metadata": {},
   "outputs": [],
   "source": []
  }
 ],
 "metadata": {
  "colab": {
   "collapsed_sections": [],
   "name": "Pengujian.ipynb",
   "provenance": [],
   "toc_visible": true
  },
  "kernelspec": {
   "display_name": "Python 3",
   "language": "python",
   "name": "python3"
  },
  "language_info": {
   "codemirror_mode": {
    "name": "ipython",
    "version": 3
   },
   "file_extension": ".py",
   "mimetype": "text/x-python",
   "name": "python",
   "nbconvert_exporter": "python",
   "pygments_lexer": "ipython3",
   "version": "3.6.2"
  },
  "notify_time": "30",
  "toc": {
   "base_numbering": "1",
   "nav_menu": {
    "height": "140px",
    "width": "172px"
   },
   "number_sections": true,
   "sideBar": true,
   "skip_h1_title": false,
   "title_cell": "Table of Contents",
   "title_sidebar": "Contents",
   "toc_cell": false,
   "toc_position": {
    "height": "359.6px",
    "left": "937px",
    "top": "158.8px",
    "width": "215px"
   },
   "toc_section_display": true,
   "toc_window_display": true
  }
 },
 "nbformat": 4,
 "nbformat_minor": 1
}
