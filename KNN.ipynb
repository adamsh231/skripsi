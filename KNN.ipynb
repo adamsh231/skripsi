{
 "cells": [
  {
   "cell_type": "markdown",
   "metadata": {
    "deletable": false,
    "editable": false,
    "heading_collapsed": true
   },
   "source": [
    "# Import Library"
   ]
  },
  {
   "cell_type": "code",
   "execution_count": 1,
   "metadata": {
    "ExecuteTime": {
     "end_time": "2020-06-13T16:12:20.333806Z",
     "start_time": "2020-06-13T16:12:18.991378Z"
    },
    "deletable": false,
    "editable": false,
    "hidden": true
   },
   "outputs": [],
   "source": [
    "import numpy as np\n",
    "import pandas as pd\n",
    "import random\n",
    "import math\n",
    "from sklearn.neighbors import KNeighborsClassifier #KNN\n",
    "from sklearn import metrics #akurasi\n",
    "from sklearn.metrics import confusion_matrix #confussion matrix\n",
    "from sklearn.metrics import recall_score # recall\n",
    "from sklearn.metrics import precision_score #precision\n",
    "from sklearn.metrics import f1_score #f1 score"
   ]
  },
  {
   "cell_type": "markdown",
   "metadata": {
    "deletable": false,
    "editable": false,
    "heading_collapsed": true
   },
   "source": [
    "# Manual Method (Preprocessing and Support)"
   ]
  },
  {
   "cell_type": "code",
   "execution_count": 2,
   "metadata": {
    "ExecuteTime": {
     "end_time": "2020-06-13T16:12:20.342799Z",
     "start_time": "2020-06-13T16:12:20.336797Z"
    },
    "deletable": false,
    "editable": false,
    "hidden": true
   },
   "outputs": [],
   "source": [
    "def count_label(data):\n",
    "    distinct = [data[0][-1]]\n",
    "    for i in range(len(data)):\n",
    "        check = True\n",
    "        for j in range(len(distinct)):\n",
    "            if distinct[j] == data[i][-1]:\n",
    "                check = False\n",
    "        if check:\n",
    "            distinct.append(data[i][-1])\n",
    "    return np.array(distinct).astype(int), len(distinct)"
   ]
  },
  {
   "cell_type": "code",
   "execution_count": 3,
   "metadata": {
    "ExecuteTime": {
     "end_time": "2020-06-13T16:12:20.438678Z",
     "start_time": "2020-06-13T16:12:20.345742Z"
    },
    "deletable": false,
    "editable": false,
    "hidden": true
   },
   "outputs": [],
   "source": [
    "def evaluation(arr_acc):\n",
    "    mean = np.mean(arr_acc)\n",
    "    varian = sum((arr_acc - mean) * (arr_acc - mean)) / len(arr_acc)\n",
    "    std = math.sqrt(varian)\n",
    "    return mean, std"
   ]
  },
  {
   "cell_type": "code",
   "execution_count": 4,
   "metadata": {
    "ExecuteTime": {
     "end_time": "2020-06-13T16:12:20.550607Z",
     "start_time": "2020-06-13T16:12:20.440627Z"
    },
    "deletable": false,
    "editable": false,
    "hidden": true
   },
   "outputs": [],
   "source": [
    "def handleMissValue(data):\n",
    "    filled_data = np.array([[0 for i in range(len(data[0]))] for j in range(len(data))])\n",
    "    cLabel = count_label(data)[1]\n",
    "    arr_data = [[] for j in range(cLabel)]\n",
    "    mean = []\n",
    "    for i in range(len(data)):\n",
    "        arr_data[int(data[i][-1])-1].append(data[i])\n",
    "    counter = 0\n",
    "    for i in range(len(arr_data)):\n",
    "        mean.append(np.nanmean(arr_data[i], axis=0))\n",
    "        for j in range(len(arr_data[i])):\n",
    "            for k in range(len(arr_data[i][j])):\n",
    "                if np.isnan(arr_data[i][j][k]):\n",
    "                    arr_data[i][j][k] = mean[i][k]\n",
    "            filled_data[counter] = arr_data[i][j]\n",
    "            counter += 1\n",
    "    return filled_data"
   ]
  },
  {
   "cell_type": "code",
   "execution_count": 5,
   "metadata": {
    "ExecuteTime": {
     "end_time": "2020-06-13T16:12:20.627786Z",
     "start_time": "2020-06-13T16:12:20.553624Z"
    },
    "deletable": false,
    "editable": false,
    "hidden": true
   },
   "outputs": [],
   "source": [
    "def randomize(arr):\n",
    "    for i in range(len(arr)-1, 0, -1):\n",
    "        j = random.randint(0, i)\n",
    "        arr[i], arr[j] = arr[j], arr[i]\n",
    "    return arr"
   ]
  },
  {
   "cell_type": "code",
   "execution_count": 6,
   "metadata": {
    "ExecuteTime": {
     "end_time": "2020-06-13T16:12:20.716441Z",
     "start_time": "2020-06-13T16:12:20.629066Z"
    },
    "deletable": false,
    "editable": false,
    "hidden": true
   },
   "outputs": [],
   "source": [
    "def normalize(data):\n",
    "    data = np.array(data).astype(float)\n",
    "    max_value = np.max(data, axis=0)\n",
    "    min_value = np.min(data, axis=0)\n",
    "    for i in range(len(data)):\n",
    "        for j in range(len(data[0])-1):\n",
    "            data[i][j] = (data[i][j] - min_value[j]) / (max_value[j] - min_value[j])\n",
    "    return data"
   ]
  },
  {
   "cell_type": "code",
   "execution_count": 7,
   "metadata": {
    "ExecuteTime": {
     "end_time": "2020-06-13T16:12:20.803882Z",
     "start_time": "2020-06-13T16:12:20.719942Z"
    },
    "deletable": false,
    "editable": false,
    "hidden": true
   },
   "outputs": [],
   "source": [
    "def extraction(file, is_normal = True, is_random = True):\n",
    "    data = pd.read_excel(file)\n",
    "    data = handleMissValue(np.array(data))\n",
    "    data = pd.DataFrame(data)\n",
    "    data.drop_duplicates()\n",
    "    data = np.array(data)\n",
    "    if is_normal:\n",
    "        data = normalize(data)\n",
    "    if is_random:\n",
    "        data = randomize(data.tolist())\n",
    "    return data"
   ]
  },
  {
   "cell_type": "code",
   "execution_count": 8,
   "metadata": {
    "ExecuteTime": {
     "end_time": "2020-06-13T16:12:20.959789Z",
     "start_time": "2020-06-13T16:12:20.806844Z"
    },
    "deletable": false,
    "editable": false,
    "hidden": true
   },
   "outputs": [],
   "source": [
    "def crossValidation(data, cross_val, cross_index, label_index):\n",
    "    split_test = int(len(data) * (1 / cross_val))\n",
    "    change_index = (cross_index - 1) * split_test\n",
    "    \n",
    "    for i in range(split_test):\n",
    "        j = (i + change_index)\n",
    "        data[i], data[j] = data[j], data[i]\n",
    "    \n",
    "    data_train_feature = pd.DataFrame(data[split_test:]).drop([label_index], axis=1)\n",
    "    data_train_label = pd.DataFrame(pd.DataFrame(data[split_test:]), columns=[label_index]).astype(np.int)\n",
    "    data_test_feature = pd.DataFrame(data[0:split_test]).drop([label_index], axis=1)\n",
    "    data_test_label = pd.DataFrame(pd.DataFrame(data[0:split_test]), columns=[label_index]).astype(np.int)\n",
    "    \n",
    "    data_train_feature = np.array(data_train_feature)\n",
    "    data_train_label = np.array(data_train_label)\n",
    "    data_test_feature = np.array(data_test_feature)\n",
    "    data_test_label = np.array(data_test_label)\n",
    "\n",
    "    return data, data_train_feature, data_train_label, data_test_feature, data_test_label"
   ]
  },
  {
   "cell_type": "code",
   "execution_count": 9,
   "metadata": {
    "ExecuteTime": {
     "end_time": "2020-06-13T16:12:21.048016Z",
     "start_time": "2020-06-13T16:12:20.960810Z"
    },
    "deletable": false,
    "editable": false,
    "hidden": true
   },
   "outputs": [],
   "source": [
    "##transform into 1d label array \n",
    "def transformArrLabel(X_label, Y_label):\n",
    "    X_transformed = []\n",
    "    Y_transformed = []\n",
    "    for i in range(len(X_label)):\n",
    "        X_transformed.append(X_label[i][0])\n",
    "    for i in range(len(Y_label)):\n",
    "        Y_transformed.append(Y_label[i][0])\n",
    "    return np.array(X_transformed), np.array(Y_transformed)"
   ]
  },
  {
   "cell_type": "code",
   "execution_count": 10,
   "metadata": {
    "ExecuteTime": {
     "end_time": "2020-06-13T16:12:21.137118Z",
     "start_time": "2020-06-13T16:12:21.049200Z"
    },
    "deletable": false,
    "editable": false,
    "hidden": true
   },
   "outputs": [],
   "source": [
    "def pickCoff(coff):\n",
    "    choosen_coff = []\n",
    "    for i in range(len(coff)):\n",
    "        for j in range(len(coff[i])):\n",
    "            acc = 0\n",
    "            for k in range(len(coff[i][j])):\n",
    "                for l in range(len(coff[i][j][k])):\n",
    "                    if k == l:\n",
    "                        acc += coff[i][j][k][l]\n",
    "            acc /= np.sum(coff[i][j])\n",
    "            if acc != 1:\n",
    "                choosen_coff.append(coff[i][j])\n",
    "                break\n",
    "            elif j == len(coff[i]) - 1:\n",
    "                choosen_coff.append(coff[i][j])\n",
    "    return np.array(choosen_coff)"
   ]
  },
  {
   "cell_type": "markdown",
   "metadata": {
    "deletable": false,
    "editable": false,
    "heading_collapsed": true
   },
   "source": [
    "# Inisialisasi"
   ]
  },
  {
   "cell_type": "code",
   "execution_count": 11,
   "metadata": {
    "ExecuteTime": {
     "end_time": "2020-06-13T16:12:22.155977Z",
     "start_time": "2020-06-13T16:12:21.138201Z"
    },
    "deletable": false,
    "editable": false,
    "hidden": true
   },
   "outputs": [],
   "source": [
    "k = 15\n",
    "file = 'Dataset Pegawai.xlsx'\n",
    "cross_val = 10\n",
    "label_index = 9 #Kinerja\n",
    "normalisasi = True\n",
    "random_data = True\n",
    "data = extraction(file, normalisasi, random_data)"
   ]
  },
  {
   "cell_type": "markdown",
   "metadata": {
    "deletable": false,
    "editable": false,
    "heading_collapsed": true
   },
   "source": [
    "# Testing"
   ]
  },
  {
   "cell_type": "code",
   "execution_count": 12,
   "metadata": {
    "ExecuteTime": {
     "end_time": "2020-06-13T16:12:42.193788Z",
     "start_time": "2020-06-13T16:12:22.159016Z"
    },
    "deletable": false,
    "editable": false,
    "hidden": true
   },
   "outputs": [],
   "source": [
    "k_range = range(1,16)\n",
    "\n",
    "arr_coff = [[] for i in range(k)]\n",
    "arr_mean_acc = [0 for i in range(k)]\n",
    "arr_std_acc  = [0 for i in range(k)]\n",
    "\n",
    "for k in k_range:\n",
    "    arr_acc = [0 for i in range(cross_val)]\n",
    "    for i in range(1, cross_val + 1):\n",
    "        data, train_f, train_l, test_f, test_l = crossValidation(data, cross_val, i, label_index)\n",
    "        train_l, test_l = transformArrLabel(train_l, test_l)\n",
    "        knn = KNeighborsClassifier(n_neighbors = k, algorithm='brute')\n",
    "        knn.fit(train_f, train_l)\n",
    "        y_pred = knn.predict(test_f)\n",
    "        acc = metrics.accuracy_score(test_l, y_pred)\n",
    "        arr_acc[i-1] = acc\n",
    "        \n",
    "        arr_coff[k-1].append(confusion_matrix(test_l, y_pred))\n",
    "\n",
    "#         print(\"Cross-\"+str(i)+\" Acc:\"+ str(acc))\n",
    "#         print(\"---------------------------------------------------------\")\n",
    "\n",
    "    mean, std = evaluation(arr_acc)\n",
    "    arr_mean_acc[k-1] = mean\n",
    "    arr_std_acc[k-1] = std\n",
    "#     print('K-{0} Mean : {1} with Standar Deviation : {2}.'.format(k,mean,std))\n",
    "#     print(\"==========================================================\")"
   ]
  },
  {
   "cell_type": "code",
   "execution_count": 13,
   "metadata": {
    "ExecuteTime": {
     "end_time": "2020-06-13T16:12:42.203802Z",
     "start_time": "2020-06-13T16:12:42.195752Z"
    },
    "deletable": false,
    "editable": false,
    "hidden": true
   },
   "outputs": [
    {
     "name": "stdout",
     "output_type": "stream",
     "text": [
      "[0.95410334 0.94848024 0.95881459 0.95425532 0.95972644 0.95440729\n",
      " 0.95927052 0.95607903 0.95744681 0.95288754 0.9550152  0.95167173\n",
      " 0.95547112 0.94954407 0.95319149]\n",
      "[0.00389248 0.0056231  0.00617141 0.00646388 0.00703862 0.00580698\n",
      " 0.00525581 0.0056231  0.00633941 0.00641186 0.00781457 0.00960698\n",
      " 0.00781013 0.00834622 0.0088303 ]\n"
     ]
    }
   ],
   "source": [
    "print(np.array(arr_mean_acc))\n",
    "print(np.array(arr_std_acc))\n",
    "# print(np.array(arr_coff))"
   ]
  },
  {
   "cell_type": "markdown",
   "metadata": {
    "hidden": true
   },
   "source": [
    "## Manual Testing (Manual vs Library => Precision, Recall, dan F1-Score)"
   ]
  },
  {
   "cell_type": "code",
   "execution_count": 14,
   "metadata": {
    "ExecuteTime": {
     "end_time": "2020-06-13T16:12:42.325126Z",
     "start_time": "2020-06-13T16:12:42.205751Z"
    },
    "deletable": false,
    "editable": false,
    "hidden": true
   },
   "outputs": [],
   "source": [
    "picked_coff = pickCoff(np.array(arr_coff))\n",
    "# print(np.array(picked_coff))"
   ]
  },
  {
   "cell_type": "markdown",
   "metadata": {
    "deletable": false,
    "editable": false,
    "hidden": true
   },
   "source": [
    "### Method (Manual)"
   ]
  },
  {
   "cell_type": "code",
   "execution_count": 15,
   "metadata": {
    "ExecuteTime": {
     "end_time": "2020-06-13T16:12:42.414811Z",
     "start_time": "2020-06-13T16:12:42.325985Z"
    },
    "deletable": false,
    "editable": false,
    "hidden": true
   },
   "outputs": [],
   "source": [
    "def calcPrecRec(coff):\n",
    "    tfn = []\n",
    "    tfp = []\n",
    "    ttp = []\n",
    "    precision = []\n",
    "    recall = []\n",
    "    f1score = []\n",
    "    for i in range(len(coff)):\n",
    "        tfn.append(np.sum(coff[i], axis = 1))\n",
    "        tfp.append(np.sum(coff[i], axis = 0))\n",
    "        ttp.append(np.sum(coff[i], axis = 1))\n",
    "        for j in range(len(coff[i])):\n",
    "            for k in range(len(coff[i][j])):\n",
    "                if j == k:\n",
    "                    tfn[i][j] -= coff[i][j][k]\n",
    "                    tfp[i][j] -= coff[i][j][k]\n",
    "                else:\n",
    "                    ttp[i][j] -= coff[i][j][k]\n",
    "    for i in range(len(tfn)):\n",
    "        precision.append(np.array([0 for i in range(len(tfn[i]))]).astype(np.float32))\n",
    "        recall.append(np.array([0 for i in range(len(tfn[i]))]).astype(np.float32))\n",
    "        f1score.append(np.array([0 for i in range(len(tfn[i]))]).astype(np.float32))\n",
    "        for j in range(len(tfn[i])):\n",
    "            precision[i][j] = ttp[i][j]/(ttp[i][j] + tfp[i][j])\n",
    "            recall[i][j] = ttp[i][j]/(ttp[i][j] + tfn[i][j])\n",
    "            f1score[i][j] = 2 * precision[i][j] * recall[i][j] / (precision[i][j] + recall[i][j])\n",
    "    return np.array(precision), np.array(recall), np.array(f1score)"
   ]
  },
  {
   "cell_type": "code",
   "execution_count": 16,
   "metadata": {
    "ExecuteTime": {
     "end_time": "2020-06-13T16:12:42.513334Z",
     "start_time": "2020-06-13T16:12:42.417770Z"
    },
    "deletable": false,
    "editable": false,
    "hidden": true
   },
   "outputs": [],
   "source": [
    "def calcAvg(precision, recall, f1score):\n",
    "    precision_mean = []\n",
    "    recall_mean = []\n",
    "    f1score_mean = []\n",
    "    for i in range(len(precision)):\n",
    "        precision_mean.append(np.average(precision[i]))\n",
    "        recall_mean.append(np.average(recall[i]))\n",
    "        f1score_mean.append(np.average(f1score[i]))\n",
    "    return np.array(precision_mean), np.array(recall_mean), np.array(f1score_mean)"
   ]
  },
  {
   "cell_type": "code",
   "execution_count": 17,
   "metadata": {
    "ExecuteTime": {
     "end_time": "2020-06-13T16:12:42.613770Z",
     "start_time": "2020-06-13T16:12:42.516024Z"
    },
    "deletable": false,
    "editable": false,
    "hidden": true
   },
   "outputs": [],
   "source": [
    "precision_arr, recall_arr, f1score_arr = calcPrecRec(picked_coff)\n",
    "precision_arr_avg, recall_arr_avg, f1score_arr_avg = calcAvg(precision_arr, recall_arr, f1score_arr)"
   ]
  },
  {
   "cell_type": "markdown",
   "metadata": {
    "deletable": false,
    "editable": false,
    "hidden": true
   },
   "source": [
    "### Method (Library)"
   ]
  },
  {
   "cell_type": "code",
   "execution_count": 18,
   "metadata": {
    "ExecuteTime": {
     "end_time": "2020-06-13T16:12:42.734697Z",
     "start_time": "2020-06-13T16:12:42.616729Z"
    },
    "deletable": false,
    "editable": false,
    "hidden": true
   },
   "outputs": [],
   "source": [
    "def splitCoff(picked_coff):\n",
    "    actual = []\n",
    "    predict = []\n",
    "    for i in range(len(picked_coff)):\n",
    "        predict.append([])\n",
    "        actual.append([])\n",
    "        for j in range(len(picked_coff[i])):\n",
    "            for k in range(len(picked_coff[i][j])):\n",
    "                for l in range(picked_coff[i][j][k]):\n",
    "                    if j == k:\n",
    "                        actual[i].append(j)\n",
    "                        predict[i].append(j)\n",
    "                    else:\n",
    "                        actual[i].append(j)\n",
    "                        predict[i].append(k)\n",
    "    return actual, predict"
   ]
  },
  {
   "cell_type": "code",
   "execution_count": 19,
   "metadata": {
    "ExecuteTime": {
     "end_time": "2020-06-13T16:12:42.956175Z",
     "start_time": "2020-06-13T16:12:42.735669Z"
    },
    "deletable": false,
    "editable": false,
    "hidden": true
   },
   "outputs": [],
   "source": [
    "picked_coff = pickCoff(np.array(arr_coff))\n",
    "\n",
    "precision_lib_arr = []\n",
    "recall_lib_arr = []\n",
    "f1score_lib_arr = []\n",
    "\n",
    "precision_lib_arr_avg = []\n",
    "recall_lib_arr_avg = []\n",
    "f1score_lib_arr_avg = []\n",
    "\n",
    "for i in range(len(picked_coff)):\n",
    "    actual, predict = splitCoff(picked_coff)\n",
    "    \n",
    "    recall_lib = recall_score(actual[i], predict[i], average=None)\n",
    "    precision_lib = precision_score(actual[i], predict[i], average=None)\n",
    "    f1score_lib = f1_score(actual[i], predict[i], average=None)\n",
    "    \n",
    "    recall_lib_avg = recall_score(actual[i], predict[i], average='macro')\n",
    "    precision_lib_avg = precision_score(actual[i], predict[i], average='macro')\n",
    "    f1score_lib_avg = f1_score(actual[i], predict[i], average='macro')\n",
    "    \n",
    "    recall_lib_arr.append(recall_lib)\n",
    "    precision_lib_arr.append(precision_lib)\n",
    "    f1score_lib_arr.append(f1score_lib)\n",
    "    \n",
    "    precision_lib_arr_avg.append(precision_lib_avg)\n",
    "    recall_lib_arr_avg.append(recall_lib_avg)\n",
    "    f1score_lib_arr_avg.append(f1score_lib_avg)"
   ]
  },
  {
   "cell_type": "markdown",
   "metadata": {
    "deletable": false,
    "editable": false,
    "hidden": true
   },
   "source": [
    "### Output (Manual)"
   ]
  },
  {
   "cell_type": "markdown",
   "metadata": {
    "deletable": false,
    "editable": false,
    "heading_collapsed": true,
    "hidden": true
   },
   "source": [
    "#### Precision, Recall and F1-Score (Each Class)"
   ]
  },
  {
   "cell_type": "code",
   "execution_count": 20,
   "metadata": {
    "ExecuteTime": {
     "end_time": "2020-06-13T16:12:42.964710Z",
     "start_time": "2020-06-13T16:12:42.958160Z"
    },
    "deletable": false,
    "editable": false,
    "hidden": true
   },
   "outputs": [
    {
     "name": "stdout",
     "output_type": "stream",
     "text": [
      "-------------Precision--------------\n",
      "[[0.9314079  0.9531773  0.9878049 ]\n",
      " [0.90181816 0.96949154 1.        ]\n",
      " [0.9389313  0.971246   1.        ]\n",
      " [0.9233871  0.97805643 1.        ]\n",
      " [0.9236364  0.9738562  0.97402596]\n",
      " [0.936255   0.9591195  0.98876405]\n",
      " [0.9404255  0.9738372  1.        ]\n",
      " [0.8981818  0.9806452  1.        ]\n",
      " [0.9583333  0.971246   1.        ]\n",
      " [0.91544116 0.971519   0.9714286 ]\n",
      " [0.9403509  0.9862543  0.9878049 ]\n",
      " [0.91449815 0.96989965 1.        ]\n",
      " [0.9245283  0.9645161  0.9879518 ]\n",
      " [0.90118575 0.9807692  1.        ]\n",
      " [0.9007092  0.97333336 0.9868421 ]]\n",
      "\n",
      "---------------Recall----------------\n",
      "[[0.95555556 0.93442625 0.97590363]\n",
      " [0.98804784 0.913738   0.9361702 ]\n",
      " [0.972332   0.95       0.9764706 ]\n",
      " [0.991342   0.94259816 0.9479167 ]\n",
      " [0.9694657  0.9283489  1.        ]\n",
      " [0.96311474 0.94720495 0.95652175]\n",
      " [0.9650655  0.95988536 0.9875    ]\n",
      " [0.988      0.91566265 0.9605263 ]\n",
      " [0.97307694 0.96507937 0.97590363]\n",
      " [0.9880952  0.92469877 0.9189189 ]\n",
      " [0.9925926  0.9409836  0.97590363]\n",
      " [0.9800797  0.92651755 0.9574468 ]\n",
      " [0.96837944 0.934375   0.9647059 ]\n",
      " [0.987013   0.9244713  0.96875   ]\n",
      " [0.9694657  0.9096573  1.        ]]\n",
      "\n",
      "--------------F1-SCORE---------------\n",
      "[[0.94332725 0.9437086  0.9818182 ]\n",
      " [0.9429658  0.9407895  0.96703297]\n",
      " [0.95533985 0.9605055  0.9880952 ]\n",
      " [0.9561587  0.96000004 0.973262  ]\n",
      " [0.9459963  0.9505582  0.9868421 ]\n",
      " [0.94949496 0.953125   0.9723757 ]\n",
      " [0.9525862  0.966811   0.99371076]\n",
      " [0.9409523  0.9470405  0.9798658 ]\n",
      " [0.96564883 0.9681529  0.9878049 ]\n",
      " [0.9503817  0.9475308  0.9444444 ]\n",
      " [0.9657658  0.96308726 0.9818182 ]\n",
      " [0.9461539  0.9477124  0.9782609 ]\n",
      " [0.9459459  0.94920635 0.9761905 ]\n",
      " [0.94214875 0.9517885  0.984127  ]\n",
      " [0.9338235  0.9404187  0.99337745]]\n",
      "\n"
     ]
    }
   ],
   "source": [
    "print(\"-------------Precision--------------\")\n",
    "print(precision_arr)\n",
    "print()\n",
    "print(\"---------------Recall----------------\")\n",
    "print(recall_arr)\n",
    "print()\n",
    "print(\"--------------F1-SCORE---------------\")\n",
    "print(f1score_arr)\n",
    "print()"
   ]
  },
  {
   "cell_type": "markdown",
   "metadata": {
    "deletable": false,
    "editable": false,
    "hidden": true
   },
   "source": [
    "#### Precision, Recall and F1-Score (Average)"
   ]
  },
  {
   "cell_type": "code",
   "execution_count": 21,
   "metadata": {
    "ExecuteTime": {
     "end_time": "2020-06-13T16:12:43.056938Z",
     "start_time": "2020-06-13T16:12:42.966720Z"
    },
    "deletable": false,
    "editable": false,
    "hidden": true
   },
   "outputs": [
    {
     "name": "stdout",
     "output_type": "stream",
     "text": [
      "-------------Precision--------------\n",
      "[0.9574633  0.95710325 0.9700591  0.9671478  0.9571729  0.9613795\n",
      " 0.97142094 0.95960903 0.97652644 0.9527962  0.97147006 0.9614659\n",
      " 0.95899874 0.96065164 0.95362824]\n",
      "\n",
      "---------------Recall----------------\n",
      "[0.9552951  0.9459853  0.9662676  0.960619   0.96593815 0.9556138\n",
      " 0.9708169  0.9547296  0.97135335 0.94390434 0.9698265  0.9546814\n",
      " 0.9558201  0.96007806 0.9597077 ]\n",
      "\n",
      "--------------F1-SCORE---------------\n",
      "[0.9562847  0.9502628  0.9679802  0.96314025 0.9611322  0.9583319\n",
      " 0.97103596 0.9559529  0.97386885 0.9474523  0.9702237  0.9573757\n",
      " 0.9571143  0.9593547  0.95587325]\n",
      "\n"
     ]
    }
   ],
   "source": [
    "print(\"-------------Precision--------------\")\n",
    "print(precision_arr_avg)\n",
    "print()\n",
    "print(\"---------------Recall----------------\")\n",
    "print(recall_arr_avg)\n",
    "print()\n",
    "print(\"--------------F1-SCORE---------------\")\n",
    "print(f1score_arr_avg)\n",
    "print()"
   ]
  },
  {
   "cell_type": "markdown",
   "metadata": {
    "deletable": false,
    "editable": false,
    "hidden": true
   },
   "source": [
    "### Output (Library)"
   ]
  },
  {
   "cell_type": "markdown",
   "metadata": {
    "deletable": false,
    "editable": false,
    "heading_collapsed": true,
    "hidden": true
   },
   "source": [
    "#### Precision, Recall and F1-Score (Each Class)"
   ]
  },
  {
   "cell_type": "code",
   "execution_count": 22,
   "metadata": {
    "ExecuteTime": {
     "end_time": "2020-06-13T16:12:43.135785Z",
     "start_time": "2020-06-13T16:12:43.058935Z"
    },
    "deletable": false,
    "editable": false,
    "hidden": true
   },
   "outputs": [
    {
     "name": "stdout",
     "output_type": "stream",
     "text": [
      "-------------Precision--------------\n",
      "[[0.93140794 0.95317726 0.98780488]\n",
      " [0.90181818 0.96949153 1.        ]\n",
      " [0.9389313  0.97124601 1.        ]\n",
      " [0.9233871  0.97805643 1.        ]\n",
      " [0.92363636 0.97385621 0.97402597]\n",
      " [0.93625498 0.9591195  0.98876404]\n",
      " [0.94042553 0.97383721 1.        ]\n",
      " [0.89818182 0.98064516 1.        ]\n",
      " [0.95833333 0.97124601 1.        ]\n",
      " [0.91544118 0.97151899 0.97142857]\n",
      " [0.94035088 0.9862543  0.98780488]\n",
      " [0.91449814 0.96989967 1.        ]\n",
      " [0.9245283  0.96451613 0.98795181]\n",
      " [0.90118577 0.98076923 1.        ]\n",
      " [0.90070922 0.97333333 0.98684211]]\n",
      "\n",
      "---------------Recall----------------\n",
      "[[0.95555556 0.93442623 0.97590361]\n",
      " [0.98804781 0.91373802 0.93617021]\n",
      " [0.97233202 0.95       0.97647059]\n",
      " [0.99134199 0.94259819 0.94791667]\n",
      " [0.96946565 0.92834891 1.        ]\n",
      " [0.96311475 0.94720497 0.95652174]\n",
      " [0.9650655  0.95988539 0.9875    ]\n",
      " [0.988      0.91566265 0.96052632]\n",
      " [0.97307692 0.96507937 0.97590361]\n",
      " [0.98809524 0.9246988  0.91891892]\n",
      " [0.99259259 0.94098361 0.97590361]\n",
      " [0.98007968 0.92651757 0.95744681]\n",
      " [0.96837945 0.934375   0.96470588]\n",
      " [0.98701299 0.9244713  0.96875   ]\n",
      " [0.96946565 0.90965732 1.        ]]\n",
      "\n",
      "--------------F1-SCORE---------------\n",
      "[[0.94332724 0.94370861 0.98181818]\n",
      " [0.94296578 0.94078947 0.96703297]\n",
      " [0.95533981 0.96050553 0.98809524]\n",
      " [0.95615866 0.96       0.97326203]\n",
      " [0.94599628 0.95055821 0.98684211]\n",
      " [0.94949495 0.953125   0.97237569]\n",
      " [0.95258621 0.96681097 0.99371069]\n",
      " [0.94095238 0.9470405  0.97986577]\n",
      " [0.96564885 0.96815287 0.98780488]\n",
      " [0.95038168 0.94753086 0.94444444]\n",
      " [0.96576577 0.96308725 0.98181818]\n",
      " [0.94615385 0.94771242 0.97826087]\n",
      " [0.94594595 0.94920635 0.97619048]\n",
      " [0.94214876 0.95178849 0.98412698]\n",
      " [0.93382353 0.94041868 0.99337748]]\n",
      "\n"
     ]
    }
   ],
   "source": [
    "print(\"-------------Precision--------------\")\n",
    "print(np.array(precision_lib_arr))\n",
    "print()\n",
    "print(\"---------------Recall----------------\")\n",
    "print(np.array(recall_lib_arr))\n",
    "print()\n",
    "print(\"--------------F1-SCORE---------------\")\n",
    "print(np.array(f1score_lib_arr))\n",
    "print()"
   ]
  },
  {
   "cell_type": "markdown",
   "metadata": {
    "deletable": false,
    "editable": false,
    "hidden": true
   },
   "source": [
    "#### Precision, Recall and F1-Score (Average)"
   ]
  },
  {
   "cell_type": "code",
   "execution_count": 23,
   "metadata": {
    "ExecuteTime": {
     "end_time": "2020-06-13T16:12:43.223593Z",
     "start_time": "2020-06-13T16:12:43.138463Z"
    },
    "deletable": false,
    "editable": false,
    "hidden": true
   },
   "outputs": [
    {
     "name": "stdout",
     "output_type": "stream",
     "text": [
      "-------------Precision--------------\n",
      "[0.95746336 0.95710324 0.9700591  0.96714784 0.95717285 0.96137951\n",
      " 0.97142091 0.95960899 0.97652645 0.95279625 0.97147002 0.96146594\n",
      " 0.95899875 0.96065167 0.95362822]\n",
      "\n",
      "---------------Recall----------------\n",
      "[0.95529513 0.94598535 0.96626753 0.96061895 0.96593819 0.95561382\n",
      " 0.97081696 0.95472966 0.9713533  0.94390432 0.9698266  0.95468135\n",
      " 0.95582011 0.9600781  0.95970766]\n",
      "\n",
      "--------------F1-SCORE---------------\n",
      "[0.95628468 0.95026274 0.96798019 0.96314023 0.9611322  0.95833188\n",
      " 0.97103596 0.95595288 0.97386887 0.94745233 0.97022373 0.95737571\n",
      " 0.95711426 0.95935475 0.95587323]\n",
      "\n"
     ]
    }
   ],
   "source": [
    "print(\"-------------Precision--------------\")\n",
    "print(np.array(precision_lib_arr_avg))\n",
    "print()\n",
    "print(\"---------------Recall----------------\")\n",
    "print(np.array(recall_lib_arr_avg))\n",
    "print()\n",
    "print(\"--------------F1-SCORE---------------\")\n",
    "print(np.array(f1score_lib_arr_avg))\n",
    "print()"
   ]
  }
 ],
 "metadata": {
  "kernelspec": {
   "display_name": "Python 3.6.2 64-bit",
   "language": "python",
   "name": "python36264bita850f09a2630471f9307a996c8fc1915"
  },
  "language_info": {
   "codemirror_mode": {
    "name": "ipython",
    "version": 3
   },
   "file_extension": ".py",
   "mimetype": "text/x-python",
   "name": "python",
   "nbconvert_exporter": "python",
   "pygments_lexer": "ipython3",
   "version": "3.6.2"
  },
  "toc": {
   "base_numbering": 1,
   "nav_menu": {},
   "number_sections": true,
   "sideBar": true,
   "skip_h1_title": false,
   "title_cell": "Table of Contents",
   "title_sidebar": "Contents",
   "toc_cell": false,
   "toc_position": {},
   "toc_section_display": true,
   "toc_window_display": true
  }
 },
 "nbformat": 4,
 "nbformat_minor": 2
}
