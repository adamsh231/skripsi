{
 "cells": [
  {
   "cell_type": "code",
   "execution_count": 1,
   "metadata": {
    "ExecuteTime": {
     "end_time": "2020-05-23T11:46:56.076159Z",
     "start_time": "2020-05-23T11:46:54.655696Z"
    },
    "deletable": false,
    "editable": false
   },
   "outputs": [],
   "source": [
    "import numpy as np\n",
    "import pandas as pd\n",
    "import random\n",
    "import math\n",
    "import matplotlib.pyplot as plt\n",
    "from sklearn.neighbors import KNeighborsClassifier\n",
    "from sklearn import metrics"
   ]
  },
  {
   "cell_type": "code",
   "execution_count": 2,
   "metadata": {
    "ExecuteTime": {
     "end_time": "2020-05-23T11:46:56.084094Z",
     "start_time": "2020-05-23T11:46:56.077113Z"
    },
    "deletable": false,
    "editable": false
   },
   "outputs": [],
   "source": [
    "def count_label(data):\n",
    "    distinct = [data[0][-1]]\n",
    "    for i in range(len(data)):\n",
    "        check = True\n",
    "        for j in range(len(distinct)):\n",
    "            if distinct[j] == data[i][-1]:\n",
    "                check = False\n",
    "        if check:\n",
    "            distinct.append(data[i][-1])\n",
    "    return np.array(distinct).astype(int), len(distinct)"
   ]
  },
  {
   "cell_type": "code",
   "execution_count": 3,
   "metadata": {
    "ExecuteTime": {
     "end_time": "2020-05-23T11:46:56.219578Z",
     "start_time": "2020-05-23T11:46:56.086088Z"
    },
    "deletable": false,
    "editable": false
   },
   "outputs": [],
   "source": [
    "def evaluation(arr_acc):\n",
    "    mean = np.mean(arr_acc)\n",
    "    varian = sum((arr_acc - mean) * (arr_acc - mean)) / len(arr_acc)\n",
    "    std = math.sqrt(varian)\n",
    "    return mean, std"
   ]
  },
  {
   "cell_type": "code",
   "execution_count": 4,
   "metadata": {
    "ExecuteTime": {
     "end_time": "2020-05-23T11:46:56.321501Z",
     "start_time": "2020-05-23T11:46:56.221576Z"
    },
    "deletable": false,
    "editable": false
   },
   "outputs": [],
   "source": [
    "def handleMissValue(data):\n",
    "    filled_data = np.array([[0 for i in range(len(data[0]))] for j in range(len(data))])\n",
    "    cLabel = count_label(data)[1]\n",
    "    arr_data = [[] for j in range(cLabel)]\n",
    "    mean = []\n",
    "    for i in range(len(data)):\n",
    "        arr_data[int(data[i][-1])-1].append(data[i])\n",
    "    counter = 0\n",
    "    for i in range(len(arr_data)):\n",
    "        mean.append(np.nanmean(arr_data[i], axis=0))\n",
    "        for j in range(len(arr_data[i])):\n",
    "            for k in range(len(arr_data[i][j])):\n",
    "                if np.isnan(arr_data[i][j][k]):\n",
    "                    arr_data[i][j][k] = mean[i][k]\n",
    "            filled_data[counter] = arr_data[i][j]\n",
    "            counter += 1\n",
    "    return filled_data"
   ]
  },
  {
   "cell_type": "code",
   "execution_count": 5,
   "metadata": {
    "ExecuteTime": {
     "end_time": "2020-05-23T11:46:56.409741Z",
     "start_time": "2020-05-23T11:46:56.323495Z"
    },
    "deletable": false,
    "editable": false
   },
   "outputs": [],
   "source": [
    "def randomize(arr):\n",
    "    for i in range(len(arr)-1, 0, -1):\n",
    "        j = random.randint(0, i)\n",
    "        arr[i], arr[j] = arr[j], arr[i]\n",
    "    return arr"
   ]
  },
  {
   "cell_type": "code",
   "execution_count": 6,
   "metadata": {
    "ExecuteTime": {
     "end_time": "2020-05-23T11:46:56.498624Z",
     "start_time": "2020-05-23T11:46:56.410742Z"
    },
    "deletable": false,
    "editable": false
   },
   "outputs": [],
   "source": [
    "def normalize(data):\n",
    "    data = np.array(data).astype(float)\n",
    "    max_value = np.max(data, axis=0)\n",
    "    min_value = np.min(data, axis=0)\n",
    "    for i in range(len(data)):\n",
    "        for j in range(len(data[0])-1):\n",
    "            data[i][j] = (data[i][j] - min_value[j]) / (max_value[j] - min_value[j])\n",
    "    return data"
   ]
  },
  {
   "cell_type": "code",
   "execution_count": 7,
   "metadata": {
    "ExecuteTime": {
     "end_time": "2020-05-23T11:46:56.586554Z",
     "start_time": "2020-05-23T11:46:56.500580Z"
    },
    "deletable": false,
    "editable": false
   },
   "outputs": [],
   "source": [
    "def extraction(file, is_normal = True, is_random = True):\n",
    "    data = pd.read_excel(file)\n",
    "    data = handleMissValue(np.array(data))\n",
    "    data = pd.DataFrame(data)\n",
    "    data.drop_duplicates()\n",
    "    data = np.array(data)\n",
    "    if is_normal:\n",
    "        data = normalize(data)\n",
    "    if is_random:\n",
    "        data = randomize(data.tolist())\n",
    "    return data"
   ]
  },
  {
   "cell_type": "code",
   "execution_count": 8,
   "metadata": {
    "ExecuteTime": {
     "end_time": "2020-05-23T11:46:56.674871Z",
     "start_time": "2020-05-23T11:46:56.589546Z"
    },
    "deletable": false,
    "editable": false
   },
   "outputs": [],
   "source": [
    "def crossValidation(data, cross_val, cross_index, label_index):\n",
    "    split_test = int(len(data) * (1 / cross_val))\n",
    "    change_index = (cross_index - 1) * split_test\n",
    "    \n",
    "    for i in range(split_test):\n",
    "        j = (i + change_index)\n",
    "        data[i], data[j] = data[j], data[i]\n",
    "    \n",
    "    data_train_feature = pd.DataFrame(data[split_test:]).drop([label_index], axis=1)\n",
    "    data_train_label = pd.DataFrame(pd.DataFrame(data[split_test:]), columns=[label_index]).astype(np.int)\n",
    "    data_test_feature = pd.DataFrame(data[0:split_test]).drop([label_index], axis=1)\n",
    "    data_test_label = pd.DataFrame(pd.DataFrame(data[0:split_test]), columns=[label_index]).astype(np.int)\n",
    "    \n",
    "    data_train_feature = np.array(data_train_feature)\n",
    "    data_train_label = np.array(data_train_label)\n",
    "    data_test_feature = np.array(data_test_feature)\n",
    "    data_test_label = np.array(data_test_label)\n",
    "\n",
    "    return data, data_train_feature, data_train_label, data_test_feature, data_test_label"
   ]
  },
  {
   "cell_type": "code",
   "execution_count": 9,
   "metadata": {
    "ExecuteTime": {
     "end_time": "2020-05-23T11:46:56.764299Z",
     "start_time": "2020-05-23T11:46:56.676837Z"
    },
    "deletable": false,
    "editable": false
   },
   "outputs": [],
   "source": [
    "##transform into 1d label array \n",
    "def transformArrLabel(X_label, Y_label):\n",
    "    X_transformed = []\n",
    "    Y_transformed = []\n",
    "    for i in range(len(X_label)):\n",
    "        X_transformed.append(X_label[i][0])\n",
    "    for i in range(len(Y_label)):\n",
    "        Y_transformed.append(Y_label[i][0])\n",
    "    return np.array(X_transformed), np.array(Y_transformed)"
   ]
  },
  {
   "cell_type": "code",
   "execution_count": 10,
   "metadata": {
    "ExecuteTime": {
     "end_time": "2020-05-23T11:46:58.007146Z",
     "start_time": "2020-05-23T11:46:56.765309Z"
    },
    "deletable": false,
    "editable": false
   },
   "outputs": [],
   "source": [
    "k = 15\n",
    "file = 'Dataset Pegawai.xlsx'\n",
    "cross_val = 10\n",
    "label_index = 9 #Kinerja\n",
    "normalisasi = True\n",
    "random_data = True\n",
    "data = extraction(file, normalisasi, random_data)"
   ]
  },
  {
   "cell_type": "code",
   "execution_count": 12,
   "metadata": {
    "ExecuteTime": {
     "end_time": "2020-05-23T11:47:20.752405Z",
     "start_time": "2020-05-23T11:46:58.015072Z"
    },
    "deletable": false,
    "editable": false
   },
   "outputs": [
    {
     "name": "stdout",
     "output_type": "stream",
     "text": [
      "K-1 Mean : 0.9512158054711246 with Standar Deviation : 0.008140280693521029.\n",
      "K-2 Mean : 0.9465045592705167 with Standar Deviation : 0.011101509038145689.\n",
      "K-3 Mean : 0.9554711246200608 with Standar Deviation : 0.00778050196727673.\n",
      "K-4 Mean : 0.9519756838905776 with Standar Deviation : 0.00939794822719779.\n",
      "K-5 Mean : 0.9588145896656535 with Standar Deviation : 0.007490104273769967.\n",
      "K-6 Mean : 0.9527355623100304 with Standar Deviation : 0.007520877222892762.\n",
      "K-7 Mean : 0.9572948328267478 with Standar Deviation : 0.007880785509096763.\n",
      "K-8 Mean : 0.9542553191489361 with Standar Deviation : 0.009836243845157702.\n",
      "K-9 Mean : 0.9566869300911854 with Standar Deviation : 0.00904861741434905.\n",
      "K-10 Mean : 0.9531914893617021 with Standar Deviation : 0.008262782503992816.\n",
      "K-11 Mean : 0.9557750759878421 with Standar Deviation : 0.009765546399037902.\n",
      "K-12 Mean : 0.9533434650455928 with Standar Deviation : 0.010375610449056692.\n",
      "K-13 Mean : 0.9548632218844986 with Standar Deviation : 0.010574057013251629.\n",
      "K-14 Mean : 0.9518237082066869 with Standar Deviation : 0.00989710647730392.\n",
      "K-15 Mean : 0.9530395136778116 with Standar Deviation : 0.01117718906273366.\n"
     ]
    }
   ],
   "source": [
    "k_range = range(1,16)\n",
    "\n",
    "arr_mean_acc = [0 for i in range(k)]\n",
    "arr_std_acc  = [0 for i in range(k)]\n",
    "\n",
    "for k in k_range:\n",
    "    arr_acc = [0 for i in range(cross_val)]\n",
    "    for i in range(1, cross_val + 1):\n",
    "        data, train_f, train_l, test_f, test_l = crossValidation(data, cross_val, i, label_index)\n",
    "        train_l, test_l = transformArrLabel(train_l, test_l)\n",
    "        knn = KNeighborsClassifier(n_neighbors = k, algorithm='brute')\n",
    "        knn.fit(train_f, train_l)\n",
    "        y_pred = knn.predict(test_f)\n",
    "        acc = metrics.accuracy_score(test_l, y_pred)\n",
    "        arr_acc[i-1] = acc\n",
    "    mean, std = evaluation(arr_acc)\n",
    "    arr_mean_acc[k-1] = mean\n",
    "    arr_std_acc[k-1] = std\n",
    "    print('K-{0} Mean : {1} with Standar Deviation : {2}.'.format(k,mean,std))"
   ]
  }
 ],
 "metadata": {
  "kernelspec": {
   "display_name": "Python 3.6.2 64-bit",
   "language": "python",
   "name": "python36264bita850f09a2630471f9307a996c8fc1915"
  },
  "language_info": {
   "codemirror_mode": {
    "name": "ipython",
    "version": 3
   },
   "file_extension": ".py",
   "mimetype": "text/x-python",
   "name": "python",
   "nbconvert_exporter": "python",
   "pygments_lexer": "ipython3",
   "version": "3.6.2"
  },
  "toc": {
   "base_numbering": 1,
   "nav_menu": {},
   "number_sections": true,
   "sideBar": true,
   "skip_h1_title": true,
   "title_cell": "Table of Contents",
   "title_sidebar": "Contents",
   "toc_cell": false,
   "toc_position": {},
   "toc_section_display": true,
   "toc_window_display": false
  }
 },
 "nbformat": 4,
 "nbformat_minor": 2
}
