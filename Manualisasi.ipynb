{
 "cells": [
  {
   "cell_type": "code",
   "execution_count": 1,
   "metadata": {
    "ExecuteTime": {
     "end_time": "2020-05-23T07:03:09.382430Z",
     "start_time": "2020-05-23T07:03:08.666199Z"
    },
    "deletable": false,
    "editable": false
   },
   "outputs": [],
   "source": [
    "import numpy as np\n",
    "import pandas as pd\n",
    "import math"
   ]
  },
  {
   "cell_type": "code",
   "execution_count": 2,
   "metadata": {
    "ExecuteTime": {
     "end_time": "2020-05-23T07:03:09.393381Z",
     "start_time": "2020-05-23T07:03:09.384396Z"
    },
    "deletable": false,
    "editable": false
   },
   "outputs": [],
   "source": [
    "def euclidian(X, Y, categories = []):\n",
    "    euc = 0\n",
    "    for i in range(len(X)):\n",
    "        if not i in categories: ## similarity matrix\n",
    "            euc += math.pow((X[i]-Y[i]), 2)\n",
    "    euc = math.sqrt(euc)\n",
    "    ##------------Similiratity Matrix-------------##\n",
    "    if len(categories) != 0:\n",
    "        p = len(categories)\n",
    "        m = 0\n",
    "        for i in range(len(categories)):\n",
    "            if X[i] == Y[i]:\n",
    "                m += 1\n",
    "        cat_dist = (p-m)/p\n",
    "        euc += cat_dist\n",
    "    ##--------------------------------------------##\n",
    "    return euc\n",
    "\n",
    "def count_label(data):\n",
    "    distinct = [data[0][-1]]\n",
    "    for i in range(len(data)):\n",
    "        check = True\n",
    "        for j in range(len(distinct)):\n",
    "            if distinct[j] == data[i][-1]:\n",
    "                check = False\n",
    "        if check:\n",
    "            distinct.append(data[i][-1])\n",
    "    return np.array(distinct).astype(int), len(distinct)"
   ]
  },
  {
   "cell_type": "markdown",
   "metadata": {
    "deletable": false,
    "editable": false
   },
   "source": [
    "# Ekstraksi File"
   ]
  },
  {
   "cell_type": "code",
   "execution_count": 3,
   "metadata": {
    "ExecuteTime": {
     "end_time": "2020-05-23T07:03:09.555503Z",
     "start_time": "2020-05-23T07:03:09.395367Z"
    },
    "deletable": false,
    "editable": false
   },
   "outputs": [],
   "source": [
    "def normalize(data):\n",
    "    data = np.array(data).astype(float)\n",
    "    max_value = np.max(data, axis=0)\n",
    "    min_value = np.min(data, axis=0)\n",
    "    for i in range(len(data)):\n",
    "        for j in range(len(data[0])-1):\n",
    "            data[i][j] = (data[i][j] - min_value[j]) / (max_value[j] - min_value[j])\n",
    "    return data\n",
    "\n",
    "def extraction(file, isNormal = True):\n",
    "    data = pd.read_excel(file)\n",
    "    \n",
    "    print(pd.DataFrame(np.array(data)))\n",
    "    \n",
    "    if isNormal:\n",
    "        data = normalize(data)\n",
    "    \n",
    "    data_train_feature = pd.DataFrame(data[:12]).drop([9], axis=1)\n",
    "    data_train_label = pd.DataFrame(pd.DataFrame(data[:12]), columns=[9]).astype(np.int)\n",
    "    data_test_feature = pd.DataFrame(data[12:]).drop([9], axis=1)\n",
    "    data_test_label = pd.DataFrame(pd.DataFrame(data[12:]), columns=[9]).astype(np.int)\n",
    "    \n",
    "    data_train_feature = np.array(data_train_feature)\n",
    "    data_train_label = np.array(data_train_label)\n",
    "    data_test_feature = np.array(data_test_feature)\n",
    "    data_test_label = np.array(data_test_label)\n",
    "\n",
    "    return data, data_train_feature, data_train_label, data_test_feature, data_test_label"
   ]
  },
  {
   "cell_type": "code",
   "execution_count": 4,
   "metadata": {
    "ExecuteTime": {
     "end_time": "2020-05-23T07:03:09.680268Z",
     "start_time": "2020-05-23T07:03:09.557499Z"
    },
    "deletable": false,
    "editable": false,
    "scrolled": true
   },
   "outputs": [
    {
     "name": "stdout",
     "output_type": "stream",
     "text": [
      "     0        1   2  3   4   5   6   7  8  9\n",
      "0    8   998600   4  0  76  76  72  78  3  1\n",
      "1   15  1974202   4  0  72  79  79  72  1  1\n",
      "2   14  1841400   5  0  73  73  79  78  1  1\n",
      "3   13  1455200   5  0  82  72  80  82  1  1\n",
      "4   18  2918647   2  0  87  85  76  78  1  2\n",
      "5   10  3116500   4  1  83  82  87  84  1  2\n",
      "6   21  2178100  10  1  89  80  82  81  1  2\n",
      "7   14  1919300  10  1  84  82  80  84  1  2\n",
      "8    9  2623600   2  0  94  96  90  97  1  3\n",
      "9   25  2207600   4  2  94  97  85  94  1  3\n",
      "10  11  1823814   4  1  87  88  89  97  1  3\n",
      "11  11  1823814   4  1  96  85  96  91  1  3\n",
      "12  15  1974202   4  0  74  75  74  76  1  1\n",
      "13  18  2918647   2  0  88  89  87  78  1  2\n",
      "14  27  1642600   9  1  79  79  89  75  1  2\n",
      "15  11  1823814   2  3  95  88  93  96  1  3\n"
     ]
    }
   ],
   "source": [
    "data, dtrainf, dtrainl, dtestf, dtestl = extraction('Data_Manual_Program.xlsx', isNormal = True)"
   ]
  },
  {
   "cell_type": "markdown",
   "metadata": {
    "deletable": false,
    "editable": false
   },
   "source": [
    "## Dataset"
   ]
  },
  {
   "cell_type": "code",
   "execution_count": 5,
   "metadata": {
    "ExecuteTime": {
     "end_time": "2020-05-23T07:03:09.730249Z",
     "start_time": "2020-05-23T07:03:09.681238Z"
    },
    "deletable": false,
    "editable": false
   },
   "outputs": [
    {
     "name": "stdout",
     "output_type": "stream",
     "text": [
      "        0      1      2      3      4     5      6     7    8    9\n",
      "0   0.000  0.000  0.250  0.000  0.167  0.16  0.000  0.24  1.0  1.0\n",
      "1   0.368  0.461  0.250  0.000  0.000  0.28  0.292  0.00  0.0  1.0\n",
      "2   0.316  0.398  0.375  0.000  0.042  0.04  0.292  0.24  0.0  1.0\n",
      "3   0.263  0.216  0.375  0.000  0.417  0.00  0.333  0.40  0.0  1.0\n",
      "4   0.526  0.907  0.000  0.000  0.625  0.52  0.167  0.24  0.0  2.0\n",
      "5   0.105  1.000  0.250  0.333  0.458  0.40  0.625  0.48  0.0  2.0\n",
      "6   0.684  0.557  1.000  0.333  0.708  0.32  0.417  0.36  0.0  2.0\n",
      "7   0.316  0.435  1.000  0.333  0.500  0.40  0.333  0.48  0.0  2.0\n",
      "8   0.053  0.767  0.000  0.000  0.917  0.96  0.750  1.00  0.0  3.0\n",
      "9   0.895  0.571  0.250  0.667  0.917  1.00  0.542  0.88  0.0  3.0\n",
      "10  0.158  0.390  0.250  0.333  0.625  0.64  0.708  1.00  0.0  3.0\n",
      "11  0.158  0.390  0.250  0.333  1.000  0.52  1.000  0.76  0.0  3.0\n",
      "12  0.368  0.461  0.250  0.000  0.083  0.12  0.083  0.16  0.0  1.0\n",
      "13  0.526  0.907  0.000  0.000  0.667  0.68  0.625  0.24  0.0  2.0\n",
      "14  1.000  0.304  0.875  0.333  0.292  0.28  0.708  0.12  0.0  2.0\n",
      "15  0.158  0.390  0.000  1.000  0.958  0.64  0.875  0.96  0.0  3.0\n"
     ]
    }
   ],
   "source": [
    "print(pd.DataFrame(data).round(3))"
   ]
  },
  {
   "cell_type": "code",
   "execution_count": 6,
   "metadata": {
    "ExecuteTime": {
     "end_time": "2020-05-23T07:03:09.816807Z",
     "start_time": "2020-05-23T07:03:09.732249Z"
    },
    "deletable": false,
    "editable": false
   },
   "outputs": [
    {
     "name": "stdout",
     "output_type": "stream",
     "text": [
      "        0      1      2      3      4     5      6     7    8\n",
      "0   0.000  0.000  0.250  0.000  0.167  0.16  0.000  0.24  1.0\n",
      "1   0.368  0.461  0.250  0.000  0.000  0.28  0.292  0.00  0.0\n",
      "2   0.316  0.398  0.375  0.000  0.042  0.04  0.292  0.24  0.0\n",
      "3   0.263  0.216  0.375  0.000  0.417  0.00  0.333  0.40  0.0\n",
      "4   0.526  0.907  0.000  0.000  0.625  0.52  0.167  0.24  0.0\n",
      "5   0.105  1.000  0.250  0.333  0.458  0.40  0.625  0.48  0.0\n",
      "6   0.684  0.557  1.000  0.333  0.708  0.32  0.417  0.36  0.0\n",
      "7   0.316  0.435  1.000  0.333  0.500  0.40  0.333  0.48  0.0\n",
      "8   0.053  0.767  0.000  0.000  0.917  0.96  0.750  1.00  0.0\n",
      "9   0.895  0.571  0.250  0.667  0.917  1.00  0.542  0.88  0.0\n",
      "10  0.158  0.390  0.250  0.333  0.625  0.64  0.708  1.00  0.0\n",
      "11  0.158  0.390  0.250  0.333  1.000  0.52  1.000  0.76  0.0\n"
     ]
    }
   ],
   "source": [
    "print(pd.DataFrame(dtrainf).round(3))"
   ]
  },
  {
   "cell_type": "code",
   "execution_count": 7,
   "metadata": {
    "ExecuteTime": {
     "end_time": "2020-05-23T07:03:09.903683Z",
     "start_time": "2020-05-23T07:03:09.818804Z"
    },
    "deletable": false,
    "editable": false
   },
   "outputs": [
    {
     "name": "stdout",
     "output_type": "stream",
     "text": [
      "       0      1      2      3      4     5      6     7    8\n",
      "0  0.368  0.461  0.250  0.000  0.083  0.12  0.083  0.16  0.0\n",
      "1  0.526  0.907  0.000  0.000  0.667  0.68  0.625  0.24  0.0\n",
      "2  1.000  0.304  0.875  0.333  0.292  0.28  0.708  0.12  0.0\n",
      "3  0.158  0.390  0.000  1.000  0.958  0.64  0.875  0.96  0.0\n"
     ]
    }
   ],
   "source": [
    "print(pd.DataFrame(dtestf).round(3))"
   ]
  },
  {
   "cell_type": "markdown",
   "metadata": {
    "deletable": false,
    "editable": false
   },
   "source": [
    "# INISIALISASI"
   ]
  },
  {
   "cell_type": "code",
   "execution_count": 8,
   "metadata": {
    "ExecuteTime": {
     "end_time": "2020-05-23T07:03:09.996543Z",
     "start_time": "2020-05-23T07:03:09.905677Z"
    }
   },
   "outputs": [],
   "source": [
    "data_uji = 0\n",
    "nominal = [8] ##Kawin Attribute\n",
    "cLabel = count_label(data)[1]\n",
    "k = 2"
   ]
  },
  {
   "cell_type": "markdown",
   "metadata": {
    "deletable": false,
    "editable": false
   },
   "source": [
    "# KNCN"
   ]
  },
  {
   "cell_type": "markdown",
   "metadata": {
    "deletable": false,
    "editable": false
   },
   "source": [
    "## 1 NCN"
   ]
  },
  {
   "cell_type": "code",
   "execution_count": 9,
   "metadata": {
    "ExecuteTime": {
     "end_time": "2020-05-23T07:03:10.082518Z",
     "start_time": "2020-05-23T07:03:09.998525Z"
    },
    "deletable": false,
    "editable": false
   },
   "outputs": [],
   "source": [
    "def closest(Xx, Xx_label, Y, cLabel):\n",
    "    distance = [[None for i in range(len(Xx))] for j in range(cLabel)]\n",
    "    min_distance_value = [0 for i in range(cLabel)]\n",
    "    min_distance_index = [0 for i in range(cLabel)]\n",
    "    for i in range(len(Xx)):\n",
    "        distance[((Xx_label[i][0])-1)][i] = euclidian(Xx[i], Y, nominal)\n",
    "    for i in range(cLabel):\n",
    "        min_distance_value[i] = min(x for x in distance[i] if x is not None)\n",
    "        min_distance_index[i] = distance[i].index(min(x for x in distance[i] if x is not None))\n",
    "    return np.array(distance), min_distance_index, min_distance_value"
   ]
  },
  {
   "cell_type": "code",
   "execution_count": 10,
   "metadata": {
    "ExecuteTime": {
     "end_time": "2020-05-23T07:03:10.161269Z",
     "start_time": "2020-05-23T07:03:10.084509Z"
    },
    "deletable": false,
    "editable": false
   },
   "outputs": [
    {
     "name": "stdout",
     "output_type": "stream",
     "text": [
      "[0.319 1.868 2.349]\n"
     ]
    }
   ],
   "source": [
    "jarak, jarak_index_min, jarak_min = closest(dtrainf, dtrainl, dtestf[data_uji], cLabel)\n",
    "print(np.array(jarak_min).round(3))\n",
    "# print(np.array(jarak_index_min) + 1)"
   ]
  },
  {
   "cell_type": "markdown",
   "metadata": {
    "deletable": false,
    "editable": false
   },
   "source": [
    "## N NCN"
   ]
  },
  {
   "cell_type": "code",
   "execution_count": 11,
   "metadata": {
    "ExecuteTime": {
     "end_time": "2020-05-23T07:03:10.251765Z",
     "start_time": "2020-05-23T07:03:10.162266Z"
    },
    "deletable": false,
    "editable": false
   },
   "outputs": [],
   "source": [
    "def kncn(k, Xx, Xx_label, Y, cLabel, close_dist):\n",
    "    ncn = np.array([[0 for i in range(k)] for j in range(cLabel)])\n",
    "    for i in range(cLabel):\n",
    "        ncn[i][0] = close_dist[i]\n",
    "\n",
    "    for i in range (1, k):\n",
    "        distance = [[None for i in range(len(Xx))] for j in range(cLabel)]\n",
    "        min_distance_value = [0 for i in range(cLabel)]\n",
    "        min_distance_index = [0 for i in range(cLabel)]\n",
    "        for j in range(len(Xx)):\n",
    "            label = Xx_label[j][0] - 1\n",
    "            check = True\n",
    "            for a in range(i):\n",
    "                if ncn[label][a] == j:\n",
    "                    check = False\n",
    "            if check:\n",
    "                add = 0 + Xx[j]\n",
    "                for a in range(i):\n",
    "                    indeks_ncn = ncn[label][a]\n",
    "                    add += Xx[indeks_ncn]\n",
    "                centroid = add / (i+1)\n",
    "                distance[label][j] = euclidian(Y, centroid, nominal)\n",
    "        for j in range(cLabel):\n",
    "            min_distance_value[j] = min(x for x in distance[j] if x is not None)\n",
    "            min_distance_index[j] = distance[j].index(min(x for x in distance[j] if x is not None))\n",
    "            ncn[j][i] = min_distance_index[j]\n",
    "    return ncn"
   ]
  },
  {
   "cell_type": "code",
   "execution_count": 12,
   "metadata": {
    "ExecuteTime": {
     "end_time": "2020-05-23T07:03:10.338658Z",
     "start_time": "2020-05-23T07:03:10.253736Z"
    },
    "deletable": false,
    "editable": false
   },
   "outputs": [
    {
     "name": "stdout",
     "output_type": "stream",
     "text": [
      "[[ 2  3]\n",
      " [ 5  8]\n",
      " [11 12]]\n"
     ]
    }
   ],
   "source": [
    "ncn = kncn(k, dtrainf, dtrainl, dtestf[data_uji], cLabel, jarak_index_min)\n",
    "print(ncn + 1)"
   ]
  },
  {
   "cell_type": "markdown",
   "metadata": {
    "deletable": false,
    "editable": false
   },
   "source": [
    "# Local Mean Vector"
   ]
  },
  {
   "cell_type": "code",
   "execution_count": 13,
   "metadata": {
    "ExecuteTime": {
     "end_time": "2020-05-23T07:03:10.426754Z",
     "start_time": "2020-05-23T07:03:10.340624Z"
    },
    "deletable": false,
    "editable": false
   },
   "outputs": [],
   "source": [
    "def localMeanVector(Xx, ncn):\n",
    "    lm_ncn = [[0 for i in range(len(ncn[0]))] for j in range(len(ncn))]\n",
    "    for i in range(len(ncn)):\n",
    "        lm_ncn[i][0] = Xx[ncn[i][0]]\n",
    "        for j in range(1, len(ncn[0])):\n",
    "            add = 0 + lm_ncn[i][0]\n",
    "            for a in range(j):\n",
    "                add += Xx[ncn[i][a + 1]]\n",
    "            lm_ncn[i][j] = add / (j+1)\n",
    "    return np.array(lm_ncn)"
   ]
  },
  {
   "cell_type": "code",
   "execution_count": 14,
   "metadata": {
    "ExecuteTime": {
     "end_time": "2020-05-23T07:03:10.518674Z",
     "start_time": "2020-05-23T07:03:10.428719Z"
    },
    "deletable": false,
    "editable": false
   },
   "outputs": [
    {
     "name": "stdout",
     "output_type": "stream",
     "text": [
      "[[[0.368 0.461 0.25  0.    0.    0.28  0.292 0.    0.   ]\n",
      "  [0.342 0.429 0.312 0.    0.021 0.16  0.292 0.12  0.   ]]\n",
      "\n",
      " [[0.526 0.907 0.    0.    0.625 0.52  0.167 0.24  0.   ]\n",
      "  [0.421 0.671 0.5   0.167 0.562 0.46  0.25  0.36  0.   ]]\n",
      "\n",
      " [[0.158 0.39  0.25  0.333 0.625 0.64  0.708 1.    0.   ]\n",
      "  [0.158 0.39  0.25  0.333 0.812 0.58  0.854 0.88  0.   ]]]\n"
     ]
    }
   ],
   "source": [
    "local_mean = localMeanVector(dtrainf, ncn)\n",
    "print(local_mean.round(3))"
   ]
  },
  {
   "cell_type": "markdown",
   "metadata": {},
   "source": [
    "# Harmonic Mean Distance"
   ]
  },
  {
   "cell_type": "code",
   "execution_count": 15,
   "metadata": {
    "ExecuteTime": {
     "end_time": "2020-05-23T07:03:10.622877Z",
     "start_time": "2020-05-23T07:03:10.520635Z"
    },
    "deletable": false,
    "editable": false
   },
   "outputs": [],
   "source": [
    "def harmonicMean(lm_ncn, Y):\n",
    "    k = len(lm_ncn[0])\n",
    "    hm_ncn = []\n",
    "    for i in range(len(lm_ncn)):\n",
    "        add = 0\n",
    "        for j in range(len(lm_ncn[0])):\n",
    "            distance = euclidian(Y, lm_ncn[i][j], nominal)\n",
    "            ## Centroid Lokal i Tepat Pada Data Uji\n",
    "            if distance == 0:\n",
    "                add =+ 0\n",
    "            else:\n",
    "                add += (1/distance)\n",
    "        ## Semua Centroid Lokal Tepat Pada Data Uji\n",
    "        if add == 0:\n",
    "            harmonic_mean = 0\n",
    "        else:\n",
    "            harmonic_mean = (k/add)\n",
    "        hm_ncn.append(harmonic_mean)\n",
    "    return hm_ncn"
   ]
  },
  {
   "cell_type": "code",
   "execution_count": 16,
   "metadata": {
    "ExecuteTime": {
     "end_time": "2020-05-23T07:03:10.728945Z",
     "start_time": "2020-05-23T07:03:10.624872Z"
    },
    "deletable": false,
    "editable": false
   },
   "outputs": [
    {
     "name": "stdout",
     "output_type": "stream",
     "text": [
      "[0.5067640900919216, 1.8025398506659538, 2.3840955391572383]\n"
     ]
    }
   ],
   "source": [
    "harmonic_mean = harmonicMean(local_mean, dtestf[data_uji])\n",
    "print(harmonic_mean)"
   ]
  },
  {
   "cell_type": "markdown",
   "metadata": {
    "deletable": false,
    "editable": false
   },
   "source": [
    "# Classification Decision "
   ]
  },
  {
   "cell_type": "code",
   "execution_count": 17,
   "metadata": {
    "ExecuteTime": {
     "end_time": "2020-05-23T07:03:10.802195Z",
     "start_time": "2020-05-23T07:03:10.730913Z"
    },
    "deletable": false,
    "editable": false
   },
   "outputs": [],
   "source": [
    "def decision(hm_ncn, Y_label):\n",
    "    min_distance_index = hm_ncn.index(min(x for x in hm_ncn))\n",
    "    return (min_distance_index + 1), Y_label[0]"
   ]
  },
  {
   "cell_type": "code",
   "execution_count": 18,
   "metadata": {
    "ExecuteTime": {
     "end_time": "2020-05-23T07:03:10.895064Z",
     "start_time": "2020-05-23T07:03:10.803192Z"
    },
    "deletable": false,
    "editable": false
   },
   "outputs": [
    {
     "name": "stdout",
     "output_type": "stream",
     "text": [
      "Prediksi : 1 Aktual : 1\n"
     ]
    }
   ],
   "source": [
    "predict, actual = decision(harmonic_mean, dtestl[data_uji])\n",
    "print(\"Prediksi : \"+str(predict)+\" Aktual : \"+str(actual))"
   ]
  }
 ],
 "metadata": {
  "kernelspec": {
   "display_name": "Python 3",
   "language": "python",
   "name": "python3"
  },
  "language_info": {
   "codemirror_mode": {
    "name": "ipython",
    "version": 3
   },
   "file_extension": ".py",
   "mimetype": "text/x-python",
   "name": "python",
   "nbconvert_exporter": "python",
   "pygments_lexer": "ipython3",
   "version": "3.6.2"
  },
  "toc": {
   "base_numbering": 1,
   "nav_menu": {},
   "number_sections": false,
   "sideBar": true,
   "skip_h1_title": true,
   "title_cell": "Table of Contents",
   "title_sidebar": "Contents",
   "toc_cell": false,
   "toc_position": {},
   "toc_section_display": true,
   "toc_window_display": false
  }
 },
 "nbformat": 4,
 "nbformat_minor": 2
}
