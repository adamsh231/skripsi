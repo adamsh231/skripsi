{
 "cells": [
  {
   "cell_type": "markdown",
   "metadata": {},
   "source": [
    "# Import Library"
   ]
  },
  {
   "cell_type": "code",
   "execution_count": 1,
   "metadata": {
    "ExecuteTime": {
     "end_time": "2020-06-13T16:12:12.976737Z",
     "start_time": "2020-06-13T16:12:12.188550Z"
    },
    "colab": {},
    "colab_type": "code",
    "deletable": false,
    "editable": false,
    "id": "hkk4mnq5jd6O",
    "scrolled": false
   },
   "outputs": [],
   "source": [
    "import numpy as np\n",
    "import pandas as pd\n",
    "import math\n",
    "import random\n",
    "import dill\n",
    "try:\n",
    "    dill.load_session('Pengujian_Normalisasi.db')\n",
    "except Exception as ex:\n",
    "    print(\"Data Belum Tersimpan!\")"
   ]
  },
  {
   "cell_type": "markdown",
   "metadata": {
    "heading_collapsed": true
   },
   "source": [
    "# Support"
   ]
  },
  {
   "cell_type": "markdown",
   "metadata": {
    "colab_type": "text",
    "hidden": true,
    "id": "6PMrAgyjf-sP"
   },
   "source": [
    "## Identify Label"
   ]
  },
  {
   "cell_type": "code",
   "execution_count": 2,
   "metadata": {
    "ExecuteTime": {
     "end_time": "2020-06-13T16:12:12.984648Z",
     "start_time": "2020-06-13T16:12:12.978960Z"
    },
    "colab": {},
    "colab_type": "code",
    "deletable": false,
    "editable": false,
    "hidden": true,
    "id": "QLNn6_tQgAVc",
    "scrolled": false
   },
   "outputs": [],
   "source": [
    "def count_label(data):\n",
    "    distinct = [data[0][-1]]\n",
    "    for i in range(len(data)):\n",
    "        check = True\n",
    "        for j in range(len(distinct)):\n",
    "            if distinct[j] == data[i][-1]:\n",
    "                check = False\n",
    "        if check:\n",
    "            distinct.append(data[i][-1])\n",
    "    return np.array(distinct).astype(int), len(distinct)"
   ]
  },
  {
   "cell_type": "markdown",
   "metadata": {
    "hidden": true
   },
   "source": [
    "## Model Evaluation Performance"
   ]
  },
  {
   "cell_type": "markdown",
   "metadata": {
    "hidden": true
   },
   "source": [
    "### Mean + STD"
   ]
  },
  {
   "cell_type": "code",
   "execution_count": 3,
   "metadata": {
    "ExecuteTime": {
     "end_time": "2020-06-13T16:12:13.088622Z",
     "start_time": "2020-06-13T16:12:12.986643Z"
    },
    "deletable": false,
    "editable": false,
    "hidden": true,
    "scrolled": false
   },
   "outputs": [],
   "source": [
    "def evaluation(arr_acc):\n",
    "    mean = np.mean(arr_acc)\n",
    "    varian = sum((arr_acc - mean) * (arr_acc - mean)) / len(arr_acc)\n",
    "    std = math.sqrt(varian)\n",
    "    return mean, std"
   ]
  },
  {
   "cell_type": "markdown",
   "metadata": {
    "deletable": false,
    "editable": false,
    "hidden": true
   },
   "source": [
    "### Pick Random Confussion Matrix"
   ]
  },
  {
   "cell_type": "code",
   "execution_count": 4,
   "metadata": {
    "ExecuteTime": {
     "end_time": "2020-06-13T16:12:13.222591Z",
     "start_time": "2020-06-13T16:12:13.090618Z"
    },
    "deletable": false,
    "editable": false,
    "hidden": true
   },
   "outputs": [],
   "source": [
    "def toNumpyArray(coff):\n",
    "    coff = np.array(coff)\n",
    "    for i in range(len(coff)):\n",
    "        coff[i] = np.array(coff[i])\n",
    "        for j in range(len(coff[i])):\n",
    "            coff[i][j] = np.array(coff[i][j])\n",
    "    return coff\n",
    "\n",
    "def pickCoff(coff):\n",
    "    coff = toNumpyArray(coff)\n",
    "    choosen_coff = []\n",
    "    for i in range(len(coff)):\n",
    "        for j in range(len(coff[i])):\n",
    "            acc = 0\n",
    "            for k in range(len(coff[i][j])):\n",
    "                for l in range(len(coff[i][j][k])):\n",
    "                    if k == l:\n",
    "                        acc += coff[i][j][k][l]\n",
    "            acc /= np.sum(coff[i][j])\n",
    "            if acc != 1:\n",
    "                choosen_coff.append(coff[i][j])\n",
    "                break\n",
    "            elif j == len(coff[i]) - 1:\n",
    "                choosen_coff.append(coff[i][j])\n",
    "    return np.array(choosen_coff)"
   ]
  },
  {
   "cell_type": "markdown",
   "metadata": {
    "colab_type": "text",
    "hidden": true,
    "id": "qFjAlvj6gGPh"
   },
   "source": [
    "## Euclidian Distance"
   ]
  },
  {
   "cell_type": "code",
   "execution_count": 5,
   "metadata": {
    "ExecuteTime": {
     "end_time": "2020-06-13T16:12:13.321291Z",
     "start_time": "2020-06-13T16:12:13.224623Z"
    },
    "colab": {},
    "colab_type": "code",
    "deletable": false,
    "editable": false,
    "hidden": true,
    "id": "JhBa0l7kgRg2",
    "scrolled": false
   },
   "outputs": [],
   "source": [
    "def euclidian(X, Y, categories = []):\n",
    "    euc = 0\n",
    "    for i in range(len(X)):\n",
    "        if not i in categories: ## similarity matrix\n",
    "            euc += math.pow((X[i]-Y[i]), 2)\n",
    "    euc = math.sqrt(euc)\n",
    "    ##------------Similiratity Matrix-------------##\n",
    "    if len(categories) != 0:\n",
    "        p = len(categories)\n",
    "        m = 0\n",
    "        for i in range(len(categories)):\n",
    "            if X[categories[i]] == Y[categories[i]]:\n",
    "                m += 1\n",
    "        cat_dist = (p-m)/p\n",
    "        euc += cat_dist\n",
    "    ##--------------------------------------------##\n",
    "    return euc"
   ]
  },
  {
   "cell_type": "markdown",
   "metadata": {
    "heading_collapsed": true
   },
   "source": [
    "# Pre Processing"
   ]
  },
  {
   "cell_type": "markdown",
   "metadata": {
    "colab_type": "text",
    "hidden": true,
    "id": "K0_E2oPPMyvm"
   },
   "source": [
    "## Random Data"
   ]
  },
  {
   "cell_type": "code",
   "execution_count": 6,
   "metadata": {
    "ExecuteTime": {
     "end_time": "2020-06-13T16:12:13.464713Z",
     "start_time": "2020-06-13T16:12:13.323795Z"
    },
    "colab": {},
    "colab_type": "code",
    "deletable": false,
    "editable": false,
    "hidden": true,
    "id": "SUKJZX2OI1gG",
    "scrolled": false
   },
   "outputs": [],
   "source": [
    "def randomize(arr):\n",
    "    for i in range(len(arr)-1, 0, -1):\n",
    "        j = random.randint(0, i)\n",
    "        arr[i], arr[j] = arr[j], arr[i]\n",
    "    return arr"
   ]
  },
  {
   "cell_type": "markdown",
   "metadata": {
    "colab_type": "text",
    "hidden": true,
    "id": "87enrK1db87J"
   },
   "source": [
    "## Normalisasi"
   ]
  },
  {
   "cell_type": "code",
   "execution_count": 7,
   "metadata": {
    "ExecuteTime": {
     "end_time": "2020-06-13T16:12:13.553947Z",
     "start_time": "2020-06-13T16:12:13.466707Z"
    },
    "colab": {},
    "colab_type": "code",
    "deletable": false,
    "editable": false,
    "hidden": true,
    "id": "4ViDg5Zhb_ZJ",
    "scrolled": false
   },
   "outputs": [],
   "source": [
    "def normalize(data):\n",
    "    data = np.array(data).astype(float)\n",
    "    max_value = np.max(data, axis=0)\n",
    "    min_value = np.min(data, axis=0)\n",
    "    for i in range(len(data)):\n",
    "        for j in range(len(data[0])-1):\n",
    "            data[i][j] = (data[i][j] - min_value[j]) / (max_value[j] - min_value[j])\n",
    "    return data"
   ]
  },
  {
   "cell_type": "markdown",
   "metadata": {
    "hidden": true
   },
   "source": [
    "## Missing Value"
   ]
  },
  {
   "cell_type": "code",
   "execution_count": 8,
   "metadata": {
    "ExecuteTime": {
     "end_time": "2020-06-13T16:12:13.668793Z",
     "start_time": "2020-06-13T16:12:13.558022Z"
    },
    "deletable": false,
    "editable": false,
    "hidden": true
   },
   "outputs": [],
   "source": [
    "def handleMissValue(data):\n",
    "    filled_data = np.array([[0 for i in range(len(data[0]))] for j in range(len(data))])\n",
    "    cLabel = count_label(data)[1]\n",
    "    arr_data = [[] for j in range(cLabel)]\n",
    "    mean = []\n",
    "    for i in range(len(data)):\n",
    "        arr_data[int(data[i][-1])-1].append(data[i])\n",
    "    counter = 0\n",
    "    for i in range(len(arr_data)):\n",
    "        mean.append(np.nanmean(arr_data[i], axis=0))\n",
    "        for j in range(len(arr_data[i])):\n",
    "            for k in range(len(arr_data[i][j])):\n",
    "                if np.isnan(arr_data[i][j][k]):\n",
    "                    arr_data[i][j][k] = mean[i][k]\n",
    "            filled_data[counter] = arr_data[i][j]\n",
    "            counter += 1\n",
    "    return filled_data"
   ]
  },
  {
   "cell_type": "markdown",
   "metadata": {
    "colab_type": "text",
    "hidden": true,
    "id": "VTR3dPCYfv8r"
   },
   "source": [
    "## Ekstraksi File \n"
   ]
  },
  {
   "cell_type": "code",
   "execution_count": 9,
   "metadata": {
    "ExecuteTime": {
     "end_time": "2020-06-13T16:12:13.763560Z",
     "start_time": "2020-06-13T16:12:13.671820Z"
    },
    "colab": {},
    "colab_type": "code",
    "deletable": false,
    "editable": false,
    "hidden": true,
    "id": "TyEfDO9gI2JJ",
    "scrolled": false
   },
   "outputs": [],
   "source": [
    "def extraction(file, is_normal = True, is_random = True):\n",
    "    data = pd.read_excel(file)\n",
    "    data = handleMissValue(np.array(data))\n",
    "    data = pd.DataFrame(data)\n",
    "    data.drop_duplicates()\n",
    "    data = np.array(data)\n",
    "    if is_normal:\n",
    "        data = normalize(data)\n",
    "    if is_random:\n",
    "        data = randomize(data.tolist())\n",
    "    return data"
   ]
  },
  {
   "cell_type": "markdown",
   "metadata": {
    "heading_collapsed": true
   },
   "source": [
    "# LMKHNCN"
   ]
  },
  {
   "cell_type": "markdown",
   "metadata": {
    "hidden": true
   },
   "source": [
    "## Set of KNCN"
   ]
  },
  {
   "cell_type": "markdown",
   "metadata": {
    "colab_type": "text",
    "hidden": true,
    "id": "-GHhQf-shskl"
   },
   "source": [
    "### 1 NCN"
   ]
  },
  {
   "cell_type": "code",
   "execution_count": 10,
   "metadata": {
    "ExecuteTime": {
     "end_time": "2020-06-13T16:12:13.858942Z",
     "start_time": "2020-06-13T16:12:13.765207Z"
    },
    "colab": {},
    "colab_type": "code",
    "deletable": false,
    "editable": false,
    "hidden": true,
    "id": "lsiAuPM1hv8L",
    "scrolled": false
   },
   "outputs": [],
   "source": [
    "def closest(Xx, Xx_label, Y, cLabel, nominal):\n",
    "    distance = [[None for i in range(len(Xx))] for j in range(cLabel)]\n",
    "    min_distance_value = [0 for i in range(cLabel)]\n",
    "    min_distance_index = [0 for i in range(cLabel)]\n",
    "    for i in range(len(Xx)):\n",
    "        distance[((Xx_label[i][0])-1)][i] = euclidian(Xx[i], Y, nominal)\n",
    "    for i in range(cLabel):\n",
    "        min_distance_value[i] = min(x for x in distance[i] if x is not None)\n",
    "        min_distance_index[i] = distance[i].index(min(x for x in distance[i] if x is not None))\n",
    "    return np.array(distance), min_distance_index, min_distance_value"
   ]
  },
  {
   "cell_type": "markdown",
   "metadata": {
    "colab_type": "text",
    "hidden": true,
    "id": "OAaqAUIhrmw1"
   },
   "source": [
    "### N NCN"
   ]
  },
  {
   "cell_type": "code",
   "execution_count": 11,
   "metadata": {
    "ExecuteTime": {
     "end_time": "2020-06-13T16:12:14.118924Z",
     "start_time": "2020-06-13T16:12:13.860212Z"
    },
    "colab": {},
    "colab_type": "code",
    "deletable": false,
    "editable": false,
    "hidden": true,
    "id": "W-bltI-QrqxG",
    "scrolled": false
   },
   "outputs": [],
   "source": [
    "def kncn(k, Xx, Xx_label, Y, cLabel, close_dist, nominal):\n",
    "    ncn = np.array([[0 for i in range(k)] for j in range(cLabel)])\n",
    "    for i in range(cLabel):\n",
    "        ncn[i][0] = close_dist[i]\n",
    "\n",
    "    for i in range (1, k):\n",
    "        distance = [[None for i in range(len(Xx))] for j in range(cLabel)]\n",
    "        min_distance_value = [0 for i in range(cLabel)]\n",
    "        min_distance_index = [0 for i in range(cLabel)]\n",
    "        for j in range(len(Xx)):\n",
    "            label = Xx_label[j][0] - 1\n",
    "            check = True\n",
    "            for a in range(i):\n",
    "                if ncn[label][a] == j:\n",
    "                    check = False\n",
    "            if check:\n",
    "                add = 0 + Xx[j]\n",
    "                for a in range(i):\n",
    "                    indeks_ncn = ncn[label][a]\n",
    "                    add += Xx[indeks_ncn]\n",
    "                centroid = add / (i+1)\n",
    "                distance[label][j] = euclidian(Y, centroid, nominal)\n",
    "        for j in range(cLabel):\n",
    "            min_distance_value[j] = min(x for x in distance[j] if x is not None)\n",
    "            min_distance_index[j] = distance[j].index(min(x for x in distance[j] if x is not None))\n",
    "            ncn[j][i] = min_distance_index[j]\n",
    "    return ncn"
   ]
  },
  {
   "cell_type": "markdown",
   "metadata": {
    "colab_type": "text",
    "hidden": true,
    "id": "Cegy7uCE-Vq-"
   },
   "source": [
    "## Local Mean Vector"
   ]
  },
  {
   "cell_type": "code",
   "execution_count": 12,
   "metadata": {
    "ExecuteTime": {
     "end_time": "2020-06-13T16:12:14.194836Z",
     "start_time": "2020-06-13T16:12:14.119853Z"
    },
    "colab": {},
    "colab_type": "code",
    "deletable": false,
    "editable": false,
    "hidden": true,
    "id": "nayKWlHL-cSx",
    "scrolled": false
   },
   "outputs": [],
   "source": [
    "def localMeanVector(Xx, ncn):\n",
    "    lm_ncn = [[0 for i in range(len(ncn[0]))] for j in range(len(ncn))]\n",
    "    for i in range(len(ncn)):\n",
    "        lm_ncn[i][0] = Xx[ncn[i][0]]\n",
    "        for j in range(1, len(ncn[0])):\n",
    "            add = 0 + lm_ncn[i][0]\n",
    "            for a in range(j):\n",
    "                add += Xx[ncn[i][a + 1]]\n",
    "            lm_ncn[i][j] = add / (j+1)\n",
    "    return np.array(lm_ncn)"
   ]
  },
  {
   "cell_type": "markdown",
   "metadata": {
    "colab_type": "text",
    "hidden": true,
    "id": "Pimj9wplP7ax"
   },
   "source": [
    "## Harmonic Mean Distance"
   ]
  },
  {
   "cell_type": "code",
   "execution_count": 13,
   "metadata": {
    "ExecuteTime": {
     "end_time": "2020-06-13T16:12:14.308134Z",
     "start_time": "2020-06-13T16:12:14.196717Z"
    },
    "colab": {},
    "colab_type": "code",
    "deletable": false,
    "editable": false,
    "hidden": true,
    "id": "9NLHcN7hQGQ0",
    "scrolled": false
   },
   "outputs": [],
   "source": [
    "def harmonicMean(lm_ncn, Y, nominal):\n",
    "    k = len(lm_ncn[0])\n",
    "    hm_ncn = []\n",
    "    for i in range(len(lm_ncn)):\n",
    "        add = 0\n",
    "        for j in range(len(lm_ncn[0])):\n",
    "            distance = euclidian(Y, lm_ncn[i][j], nominal)\n",
    "            ## Centroid Lokal i Tepat Pada Data Uji\n",
    "            if distance == 0:\n",
    "                add =+ 0\n",
    "            else:\n",
    "                add += (1/distance)\n",
    "        ## Semua Centroid Lokal Tepat Pada Data Uji\n",
    "        if add == 0:\n",
    "            harmonic_mean = 0\n",
    "        else:\n",
    "            harmonic_mean = (k/add)\n",
    "        hm_ncn.append(harmonic_mean)\n",
    "    return hm_ncn"
   ]
  },
  {
   "cell_type": "markdown",
   "metadata": {
    "colab_type": "text",
    "hidden": true,
    "id": "dWv3nlC8So_Y"
   },
   "source": [
    "## Classification Decision"
   ]
  },
  {
   "cell_type": "code",
   "execution_count": 14,
   "metadata": {
    "ExecuteTime": {
     "end_time": "2020-06-13T16:12:14.793572Z",
     "start_time": "2020-06-13T16:12:14.310067Z"
    },
    "colab": {},
    "colab_type": "code",
    "deletable": false,
    "editable": false,
    "hidden": true,
    "id": "-mb6a5heStfh",
    "scrolled": false
   },
   "outputs": [],
   "source": [
    "def decision(hm_ncn, Y_label):\n",
    "    min_distance_index = hm_ncn.index(min(x for x in hm_ncn))\n",
    "    return (min_distance_index + 1), Y_label[0]"
   ]
  },
  {
   "cell_type": "markdown",
   "metadata": {
    "heading_collapsed": true
   },
   "source": [
    "# Performance Evaluation"
   ]
  },
  {
   "cell_type": "markdown",
   "metadata": {
    "heading_collapsed": true,
    "hidden": true
   },
   "source": [
    "## K Cross Fold Validation"
   ]
  },
  {
   "cell_type": "code",
   "execution_count": 15,
   "metadata": {
    "ExecuteTime": {
     "end_time": "2020-06-13T16:12:14.926591Z",
     "start_time": "2020-06-13T16:12:14.795553Z"
    },
    "deletable": false,
    "editable": false,
    "hidden": true,
    "scrolled": false
   },
   "outputs": [],
   "source": [
    "def crossValidation(data, cross_val, cross_index, label_index):\n",
    "    split_test = int(len(data) * (1 / cross_val))\n",
    "    change_index = (cross_index - 1) * split_test\n",
    "    \n",
    "    for i in range(split_test):\n",
    "        j = (i + change_index)\n",
    "        data[i], data[j] = data[j], data[i]\n",
    "    \n",
    "    data_train_feature = pd.DataFrame(data[split_test:]).drop([label_index], axis=1)\n",
    "    data_train_label = pd.DataFrame(pd.DataFrame(data[split_test:]), columns=[label_index]).astype(np.int)\n",
    "    data_test_feature = pd.DataFrame(data[0:split_test]).drop([label_index], axis=1)\n",
    "    data_test_label = pd.DataFrame(pd.DataFrame(data[0:split_test]), columns=[label_index]).astype(np.int)\n",
    "    \n",
    "    data_train_feature = np.array(data_train_feature)\n",
    "    data_train_label = np.array(data_train_label)\n",
    "    data_test_feature = np.array(data_test_feature)\n",
    "    data_test_label = np.array(data_test_label)\n",
    "\n",
    "    return data, data_train_feature, data_train_label, data_test_feature, data_test_label"
   ]
  },
  {
   "cell_type": "markdown",
   "metadata": {
    "colab_type": "text",
    "hidden": true,
    "id": "h2Ym7FNVXFFQ"
   },
   "source": [
    "## LMKHNCN"
   ]
  },
  {
   "cell_type": "code",
   "execution_count": 16,
   "metadata": {
    "ExecuteTime": {
     "end_time": "2020-06-13T16:12:15.025795Z",
     "start_time": "2020-06-13T16:12:14.927951Z"
    },
    "colab": {},
    "colab_type": "code",
    "deletable": false,
    "editable": false,
    "hidden": true,
    "id": "1glBAlFoXP5k",
    "scrolled": false
   },
   "outputs": [],
   "source": [
    "def lmkhncn(k, Xx, Xx_label, Yy, Yy_label, cLabel, nominal):\n",
    "    acc = 0\n",
    "    coff = np.array([[0 for i in range(jml_kelas)] for j in range(jml_kelas)])\n",
    "    \n",
    "    for i in range(len(Yy)):\n",
    "        jarak, jarak_index_min, jarak_nilai_min = closest(Xx, Xx_label, Yy[i], cLabel, nominal)\n",
    "        ncn = kncn(k, Xx, Xx_label, Yy[i], cLabel, jarak_index_min, nominal)\n",
    "        local_mean = localMeanVector(Xx, ncn)\n",
    "        harmonic_mean = harmonicMean(local_mean, Yy[i], nominal)\n",
    "        predict, actual = decision(harmonic_mean, Yy_label[i])\n",
    "        \n",
    "        coff[actual-1][predict-1] += 1\n",
    "        if(predict == actual):\n",
    "            acc += 1\n",
    "#         print(str(round((i+1)/len(Yy),2)*100)+\"%. Prediksi :\"+ str(predict) + \" Actual :\" + str(actual) + \" Acc Lokal: \"+ str(acc/(i+1)))\n",
    "    \n",
    "    acc /= len(Yy)\n",
    "    return acc, coff"
   ]
  },
  {
   "cell_type": "markdown",
   "metadata": {
    "colab_type": "text",
    "heading_collapsed": true,
    "id": "1cLGE6CbfX6C"
   },
   "source": [
    "# Inisialisasi"
   ]
  },
  {
   "cell_type": "code",
   "execution_count": 17,
   "metadata": {
    "ExecuteTime": {
     "end_time": "2020-06-13T16:12:16.265552Z",
     "start_time": "2020-06-13T16:12:15.027796Z"
    },
    "deletable": false,
    "editable": false,
    "hidden": true,
    "scrolled": false
   },
   "outputs": [],
   "source": [
    "k = 15\n",
    "nominal = [8] ##Kawin Attribute\n",
    "file = 'Dataset Pegawai.xlsx'\n",
    "cross_val = 10\n",
    "label_index = 9 #Kinerja\n",
    "normalisasi = True\n",
    "random_data = True\n",
    "data = extraction(file, normalisasi, random_data)\n",
    "arr_kelas, jml_kelas = count_label(data)"
   ]
  },
  {
   "cell_type": "markdown",
   "metadata": {
    "colab_type": "text",
    "id": "3QNRC_KPZAc1"
   },
   "source": [
    "# Testing"
   ]
  },
  {
   "cell_type": "code",
   "execution_count": null,
   "metadata": {
    "colab": {
     "base_uri": "https://localhost:8080/",
     "height": 1000
    },
    "colab_type": "code",
    "deletable": false,
    "editable": false,
    "id": "zsPF5oAwZABo",
    "outputId": "1c186c16-86c9-4614-e999-dac680a1e502",
    "run_control": {
     "frozen": true
    },
    "scrolled": false
   },
   "outputs": [],
   "source": [
    "arr_coff = [[] for i in range(k)]\n",
    "arr_mean_acc = [0 for i in range(k)]\n",
    "arr_std_acc  = [0 for i in range(k)]\n",
    "\n",
    "for a in range(1, k + 1): #Pengujian Parameter K\n",
    "    arr_acc = [0 for i in range(cross_val)]\n",
    "    for i in range(1, cross_val + 1):\n",
    "        data, train_f, train_l, test_f, test_l = crossValidation(data, cross_val, i, label_index)\n",
    "        acc, coff = lmkhncn(a, train_f, train_l, test_f, test_l, jml_kelas, nominal)\n",
    "        arr_acc[i-1] = acc\n",
    "        arr_coff[a-1].append(np.array(coff))\n",
    "        print(\"Cross-\"+str(i)+\" Acc:\"+ str(acc))\n",
    "    mean, std = evaluation(arr_acc)\n",
    "    arr_mean_acc[a-1] = mean\n",
    "    arr_std_acc[a-1] = std\n",
    "    print('K-{0} Mean : {1} with Standar Deviation : {2}.'.format(a,mean,std))"
   ]
  },
  {
   "cell_type": "code",
   "execution_count": 18,
   "metadata": {
    "ExecuteTime": {
     "end_time": "2020-06-13T16:12:16.275610Z",
     "start_time": "2020-06-13T16:12:16.266672Z"
    },
    "deletable": false,
    "editable": false
   },
   "outputs": [
    {
     "name": "stdout",
     "output_type": "stream",
     "text": [
      "[0.95045593 0.9656535  0.96732523 0.9674772  0.96762918 0.96717325\n",
      " 0.96641337 0.9662614  0.96504559 0.96474164 0.96352584 0.96246201\n",
      " 0.96170213 0.9606383  0.9600304 ]\n",
      "[0.00706973 0.00391614 0.00544786 0.00456939 0.00424717 0.00379635\n",
      " 0.00415925 0.00503129 0.00465949 0.00464956 0.00480589 0.00548167\n",
      " 0.0059173  0.00586437 0.00604283]\n"
     ]
    }
   ],
   "source": [
    "print(np.array(arr_mean_acc))\n",
    "print(np.array(arr_std_acc))\n",
    "# print(np.array(arr_coff))"
   ]
  },
  {
   "cell_type": "markdown",
   "metadata": {},
   "source": [
    "## Manual Testing (Manual vs Library => Precision, Recall, dan F1-Score)"
   ]
  },
  {
   "cell_type": "code",
   "execution_count": 19,
   "metadata": {
    "ExecuteTime": {
     "end_time": "2020-06-13T16:12:16.366018Z",
     "start_time": "2020-06-13T16:12:16.278488Z"
    },
    "deletable": false,
    "editable": false
   },
   "outputs": [],
   "source": [
    "picked_coff = pickCoff(np.array(arr_coff))\n",
    "# print(np.array(picked_coff))"
   ]
  },
  {
   "cell_type": "markdown",
   "metadata": {
    "deletable": false,
    "editable": false,
    "heading_collapsed": true
   },
   "source": [
    "### Method (Manual)"
   ]
  },
  {
   "cell_type": "code",
   "execution_count": 20,
   "metadata": {
    "ExecuteTime": {
     "end_time": "2020-06-13T16:12:16.443862Z",
     "start_time": "2020-06-13T16:12:16.367961Z"
    },
    "deletable": false,
    "editable": false,
    "hidden": true
   },
   "outputs": [],
   "source": [
    "def calcPrecRec(coff):\n",
    "    tfn = []\n",
    "    tfp = []\n",
    "    ttp = []\n",
    "    precision = []\n",
    "    recall = []\n",
    "    f1score = []\n",
    "    for i in range(len(coff)):\n",
    "        tfn.append(np.sum(coff[i], axis = 1))\n",
    "        tfp.append(np.sum(coff[i], axis = 0))\n",
    "        ttp.append(np.sum(coff[i], axis = 1))\n",
    "        for j in range(len(coff[i])):\n",
    "            for k in range(len(coff[i][j])):\n",
    "                if j == k:\n",
    "                    tfn[i][j] -= coff[i][j][k]\n",
    "                    tfp[i][j] -= coff[i][j][k]\n",
    "                else:\n",
    "                    ttp[i][j] -= coff[i][j][k]\n",
    "    for i in range(len(tfn)):\n",
    "        precision.append(np.array([0 for i in range(len(tfn[i]))]).astype(np.float32))\n",
    "        recall.append(np.array([0 for i in range(len(tfn[i]))]).astype(np.float32))\n",
    "        f1score.append(np.array([0 for i in range(len(tfn[i]))]).astype(np.float32))\n",
    "        for j in range(len(tfn[i])):\n",
    "            precision[i][j] = ttp[i][j]/(ttp[i][j] + tfp[i][j])\n",
    "            recall[i][j] = ttp[i][j]/(ttp[i][j] + tfn[i][j])\n",
    "            f1score[i][j] = 2 * precision[i][j] * recall[i][j] / (precision[i][j] + recall[i][j])\n",
    "    return np.array(precision), np.array(recall), np.array(f1score)"
   ]
  },
  {
   "cell_type": "code",
   "execution_count": 21,
   "metadata": {
    "ExecuteTime": {
     "end_time": "2020-06-13T16:12:16.564891Z",
     "start_time": "2020-06-13T16:12:16.446626Z"
    },
    "deletable": false,
    "editable": false,
    "hidden": true
   },
   "outputs": [],
   "source": [
    "def calcAvg(precision, recall, f1score):\n",
    "    precision_mean = []\n",
    "    recall_mean = []\n",
    "    f1score_mean = []\n",
    "    for i in range(len(precision)):\n",
    "        precision_mean.append(np.average(precision[i]))\n",
    "        recall_mean.append(np.average(recall[i]))\n",
    "        f1score_mean.append(np.average(f1score[i]))\n",
    "    return np.array(precision_mean), np.array(recall_mean), np.array(f1score_mean)"
   ]
  },
  {
   "cell_type": "code",
   "execution_count": 22,
   "metadata": {
    "ExecuteTime": {
     "end_time": "2020-06-13T16:12:16.766668Z",
     "start_time": "2020-06-13T16:12:16.566876Z"
    },
    "deletable": false,
    "editable": false,
    "hidden": true
   },
   "outputs": [],
   "source": [
    "precision_arr, recall_arr, f1score_arr = calcPrecRec(picked_coff)\n",
    "precision_arr_avg, recall_arr_avg, f1score_arr_avg = calcAvg(precision_arr, recall_arr, f1score_arr)"
   ]
  },
  {
   "cell_type": "markdown",
   "metadata": {
    "heading_collapsed": true
   },
   "source": [
    "### Method (Library)"
   ]
  },
  {
   "cell_type": "code",
   "execution_count": 23,
   "metadata": {
    "ExecuteTime": {
     "end_time": "2020-06-13T16:12:17.433699Z",
     "start_time": "2020-06-13T16:12:16.771203Z"
    },
    "deletable": false,
    "editable": false,
    "hidden": true
   },
   "outputs": [],
   "source": [
    "from sklearn.metrics import confusion_matrix #confussion matrix\n",
    "from sklearn.metrics import recall_score # recall\n",
    "from sklearn.metrics import precision_score #precision\n",
    "from sklearn.metrics import f1_score #f1 score"
   ]
  },
  {
   "cell_type": "code",
   "execution_count": 24,
   "metadata": {
    "ExecuteTime": {
     "end_time": "2020-06-13T16:12:17.443686Z",
     "start_time": "2020-06-13T16:12:17.436697Z"
    },
    "deletable": false,
    "editable": false,
    "hidden": true
   },
   "outputs": [],
   "source": [
    "def splitCoff(picked_coff):\n",
    "    actual = []\n",
    "    predict = []\n",
    "    for i in range(len(picked_coff)):\n",
    "        predict.append([])\n",
    "        actual.append([])\n",
    "        for j in range(len(picked_coff[i])):\n",
    "            for k in range(len(picked_coff[i][j])):\n",
    "                for l in range(picked_coff[i][j][k]):\n",
    "                    if j == k:\n",
    "                        actual[i].append(j)\n",
    "                        predict[i].append(j)\n",
    "                    else:\n",
    "                        actual[i].append(j)\n",
    "                        predict[i].append(k)\n",
    "    return actual, predict"
   ]
  },
  {
   "cell_type": "code",
   "execution_count": 25,
   "metadata": {
    "ExecuteTime": {
     "end_time": "2020-06-13T16:12:17.801860Z",
     "start_time": "2020-06-13T16:12:17.445364Z"
    },
    "deletable": false,
    "editable": false,
    "hidden": true
   },
   "outputs": [],
   "source": [
    "picked_coff = pickCoff(np.array(arr_coff))\n",
    "\n",
    "precision_lib_arr = []\n",
    "recall_lib_arr = []\n",
    "f1score_lib_arr = []\n",
    "\n",
    "precision_lib_arr_avg = []\n",
    "recall_lib_arr_avg = []\n",
    "f1score_lib_arr_avg = []\n",
    "\n",
    "for i in range(len(picked_coff)):\n",
    "    actual, predict = splitCoff(picked_coff)\n",
    "    \n",
    "    recall_lib = recall_score(actual[i], predict[i], average=None)\n",
    "    precision_lib = precision_score(actual[i], predict[i], average=None)\n",
    "    f1score_lib = f1_score(actual[i], predict[i], average=None)\n",
    "    \n",
    "    recall_lib_avg = recall_score(actual[i], predict[i], average='macro')\n",
    "    precision_lib_avg = precision_score(actual[i], predict[i], average='macro')\n",
    "    f1score_lib_avg = f1_score(actual[i], predict[i], average='macro')\n",
    "    \n",
    "    recall_lib_arr.append(recall_lib)\n",
    "    precision_lib_arr.append(precision_lib)\n",
    "    f1score_lib_arr.append(f1score_lib)\n",
    "    \n",
    "    precision_lib_arr_avg.append(precision_lib_avg)\n",
    "    recall_lib_arr_avg.append(recall_lib_avg)\n",
    "    f1score_lib_arr_avg.append(f1score_lib_avg)"
   ]
  },
  {
   "cell_type": "markdown",
   "metadata": {
    "deletable": false,
    "editable": false
   },
   "source": [
    "### Output (Manual)"
   ]
  },
  {
   "cell_type": "markdown",
   "metadata": {
    "deletable": false,
    "editable": false,
    "heading_collapsed": true
   },
   "source": [
    "#### Precision, Recall and F1-Score (Each Class)"
   ]
  },
  {
   "cell_type": "code",
   "execution_count": 26,
   "metadata": {
    "ExecuteTime": {
     "end_time": "2020-06-13T16:12:17.813728Z",
     "start_time": "2020-06-13T16:12:17.803688Z"
    },
    "deletable": false,
    "editable": false,
    "hidden": true
   },
   "outputs": [
    {
     "name": "stdout",
     "output_type": "stream",
     "text": [
      "-------------Precision--------------\n",
      "[[0.9330544  0.9578313  1.        ]\n",
      " [0.9459459  0.97492164 0.975     ]\n",
      " [0.9578544  0.9519231  1.        ]\n",
      " [0.9752066  0.96385545 0.97619045]\n",
      " [0.95652175 0.96460176 1.        ]\n",
      " [0.97761196 0.9537954  0.9885057 ]\n",
      " [0.9591837  0.96941894 1.        ]\n",
      " [0.97863245 0.9556213  1.        ]\n",
      " [0.963964   0.9478261  0.989011  ]\n",
      " [0.97619045 0.94207317 0.96153843]\n",
      " [0.97321427 0.94524497 1.        ]\n",
      " [0.9672131  0.9491018  0.975     ]\n",
      " [0.9839357  0.9411765  1.        ]\n",
      " [0.98712444 0.95       0.9764706 ]\n",
      " [0.96370965 0.9591837  1.        ]]\n",
      "\n",
      "---------------Recall----------------\n",
      "[[0.94491524 0.9520958  0.9886364 ]\n",
      " [0.98       0.9510703  0.962963  ]\n",
      " [0.95057034 0.96428573 0.9770115 ]\n",
      " [0.9593496  0.9756098  0.97619045]\n",
      " [0.96031743 0.9674556  0.9705882 ]\n",
      " [0.95272726 0.9763514  0.9885057 ]\n",
      " [0.96311474 0.96941894 0.9885057 ]\n",
      " [0.9423868  0.9847561  0.9885057 ]\n",
      " [0.93043476 0.97321427 0.9782609 ]\n",
      " [0.9353612  0.9716981  0.97402596]\n",
      " [0.9237288  0.98203593 0.9886364 ]\n",
      " [0.944      0.96941894 0.962963  ]\n",
      " [0.9315589  0.987013   0.9885057 ]\n",
      " [0.93495935 0.9847561  0.9880952 ]\n",
      " [0.9484127  0.97337276 0.9852941 ]]\n",
      "\n",
      "--------------F1-SCORE---------------\n",
      "[[0.9389474  0.954955   0.9942857 ]\n",
      " [0.9626719  0.96284825 0.96894413]\n",
      " [0.9541985  0.95806456 0.98837215]\n",
      " [0.9672131  0.96969694 0.97619045]\n",
      " [0.95841587 0.9660266  0.98507464]\n",
      " [0.9650092  0.9649416  0.9885057 ]\n",
      " [0.9611452  0.96941894 0.99421966]\n",
      " [0.96016765 0.9699699  0.99421966]\n",
      " [0.9469027  0.9603524  0.9836066 ]\n",
      " [0.9553397  0.95665634 0.9677419 ]\n",
      " [0.9478261  0.96328926 0.9942857 ]\n",
      " [0.95546556 0.9591528  0.96894413]\n",
      " [0.9570312  0.9635499  0.99421966]\n",
      " [0.960334   0.9670659  0.98224854]\n",
      " [0.956      0.96622616 0.9925926 ]]\n",
      "\n"
     ]
    }
   ],
   "source": [
    "print(\"-------------Precision--------------\")\n",
    "print(precision_arr)\n",
    "print()\n",
    "print(\"---------------Recall----------------\")\n",
    "print(recall_arr)\n",
    "print()\n",
    "print(\"--------------F1-SCORE---------------\")\n",
    "print(f1score_arr)\n",
    "print()"
   ]
  },
  {
   "cell_type": "markdown",
   "metadata": {
    "deletable": false,
    "editable": false,
    "heading_collapsed": true
   },
   "source": [
    "#### Precision, Recall and F1-Score (Average)"
   ]
  },
  {
   "cell_type": "code",
   "execution_count": 27,
   "metadata": {
    "ExecuteTime": {
     "end_time": "2020-06-13T16:12:18.052913Z",
     "start_time": "2020-06-13T16:12:17.816470Z"
    },
    "deletable": false,
    "editable": false,
    "hidden": true
   },
   "outputs": [
    {
     "name": "stdout",
     "output_type": "stream",
     "text": [
      "-------------Precision--------------\n",
      "[0.9636286  0.9652892  0.9699258  0.9717509  0.97370785 0.97330433\n",
      " 0.9762009  0.97808456 0.9669337  0.95993406 0.97281975 0.96377164\n",
      " 0.9750374  0.9711984  0.97429776]\n",
      "\n",
      "---------------Recall----------------\n",
      "[0.9618824  0.9646778  0.9639559  0.97038335 0.9661204  0.97252816\n",
      " 0.97367984 0.9718828  0.9606366  0.9603618  0.96480036 0.95879394\n",
      " 0.9690259  0.9692702  0.96902657]\n",
      "\n",
      "--------------F1-SCORE---------------\n",
      "[0.9627293  0.9648214  0.9668784  0.9710335  0.9698391  0.97281885\n",
      " 0.9749279  0.9747858  0.9636206  0.9599127  0.96846706 0.96118754\n",
      " 0.97160023 0.9698828  0.97160625]\n",
      "\n"
     ]
    }
   ],
   "source": [
    "print(\"-------------Precision--------------\")\n",
    "print(precision_arr_avg)\n",
    "print()\n",
    "print(\"---------------Recall----------------\")\n",
    "print(recall_arr_avg)\n",
    "print()\n",
    "print(\"--------------F1-SCORE---------------\")\n",
    "print(f1score_arr_avg)\n",
    "print()"
   ]
  },
  {
   "cell_type": "markdown",
   "metadata": {
    "deletable": false,
    "editable": false
   },
   "source": [
    "### Output (Library)"
   ]
  },
  {
   "cell_type": "markdown",
   "metadata": {
    "deletable": false,
    "editable": false
   },
   "source": [
    "#### Precision, Recall and F1-Score (Each Class)"
   ]
  },
  {
   "cell_type": "code",
   "execution_count": 28,
   "metadata": {
    "ExecuteTime": {
     "end_time": "2020-06-13T16:12:18.229692Z",
     "start_time": "2020-06-13T16:12:18.055474Z"
    },
    "deletable": false,
    "editable": false
   },
   "outputs": [
    {
     "name": "stdout",
     "output_type": "stream",
     "text": [
      "-------------Precision--------------\n",
      "[[0.93305439 0.95783133 1.        ]\n",
      " [0.94594595 0.97492163 0.975     ]\n",
      " [0.95785441 0.95192308 1.        ]\n",
      " [0.97520661 0.96385542 0.97619048]\n",
      " [0.95652174 0.96460177 1.        ]\n",
      " [0.97761194 0.95379538 0.98850575]\n",
      " [0.95918367 0.96941896 1.        ]\n",
      " [0.97863248 0.9556213  1.        ]\n",
      " [0.96396396 0.94782609 0.98901099]\n",
      " [0.97619048 0.94207317 0.96153846]\n",
      " [0.97321429 0.94524496 1.        ]\n",
      " [0.96721311 0.9491018  0.975     ]\n",
      " [0.98393574 0.94117647 1.        ]\n",
      " [0.98712446 0.95       0.97647059]\n",
      " [0.96370968 0.95918367 1.        ]]\n",
      "\n",
      "---------------Recall----------------\n",
      "[[0.94491525 0.95209581 0.98863636]\n",
      " [0.98       0.95107034 0.96296296]\n",
      " [0.95057034 0.96428571 0.97701149]\n",
      " [0.95934959 0.97560976 0.97619048]\n",
      " [0.96031746 0.96745562 0.97058824]\n",
      " [0.95272727 0.97635135 0.98850575]\n",
      " [0.96311475 0.96941896 0.98850575]\n",
      " [0.94238683 0.9847561  0.98850575]\n",
      " [0.93043478 0.97321429 0.97826087]\n",
      " [0.93536122 0.97169811 0.97402597]\n",
      " [0.92372881 0.98203593 0.98863636]\n",
      " [0.944      0.96941896 0.96296296]\n",
      " [0.93155894 0.98701299 0.98850575]\n",
      " [0.93495935 0.9847561  0.98809524]\n",
      " [0.9484127  0.97337278 0.98529412]]\n",
      "\n",
      "--------------F1-SCORE---------------\n",
      "[[0.93894737 0.95495495 0.99428571]\n",
      " [0.96267191 0.9628483  0.9689441 ]\n",
      " [0.95419847 0.95806452 0.98837209]\n",
      " [0.96721311 0.96969697 0.97619048]\n",
      " [0.95841584 0.96602659 0.98507463]\n",
      " [0.96500921 0.96494157 0.98850575]\n",
      " [0.96114519 0.96941896 0.99421965]\n",
      " [0.96016771 0.96996997 0.99421965]\n",
      " [0.94690265 0.96035242 0.98360656]\n",
      " [0.95533981 0.95665635 0.96774194]\n",
      " [0.94782609 0.96328928 0.99428571]\n",
      " [0.95546559 0.9591528  0.9689441 ]\n",
      " [0.95703125 0.96354992 0.99421965]\n",
      " [0.96033403 0.96706587 0.98224852]\n",
      " [0.956      0.96622614 0.99259259]]\n",
      "\n"
     ]
    }
   ],
   "source": [
    "print(\"-------------Precision--------------\")\n",
    "print(np.array(precision_lib_arr))\n",
    "print()\n",
    "print(\"---------------Recall----------------\")\n",
    "print(np.array(recall_lib_arr))\n",
    "print()\n",
    "print(\"--------------F1-SCORE---------------\")\n",
    "print(np.array(f1score_lib_arr))\n",
    "print()"
   ]
  },
  {
   "cell_type": "markdown",
   "metadata": {
    "deletable": false,
    "editable": false
   },
   "source": [
    "#### Precision, Recall and F1-Score (Average)"
   ]
  },
  {
   "cell_type": "code",
   "execution_count": 29,
   "metadata": {
    "ExecuteTime": {
     "end_time": "2020-06-13T16:12:18.382897Z",
     "start_time": "2020-06-13T16:12:18.231646Z"
    },
    "deletable": false,
    "editable": false
   },
   "outputs": [
    {
     "name": "stdout",
     "output_type": "stream",
     "text": [
      "-------------Precision--------------\n",
      "[0.96362857 0.96528919 0.96992583 0.97175084 0.97370784 0.97330436\n",
      " 0.97620088 0.97808459 0.96693368 0.95993404 0.97281975 0.96377164\n",
      " 0.9750374  0.97119835 0.97429778]\n",
      "\n",
      "---------------Recall----------------\n",
      "[0.96188248 0.96467777 0.96395585 0.97038328 0.96612044 0.97252812\n",
      " 0.97367982 0.97188289 0.96063665 0.96036177 0.96480037 0.95879397\n",
      " 0.96902589 0.96927023 0.96902653]\n",
      "\n",
      "--------------F1-SCORE---------------\n",
      "[0.96272935 0.96482143 0.96687836 0.97103352 0.96983902 0.97281884\n",
      " 0.97492794 0.97478578 0.96362055 0.9599127  0.96846703 0.9611875\n",
      " 0.97160027 0.96988281 0.97160624]\n",
      "\n"
     ]
    }
   ],
   "source": [
    "print(\"-------------Precision--------------\")\n",
    "print(np.array(precision_lib_arr_avg))\n",
    "print()\n",
    "print(\"---------------Recall----------------\")\n",
    "print(np.array(recall_lib_arr_avg))\n",
    "print()\n",
    "print(\"--------------F1-SCORE---------------\")\n",
    "print(np.array(f1score_lib_arr_avg))\n",
    "print()"
   ]
  },
  {
   "cell_type": "markdown",
   "metadata": {},
   "source": [
    "# Save Data"
   ]
  },
  {
   "cell_type": "code",
   "execution_count": null,
   "metadata": {
    "deletable": false,
    "editable": false,
    "run_control": {
     "frozen": true
    }
   },
   "outputs": [],
   "source": [
    "# dill.dump_session('Pengujian_Normalisasi.db')"
   ]
  }
 ],
 "metadata": {
  "colab": {
   "collapsed_sections": [],
   "name": "Pengujian.ipynb",
   "provenance": [],
   "toc_visible": true
  },
  "kernelspec": {
   "display_name": "Python 3",
   "language": "python",
   "name": "python3"
  },
  "language_info": {
   "codemirror_mode": {
    "name": "ipython",
    "version": 3
   },
   "file_extension": ".py",
   "mimetype": "text/x-python",
   "name": "python",
   "nbconvert_exporter": "python",
   "pygments_lexer": "ipython3",
   "version": "3.6.2"
  },
  "notify_time": "30",
  "toc": {
   "base_numbering": "1",
   "nav_menu": {
    "height": "140px",
    "width": "172px"
   },
   "number_sections": true,
   "sideBar": true,
   "skip_h1_title": false,
   "title_cell": "Table of Contents",
   "title_sidebar": "Contents",
   "toc_cell": false,
   "toc_position": {
    "height": "359.6px",
    "left": "937px",
    "top": "158.8px",
    "width": "215px"
   },
   "toc_section_display": true,
   "toc_window_display": true
  }
 },
 "nbformat": 4,
 "nbformat_minor": 1
}
