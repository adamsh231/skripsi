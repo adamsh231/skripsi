{
 "cells": [
  {
   "cell_type": "markdown",
   "metadata": {
    "heading_collapsed": true
   },
   "source": [
    "# Import Library"
   ]
  },
  {
   "cell_type": "code",
   "execution_count": 1,
   "metadata": {
    "ExecuteTime": {
     "end_time": "2020-03-17T08:34:08.061827Z",
     "start_time": "2020-03-17T08:34:07.419546Z"
    },
    "colab": {},
    "colab_type": "code",
    "deletable": false,
    "editable": false,
    "hidden": true,
    "id": "hkk4mnq5jd6O"
   },
   "outputs": [],
   "source": [
    "import numpy as np\n",
    "import pandas as pd\n",
    "import math\n",
    "import random"
   ]
  },
  {
   "cell_type": "markdown",
   "metadata": {
    "colab_type": "text",
    "deletable": false,
    "editable": false,
    "heading_collapsed": true,
    "id": "6PMrAgyjf-sP"
   },
   "source": [
    "# Data Label"
   ]
  },
  {
   "cell_type": "code",
   "execution_count": 2,
   "metadata": {
    "ExecuteTime": {
     "end_time": "2020-03-17T08:34:08.074792Z",
     "start_time": "2020-03-17T08:34:08.065815Z"
    },
    "colab": {},
    "colab_type": "code",
    "deletable": false,
    "editable": false,
    "hidden": true,
    "id": "QLNn6_tQgAVc"
   },
   "outputs": [],
   "source": [
    "def count_label(data):\n",
    "    distinct = [data[0][-1]]\n",
    "    for i in range(len(data)):\n",
    "        check = True\n",
    "        for j in range(len(distinct)):\n",
    "            if distinct[j] == data[i][-1]:\n",
    "                check = False\n",
    "        if check:\n",
    "            distinct.append(data[i][-1])\n",
    "    return np.array(distinct).astype(int), len(distinct)"
   ]
  },
  {
   "cell_type": "markdown",
   "metadata": {
    "colab_type": "text",
    "heading_collapsed": true,
    "id": "K0_E2oPPMyvm"
   },
   "source": [
    "# Random Data"
   ]
  },
  {
   "cell_type": "code",
   "execution_count": 3,
   "metadata": {
    "ExecuteTime": {
     "end_time": "2020-03-17T08:34:08.197477Z",
     "start_time": "2020-03-17T08:34:08.078782Z"
    },
    "colab": {},
    "colab_type": "code",
    "deletable": false,
    "editable": false,
    "hidden": true,
    "id": "SUKJZX2OI1gG"
   },
   "outputs": [],
   "source": [
    "def randomize(arr):\n",
    "    for i in range(len(arr)-1, 0, -1):\n",
    "        j = random.randint(0, i+1)\n",
    "        arr[i], arr[j] = arr[j], arr[i]\n",
    "    return arr"
   ]
  },
  {
   "cell_type": "markdown",
   "metadata": {
    "colab_type": "text",
    "heading_collapsed": true,
    "id": "87enrK1db87J"
   },
   "source": [
    "# Normalisasi"
   ]
  },
  {
   "cell_type": "code",
   "execution_count": 4,
   "metadata": {
    "ExecuteTime": {
     "end_time": "2020-03-17T08:34:08.285229Z",
     "start_time": "2020-03-17T08:34:08.199459Z"
    },
    "colab": {},
    "colab_type": "code",
    "deletable": false,
    "editable": false,
    "hidden": true,
    "id": "4ViDg5Zhb_ZJ"
   },
   "outputs": [],
   "source": [
    "def normalize(data):\n",
    "    data = np.array(data).astype(float)\n",
    "    max_value = np.max(data, axis=0)\n",
    "    min_value = np.min(data, axis=0)\n",
    "    for i in range(len(data)):\n",
    "        for j in range(len(data[0])-1):\n",
    "            data[i][j] = (data[i][j] - min_value[j]) / (max_value[j] - min_value[j])\n",
    "    return data"
   ]
  },
  {
   "cell_type": "markdown",
   "metadata": {
    "colab_type": "text",
    "heading_collapsed": true,
    "id": "VTR3dPCYfv8r"
   },
   "source": [
    "# Ekstraksi File \n"
   ]
  },
  {
   "cell_type": "code",
   "execution_count": 5,
   "metadata": {
    "ExecuteTime": {
     "end_time": "2020-03-17T08:34:08.385958Z",
     "start_time": "2020-03-17T08:34:08.286227Z"
    },
    "colab": {},
    "colab_type": "code",
    "deletable": false,
    "editable": false,
    "hidden": true,
    "id": "TyEfDO9gI2JJ"
   },
   "outputs": [],
   "source": [
    "def extraction(file, is_normal = True, is_random = True):\n",
    "    data = np.array(pd.read_excel(file))\n",
    "    if is_normal:\n",
    "        data = normalize(data)\n",
    "    if is_random:\n",
    "        data = randomize(data)\n",
    "    return data"
   ]
  },
  {
   "cell_type": "markdown",
   "metadata": {
    "heading_collapsed": true
   },
   "source": [
    "# K Cross Fold Validation"
   ]
  },
  {
   "cell_type": "code",
   "execution_count": 6,
   "metadata": {
    "ExecuteTime": {
     "end_time": "2020-03-17T08:34:08.474723Z",
     "start_time": "2020-03-17T08:34:08.387954Z"
    },
    "deletable": false,
    "editable": false,
    "hidden": true
   },
   "outputs": [],
   "source": [
    "def crossValidation(data, cross_val, cross_index, label_index):\n",
    "    split_test = int(len(data) * (1 / cross_val))\n",
    "    change_index = (cross_index - 1) * split_test\n",
    "    \n",
    "    for i in range(split_test):\n",
    "        j = (i + change_index)\n",
    "        data[i], data[j] = data[j], data[i]\n",
    "    \n",
    "    data_train_feature = pd.DataFrame(data[split_test:]).drop([label_index], axis=1)\n",
    "    data_train_label = pd.DataFrame(pd.DataFrame(data[split_test:]), columns=[9]).astype(np.int)\n",
    "    data_test_feature = pd.DataFrame(data[0:split_test]).drop([label_index], axis=1)\n",
    "    data_test_label = pd.DataFrame(pd.DataFrame(data[0:split_test]), columns=[9]).astype(np.int)\n",
    "    \n",
    "    data_train_feature = np.array(data_train_feature)\n",
    "    data_train_label = np.array(data_train_label)\n",
    "    data_test_feature = np.array(data_test_feature)\n",
    "    data_test_label = np.array(data_test_label)\n",
    "\n",
    "    return data, data_train_feature, data_train_label, data_test_feature, data_test_label"
   ]
  },
  {
   "cell_type": "markdown",
   "metadata": {
    "heading_collapsed": true
   },
   "source": [
    "# Evaluation STD dan Mean"
   ]
  },
  {
   "cell_type": "code",
   "execution_count": 7,
   "metadata": {
    "ExecuteTime": {
     "end_time": "2020-03-17T08:34:08.596405Z",
     "start_time": "2020-03-17T08:34:08.475747Z"
    },
    "deletable": false,
    "editable": false,
    "hidden": true
   },
   "outputs": [],
   "source": [
    "def evaluation(arr_acc):\n",
    "    mean = np.mean(arr_acc)\n",
    "    varian = sum((arr_acc - mean) * (arr_acc - mean)) / len(arr_acc)\n",
    "    std = math.sqrt(varian)\n",
    "    return mean, std"
   ]
  },
  {
   "cell_type": "markdown",
   "metadata": {
    "colab_type": "text",
    "heading_collapsed": true,
    "id": "qFjAlvj6gGPh"
   },
   "source": [
    "# Euclidian Distance"
   ]
  },
  {
   "cell_type": "code",
   "execution_count": 8,
   "metadata": {
    "ExecuteTime": {
     "end_time": "2020-03-17T08:34:08.695134Z",
     "start_time": "2020-03-17T08:34:08.599407Z"
    },
    "colab": {},
    "colab_type": "code",
    "deletable": false,
    "editable": false,
    "hidden": true,
    "id": "JhBa0l7kgRg2"
   },
   "outputs": [],
   "source": [
    "def euclidian(X, Y):\n",
    "    euc = 0\n",
    "    for i in range(len(X)):\n",
    "        euc += math.pow((X[i]-Y[i]), 2)\n",
    "    euc = math.sqrt(euc)\n",
    "    return euc"
   ]
  },
  {
   "cell_type": "markdown",
   "metadata": {
    "colab_type": "text",
    "heading_collapsed": true,
    "id": "-GHhQf-shskl"
   },
   "source": [
    "# First Closest Centoid"
   ]
  },
  {
   "cell_type": "code",
   "execution_count": 9,
   "metadata": {
    "ExecuteTime": {
     "end_time": "2020-03-17T08:34:08.795864Z",
     "start_time": "2020-03-17T08:34:08.698125Z"
    },
    "colab": {},
    "colab_type": "code",
    "deletable": false,
    "editable": false,
    "hidden": true,
    "id": "lsiAuPM1hv8L"
   },
   "outputs": [],
   "source": [
    "def closest(Xx, Xx_label, Y, cLabel):\n",
    "    distance = [[None for i in range(len(Xx))] for j in range(cLabel)]\n",
    "    min_distance_value = [0 for i in range(cLabel)]\n",
    "    min_distance_index = [0 for i in range(cLabel)]\n",
    "    for i in range(len(Xx)):\n",
    "        distance[((Xx_label[i][0])-1)][i] = euclidian(Xx[i], Y)\n",
    "    for i in range(cLabel):\n",
    "        min_distance_value[i] = min(x for x in distance[i] if x is not None)\n",
    "        min_distance_index[i] = distance[i].index(min(x for x in distance[i] if x is not None))\n",
    "    return np.array(distance), min_distance_index, min_distance_value"
   ]
  },
  {
   "cell_type": "markdown",
   "metadata": {
    "colab_type": "text",
    "heading_collapsed": true,
    "id": "OAaqAUIhrmw1"
   },
   "source": [
    "# Set of KNCN"
   ]
  },
  {
   "cell_type": "code",
   "execution_count": 10,
   "metadata": {
    "ExecuteTime": {
     "end_time": "2020-03-17T08:34:08.888652Z",
     "start_time": "2020-03-17T08:34:08.797859Z"
    },
    "colab": {},
    "colab_type": "code",
    "deletable": false,
    "editable": false,
    "hidden": true,
    "id": "W-bltI-QrqxG"
   },
   "outputs": [],
   "source": [
    "def kncn(k, Xx, Xx_label, Y, cLabel, close_dist):\n",
    "    ncn = np.array([[0 for i in range(k)] for j in range(cLabel)])\n",
    "    for i in range(cLabel):\n",
    "        ncn[i][0] = close_dist[i]\n",
    "\n",
    "    for i in range (1, k):\n",
    "        distance = [[None for i in range(len(Xx))] for j in range(cLabel)]\n",
    "        min_distance_value = [0 for i in range(cLabel)]\n",
    "        min_distance_index = [0 for i in range(cLabel)]\n",
    "        for j in range(len(Xx)):\n",
    "            label = Xx_label[j][0] - 1\n",
    "            check = True\n",
    "            for a in range(i):\n",
    "                if ncn[label][a] == j:\n",
    "                    check = False\n",
    "            if check:\n",
    "                add = 0 + Xx[j]\n",
    "                for a in range(i):\n",
    "                    indeks_ncn = ncn[label][a]\n",
    "                    add += Xx[indeks_ncn]\n",
    "                centroid = add / (i+1)\n",
    "                distance[label][j] = euclidian(Y, centroid)\n",
    "        for j in range(cLabel):\n",
    "            min_distance_value[j] = min(x for x in distance[j] if x is not None)\n",
    "            min_distance_index[j] = distance[j].index(min(x for x in distance[j] if x is not None))\n",
    "            ncn[j][i] = min_distance_index[j]\n",
    "    return ncn"
   ]
  },
  {
   "cell_type": "markdown",
   "metadata": {
    "colab_type": "text",
    "heading_collapsed": true,
    "id": "Cegy7uCE-Vq-"
   },
   "source": [
    "# Local Mean Vector"
   ]
  },
  {
   "cell_type": "code",
   "execution_count": 11,
   "metadata": {
    "ExecuteTime": {
     "end_time": "2020-03-17T08:34:08.983361Z",
     "start_time": "2020-03-17T08:34:08.889613Z"
    },
    "colab": {},
    "colab_type": "code",
    "deletable": false,
    "editable": false,
    "hidden": true,
    "id": "nayKWlHL-cSx"
   },
   "outputs": [],
   "source": [
    "def localMeanVector(Xx, ncn):\n",
    "    lm_ncn = [[0 for i in range(len(ncn[0]))] for j in range(len(ncn))]\n",
    "    for i in range(len(ncn)):\n",
    "        lm_ncn[i][0] = Xx[ncn[i][0]]\n",
    "        for j in range(1, len(ncn[0])):\n",
    "            add = 0 + lm_ncn[i][0]\n",
    "            for a in range(j):\n",
    "                add += Xx[ncn[i][a]]\n",
    "            lm_ncn[i][j] = add / (j+1)\n",
    "    return np.array(lm_ncn)"
   ]
  },
  {
   "cell_type": "markdown",
   "metadata": {
    "colab_type": "text",
    "heading_collapsed": true,
    "id": "Pimj9wplP7ax"
   },
   "source": [
    "# Harmonic Mean Distance"
   ]
  },
  {
   "cell_type": "code",
   "execution_count": 12,
   "metadata": {
    "ExecuteTime": {
     "end_time": "2020-03-17T08:34:09.072156Z",
     "start_time": "2020-03-17T08:34:08.985376Z"
    },
    "colab": {},
    "colab_type": "code",
    "deletable": false,
    "editable": false,
    "hidden": true,
    "id": "9NLHcN7hQGQ0"
   },
   "outputs": [],
   "source": [
    "def harmonicMean(lm_ncn, Y):\n",
    "    k = len(lm_ncn[0])\n",
    "    hm_ncn = []\n",
    "    for i in range(len(lm_ncn)):\n",
    "        add = 0\n",
    "        for j in range(len(lm_ncn[0])):\n",
    "            distance = euclidian(Y, lm_ncn[i][j])\n",
    "            ## Centroid Lokal i Tepat Pada Data Uji\n",
    "            if distance == 0:\n",
    "                add =+ 0\n",
    "            else:\n",
    "                add += (1/distance)\n",
    "        ## Semua Centroid Lokal Tepat Pada Data Uji\n",
    "        if add == 0:\n",
    "            harmonic_mean = 0\n",
    "        else:\n",
    "            harmonic_mean = (k/add)\n",
    "        hm_ncn.append(harmonic_mean)\n",
    "    return hm_ncn"
   ]
  },
  {
   "cell_type": "markdown",
   "metadata": {
    "colab_type": "text",
    "heading_collapsed": true,
    "id": "dWv3nlC8So_Y"
   },
   "source": [
    "# Classification Decision"
   ]
  },
  {
   "cell_type": "code",
   "execution_count": 13,
   "metadata": {
    "ExecuteTime": {
     "end_time": "2020-03-17T08:34:09.160887Z",
     "start_time": "2020-03-17T08:34:09.074145Z"
    },
    "colab": {},
    "colab_type": "code",
    "deletable": false,
    "editable": false,
    "hidden": true,
    "id": "-mb6a5heStfh"
   },
   "outputs": [],
   "source": [
    "def decision(hm_ncn, Y_label):\n",
    "    min_distance_index = hm_ncn.index(min(x for x in hm_ncn))\n",
    "    return (min_distance_index + 1), Y_label[0]"
   ]
  },
  {
   "cell_type": "markdown",
   "metadata": {
    "colab_type": "text",
    "heading_collapsed": true,
    "id": "h2Ym7FNVXFFQ"
   },
   "source": [
    "# LMKHNCN"
   ]
  },
  {
   "cell_type": "code",
   "execution_count": 14,
   "metadata": {
    "ExecuteTime": {
     "end_time": "2020-03-17T08:34:09.260620Z",
     "start_time": "2020-03-17T08:34:09.162881Z"
    },
    "colab": {},
    "colab_type": "code",
    "deletable": false,
    "editable": false,
    "hidden": true,
    "id": "1glBAlFoXP5k"
   },
   "outputs": [],
   "source": [
    "def lmkhncn(k, Xx, Xx_label, Yy, Yy_label, cLabel):\n",
    "    acc = 0\n",
    "    coff = np.array([[0 for i in range(jml_kelas)] for j in range(jml_kelas)])\n",
    "    \n",
    "    for i in range(len(Yy)):\n",
    "        jarak, jarak_index_min, jarak_nilai_min = closest(Xx, Xx_label, Yy[i], cLabel)\n",
    "        ncn = kncn(k, Xx, Xx_label, Yy[i], cLabel, jarak_index_min)\n",
    "        local_mean = localMeanVector(Xx, ncn)\n",
    "        harmonic_mean = harmonicMean(local_mean, Yy[i])\n",
    "        predict, actual = decision(harmonic_mean, Yy_label[i])\n",
    "        \n",
    "        coff[predict-1][actual-1] += 1\n",
    "        if(predict == actual):\n",
    "            acc += 1\n",
    "#         print(str(round((i+1)/len(Yy),2)*100)+\"%. Prediksi :\"+ str(predict) + \" Actual :\" + str(actual) + \" Acc Lokal: \"+ str(acc/(i+1)))\n",
    "    \n",
    "    acc /= len(Yy)\n",
    "    return acc, coff"
   ]
  },
  {
   "cell_type": "markdown",
   "metadata": {
    "colab_type": "text",
    "id": "1cLGE6CbfX6C"
   },
   "source": [
    "# Inisialisasi"
   ]
  },
  {
   "cell_type": "code",
   "execution_count": 15,
   "metadata": {
    "ExecuteTime": {
     "end_time": "2020-03-17T08:34:10.221084Z",
     "start_time": "2020-03-17T08:34:09.262615Z"
    },
    "deletable": false,
    "editable": false
   },
   "outputs": [],
   "source": [
    "# k = 1\n",
    "k = 15\n",
    "file = 'Dataset Pegawai.xlsx'\n",
    "cross_val = 10\n",
    "label_index = 9 #Kinerja\n",
    "normalisasi = True\n",
    "random_data = True\n",
    "data = extraction(file, normalisasi, random_data)\n",
    "arr_kelas, jml_kelas = count_label(data)"
   ]
  },
  {
   "cell_type": "markdown",
   "metadata": {
    "colab_type": "text",
    "id": "3QNRC_KPZAc1"
   },
   "source": [
    "# Testing"
   ]
  },
  {
   "cell_type": "code",
   "execution_count": null,
   "metadata": {
    "ExecuteTime": {
     "start_time": "2020-03-17T08:34:07.481Z"
    },
    "colab": {
     "base_uri": "https://localhost:8080/",
     "height": 1000
    },
    "colab_type": "code",
    "deletable": false,
    "editable": false,
    "id": "zsPF5oAwZABo",
    "outputId": "1c186c16-86c9-4614-e999-dac680a1e502"
   },
   "outputs": [],
   "source": [
    "for a in range(1, k + 1): #Pengujian Parameter K\n",
    "    arr_acc = [0 for i in range(cross_val)]\n",
    "    for i in range(1, cross_val + 1):\n",
    "        data, train_f, train_l, test_f, test_l = crossValidation(data, cross_val, i, label_index)\n",
    "        acc, coff = lmkhncn(a, train_f, train_l, test_f, test_l, jml_kelas)\n",
    "        arr_acc[i-1] = acc\n",
    "#         print(\"Cross-\"+str(i)+\" Acc:\"+ str(acc))\n",
    "    mean, std = evaluation(arr_acc)\n",
    "    print('K-{0} Mean : {1} with Standar Deviation : {2}.'.format(a,mean,std))"
   ]
  }
 ],
 "metadata": {
  "colab": {
   "collapsed_sections": [],
   "name": "Pengujian.ipynb",
   "provenance": [],
   "toc_visible": true
  },
  "kernelspec": {
   "display_name": "Python 3",
   "language": "python",
   "name": "python3"
  },
  "language_info": {
   "codemirror_mode": {
    "name": "ipython",
    "version": 3
   },
   "file_extension": ".py",
   "mimetype": "text/x-python",
   "name": "python",
   "nbconvert_exporter": "python",
   "pygments_lexer": "ipython3",
   "version": "3.6.2"
  },
  "notify_time": "30",
  "toc": {
   "base_numbering": 1,
   "nav_menu": {
    "height": "140px",
    "width": "172px"
   },
   "number_sections": true,
   "sideBar": true,
   "skip_h1_title": false,
   "title_cell": "Table of Contents",
   "title_sidebar": "Contents",
   "toc_cell": false,
   "toc_position": {
    "height": "359.6px",
    "left": "937px",
    "top": "158.8px",
    "width": "215px"
   },
   "toc_section_display": true,
   "toc_window_display": false
  }
 },
 "nbformat": 4,
 "nbformat_minor": 1
}
