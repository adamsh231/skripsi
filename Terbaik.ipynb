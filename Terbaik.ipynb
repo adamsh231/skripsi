{
 "cells": [
  {
   "cell_type": "markdown",
   "metadata": {},
   "source": [
    "# Import Library"
   ]
  },
  {
   "cell_type": "code",
   "execution_count": 1,
   "metadata": {
    "ExecuteTime": {
     "end_time": "2020-06-30T22:34:57.948361Z",
     "start_time": "2020-06-30T22:34:41.719754Z"
    },
    "colab": {},
    "colab_type": "code",
    "deletable": false,
    "editable": false,
    "id": "hkk4mnq5jd6O",
    "scrolled": false
   },
   "outputs": [],
   "source": [
    "import numpy as np\n",
    "import pandas as pd\n",
    "import math\n",
    "import random\n",
    "from openpyxl import Workbook\n",
    "import dill\n",
    "try:\n",
    "    dill.load_session('Terbaik.db')\n",
    "except Exception as ex:\n",
    "    print(\"Data Belum Tersimpan!\")"
   ]
  },
  {
   "cell_type": "markdown",
   "metadata": {
    "heading_collapsed": true
   },
   "source": [
    "# Support"
   ]
  },
  {
   "cell_type": "markdown",
   "metadata": {
    "colab_type": "text",
    "hidden": true,
    "id": "6PMrAgyjf-sP"
   },
   "source": [
    "## Identify Label"
   ]
  },
  {
   "cell_type": "code",
   "execution_count": 2,
   "metadata": {
    "ExecuteTime": {
     "end_time": "2020-06-30T22:34:57.957221Z",
     "start_time": "2020-06-30T22:34:57.950232Z"
    },
    "colab": {},
    "colab_type": "code",
    "deletable": false,
    "editable": false,
    "hidden": true,
    "id": "QLNn6_tQgAVc",
    "scrolled": false
   },
   "outputs": [],
   "source": [
    "def count_label(data):\n",
    "    distinct = [data[0][-1]]\n",
    "    for i in range(len(data)):\n",
    "        check = True\n",
    "        for j in range(len(distinct)):\n",
    "            if distinct[j] == data[i][-1]:\n",
    "                check = False\n",
    "        if check:\n",
    "            distinct.append(data[i][-1])\n",
    "    return np.array(distinct).astype(int), len(distinct)"
   ]
  },
  {
   "cell_type": "markdown",
   "metadata": {
    "hidden": true
   },
   "source": [
    "## Model Evaluation Performance"
   ]
  },
  {
   "cell_type": "markdown",
   "metadata": {
    "hidden": true
   },
   "source": [
    "### Mean + STD"
   ]
  },
  {
   "cell_type": "code",
   "execution_count": 3,
   "metadata": {
    "ExecuteTime": {
     "end_time": "2020-06-30T22:34:58.075645Z",
     "start_time": "2020-06-30T22:34:57.959207Z"
    },
    "deletable": false,
    "editable": false,
    "hidden": true,
    "scrolled": false
   },
   "outputs": [],
   "source": [
    "def evaluation(arr_acc):\n",
    "    mean = np.mean(arr_acc)\n",
    "    varian = sum((arr_acc - mean) * (arr_acc - mean)) / len(arr_acc)\n",
    "    std = math.sqrt(varian)\n",
    "    return mean, std"
   ]
  },
  {
   "cell_type": "markdown",
   "metadata": {
    "deletable": false,
    "editable": false,
    "hidden": true
   },
   "source": [
    "### Pick Random Confussion Matrix"
   ]
  },
  {
   "cell_type": "code",
   "execution_count": 4,
   "metadata": {
    "ExecuteTime": {
     "end_time": "2020-06-30T22:34:58.148133Z",
     "start_time": "2020-06-30T22:34:58.077639Z"
    },
    "deletable": false,
    "editable": false,
    "hidden": true
   },
   "outputs": [],
   "source": [
    "def toNumpyArray(coff):\n",
    "    coff = np.array(coff)\n",
    "    for i in range(len(coff)):\n",
    "        coff[i] = np.array(coff[i])\n",
    "        for j in range(len(coff[i])):\n",
    "            coff[i][j] = np.array(coff[i][j])\n",
    "    return coff\n",
    "\n",
    "def pickCoff(coff):\n",
    "    coff = toNumpyArray(coff)\n",
    "    choosen_coff = []\n",
    "    for i in range(len(coff)):\n",
    "        for j in range(len(coff[i])):\n",
    "            acc = 0\n",
    "            for k in range(len(coff[i][j])):\n",
    "                for l in range(len(coff[i][j][k])):\n",
    "                    if k == l:\n",
    "                        acc += coff[i][j][k][l]\n",
    "            acc /= np.sum(coff[i][j])\n",
    "            if acc != 1:\n",
    "                choosen_coff.append(coff[i][j])\n",
    "                break\n",
    "            elif j == len(coff[i]) - 1:\n",
    "                choosen_coff.append(coff[i][j])\n",
    "    return np.array(choosen_coff)"
   ]
  },
  {
   "cell_type": "markdown",
   "metadata": {
    "colab_type": "text",
    "hidden": true,
    "id": "qFjAlvj6gGPh"
   },
   "source": [
    "## Euclidian Distance"
   ]
  },
  {
   "cell_type": "code",
   "execution_count": 5,
   "metadata": {
    "ExecuteTime": {
     "end_time": "2020-06-30T22:34:58.217579Z",
     "start_time": "2020-06-30T22:34:58.149105Z"
    },
    "colab": {},
    "colab_type": "code",
    "deletable": false,
    "editable": false,
    "hidden": true,
    "id": "JhBa0l7kgRg2",
    "scrolled": false
   },
   "outputs": [],
   "source": [
    "def euclidian(X, Y, categories = []):\n",
    "    euc = 0\n",
    "    for i in range(len(X)):\n",
    "        if not i in categories: ## similarity matrix\n",
    "            euc += math.pow((X[i]-Y[i]), 2)\n",
    "    euc = math.sqrt(euc)\n",
    "    ##------------Similiratity Matrix-------------##\n",
    "    if len(categories) != 0:\n",
    "        p = len(categories)\n",
    "        m = 0\n",
    "        for i in range(len(categories)):\n",
    "            if X[categories[i]] == Y[categories[i]]:\n",
    "                m += 1\n",
    "        cat_dist = (p-m)/p\n",
    "        euc += cat_dist\n",
    "    ##--------------------------------------------##\n",
    "    return euc"
   ]
  },
  {
   "cell_type": "markdown",
   "metadata": {},
   "source": [
    "# Pre Processing"
   ]
  },
  {
   "cell_type": "markdown",
   "metadata": {
    "colab_type": "text",
    "id": "K0_E2oPPMyvm"
   },
   "source": [
    "## Random Data"
   ]
  },
  {
   "cell_type": "code",
   "execution_count": 6,
   "metadata": {
    "ExecuteTime": {
     "end_time": "2020-06-30T22:34:58.285923Z",
     "start_time": "2020-06-30T22:34:58.219489Z"
    },
    "colab": {},
    "colab_type": "code",
    "deletable": false,
    "editable": false,
    "id": "SUKJZX2OI1gG",
    "scrolled": false
   },
   "outputs": [],
   "source": [
    "def randomize(arr, id_arr):\n",
    "    for i in range(len(arr)-1, 0, -1):\n",
    "        j = random.randint(0, i)\n",
    "        arr[i], arr[j] = arr[j], arr[i]\n",
    "        id_arr[i], id_arr[j] = id_arr[j], id_arr[i]\n",
    "    return arr, id_arr"
   ]
  },
  {
   "cell_type": "markdown",
   "metadata": {
    "colab_type": "text",
    "id": "87enrK1db87J"
   },
   "source": [
    "## Normalisasi"
   ]
  },
  {
   "cell_type": "code",
   "execution_count": 7,
   "metadata": {
    "ExecuteTime": {
     "end_time": "2020-06-30T22:34:58.361563Z",
     "start_time": "2020-06-30T22:34:58.287802Z"
    },
    "colab": {},
    "colab_type": "code",
    "deletable": false,
    "editable": false,
    "id": "4ViDg5Zhb_ZJ",
    "scrolled": false
   },
   "outputs": [],
   "source": [
    "def normalize(data):\n",
    "    data = np.array(data).astype(float)\n",
    "    max_value = np.max(data, axis=0)\n",
    "    min_value = np.min(data, axis=0)\n",
    "    for i in range(len(data)):\n",
    "        for j in range(len(data[0])-1):\n",
    "            data[i][j] = (data[i][j] - min_value[j]) / (max_value[j] - min_value[j])\n",
    "    return data"
   ]
  },
  {
   "cell_type": "markdown",
   "metadata": {},
   "source": [
    "## Missing Value"
   ]
  },
  {
   "cell_type": "code",
   "execution_count": 8,
   "metadata": {
    "ExecuteTime": {
     "end_time": "2020-06-30T22:34:58.458827Z",
     "start_time": "2020-06-30T22:34:58.364436Z"
    },
    "deletable": false,
    "editable": false
   },
   "outputs": [],
   "source": [
    "def handleMissValue(data):\n",
    "    filled_data = np.array([[0 for i in range(len(data[0]))] for j in range(len(data))])\n",
    "    cLabel = count_label(data)[1]\n",
    "    arr_data = [[] for j in range(cLabel)]\n",
    "    mean = []\n",
    "    for i in range(len(data)):\n",
    "        arr_data[int(data[i][-1])-1].append(data[i])\n",
    "    counter = 0\n",
    "    for i in range(len(arr_data)):\n",
    "        mean.append(np.nanmean(arr_data[i], axis=0))\n",
    "        for j in range(len(arr_data[i])):\n",
    "            for k in range(len(arr_data[i][j])):\n",
    "                if np.isnan(arr_data[i][j][k]):\n",
    "                    arr_data[i][j][k] = mean[i][k]\n",
    "            filled_data[counter] = arr_data[i][j]\n",
    "            counter += 1\n",
    "    return filled_data"
   ]
  },
  {
   "cell_type": "markdown",
   "metadata": {
    "colab_type": "text",
    "id": "VTR3dPCYfv8r"
   },
   "source": [
    "## Ekstraksi File \n"
   ]
  },
  {
   "cell_type": "code",
   "execution_count": 9,
   "metadata": {
    "ExecuteTime": {
     "end_time": "2020-06-30T22:34:58.538861Z",
     "start_time": "2020-06-30T22:34:58.460850Z"
    },
    "colab": {},
    "colab_type": "code",
    "deletable": false,
    "editable": false,
    "id": "TyEfDO9gI2JJ",
    "scrolled": false
   },
   "outputs": [],
   "source": [
    "def extraction(file, is_normal = True, is_random = True):\n",
    "    data = pd.read_excel(file)\n",
    "    data = handleMissValue(np.array(data))\n",
    "    data = pd.DataFrame(data)\n",
    "    data.drop_duplicates()\n",
    "    data = np.array(data)\n",
    "    \n",
    "    id_data = []\n",
    "    wb = Workbook()\n",
    "    ws = wb.active\n",
    "    column = ['A', 'B', 'C', 'D', 'E', 'F', 'G', 'H', 'I', 'J', 'K']\n",
    "    column_name = ['ID', 'Masa Kerja', 'Gaji',  'Jumlah Pangkat', 'Jumlah Penghargaan', 'Orientasi', 'Integritas', 'Disiplin', 'Kerjasama', 'Kawin', 'Kinerja']\n",
    "    for i in range(len(column_name)):\n",
    "        ws[str(column[i])+'1'] = column_name[i]\n",
    "    for i in range(len(data)):\n",
    "        id_data.append(i+1)\n",
    "        ws['A'+str(i+2)] = id_data[i]\n",
    "        for j in range(len(data[i])):\n",
    "            ws[str(column[j+1])+str(i+2)] = data[i][j]\n",
    "    wb.save(\"Dataset Pegawai (Processed).xlsx\")\n",
    "    \n",
    "    if is_normal:\n",
    "        data = normalize(data)\n",
    "    if is_random:\n",
    "        data, id_data = randomize(data.tolist(), id_data)  \n",
    "    return data, id_data"
   ]
  },
  {
   "cell_type": "markdown",
   "metadata": {
    "heading_collapsed": true
   },
   "source": [
    "# LMKHNCN"
   ]
  },
  {
   "cell_type": "markdown",
   "metadata": {
    "heading_collapsed": true,
    "hidden": true
   },
   "source": [
    "## Set of KNCN"
   ]
  },
  {
   "cell_type": "markdown",
   "metadata": {
    "colab_type": "text",
    "hidden": true,
    "id": "-GHhQf-shskl"
   },
   "source": [
    "### 1 NCN"
   ]
  },
  {
   "cell_type": "code",
   "execution_count": 10,
   "metadata": {
    "ExecuteTime": {
     "end_time": "2020-06-30T22:34:58.625197Z",
     "start_time": "2020-06-30T22:34:58.540774Z"
    },
    "colab": {},
    "colab_type": "code",
    "deletable": false,
    "editable": false,
    "hidden": true,
    "id": "lsiAuPM1hv8L",
    "scrolled": false
   },
   "outputs": [],
   "source": [
    "def closest(Xx, Xx_label, Y, cLabel, nominal):\n",
    "    distance = [[None for i in range(len(Xx))] for j in range(cLabel)]\n",
    "    min_distance_value = [0 for i in range(cLabel)]\n",
    "    min_distance_index = [0 for i in range(cLabel)]\n",
    "    for i in range(len(Xx)):\n",
    "        distance[((Xx_label[i][0])-1)][i] = euclidian(Xx[i], Y, nominal)\n",
    "    for i in range(cLabel):\n",
    "        min_distance_value[i] = min(x for x in distance[i] if x is not None)\n",
    "        min_distance_index[i] = distance[i].index(min(x for x in distance[i] if x is not None))\n",
    "    return np.array(distance), min_distance_index, min_distance_value"
   ]
  },
  {
   "cell_type": "markdown",
   "metadata": {
    "colab_type": "text",
    "hidden": true,
    "id": "OAaqAUIhrmw1"
   },
   "source": [
    "### N NCN"
   ]
  },
  {
   "cell_type": "code",
   "execution_count": 11,
   "metadata": {
    "ExecuteTime": {
     "end_time": "2020-06-30T22:34:58.727911Z",
     "start_time": "2020-06-30T22:34:58.626221Z"
    },
    "colab": {},
    "colab_type": "code",
    "deletable": false,
    "editable": false,
    "hidden": true,
    "id": "W-bltI-QrqxG",
    "scrolled": false
   },
   "outputs": [],
   "source": [
    "def kncn(k, Xx, Xx_label, Y, cLabel, close_dist, nominal):\n",
    "    ncn = np.array([[0 for i in range(k)] for j in range(cLabel)])\n",
    "    for i in range(cLabel):\n",
    "        ncn[i][0] = close_dist[i]\n",
    "\n",
    "    for i in range (1, k):\n",
    "        distance = [[None for i in range(len(Xx))] for j in range(cLabel)]\n",
    "        min_distance_value = [0 for i in range(cLabel)]\n",
    "        min_distance_index = [0 for i in range(cLabel)]\n",
    "        for j in range(len(Xx)):\n",
    "            label = Xx_label[j][0] - 1\n",
    "            check = True\n",
    "            for a in range(i):\n",
    "                if ncn[label][a] == j:\n",
    "                    check = False\n",
    "            if check:\n",
    "                add = 0 + Xx[j]\n",
    "                for a in range(i):\n",
    "                    indeks_ncn = ncn[label][a]\n",
    "                    add += Xx[indeks_ncn]\n",
    "                centroid = add / (i+1)\n",
    "                distance[label][j] = euclidian(Y, centroid, nominal)\n",
    "        for j in range(cLabel):\n",
    "            min_distance_value[j] = min(x for x in distance[j] if x is not None)\n",
    "            min_distance_index[j] = distance[j].index(min(x for x in distance[j] if x is not None))\n",
    "            ncn[j][i] = min_distance_index[j]\n",
    "    return ncn"
   ]
  },
  {
   "cell_type": "markdown",
   "metadata": {
    "colab_type": "text",
    "heading_collapsed": true,
    "hidden": true,
    "id": "Cegy7uCE-Vq-"
   },
   "source": [
    "## Local Mean Vector"
   ]
  },
  {
   "cell_type": "code",
   "execution_count": 12,
   "metadata": {
    "ExecuteTime": {
     "end_time": "2020-06-30T22:34:58.912547Z",
     "start_time": "2020-06-30T22:34:58.729880Z"
    },
    "colab": {},
    "colab_type": "code",
    "deletable": false,
    "editable": false,
    "hidden": true,
    "id": "nayKWlHL-cSx",
    "scrolled": false
   },
   "outputs": [],
   "source": [
    "def localMeanVector(Xx, ncn):\n",
    "    lm_ncn = [[0 for i in range(len(ncn[0]))] for j in range(len(ncn))]\n",
    "    for i in range(len(ncn)):\n",
    "        lm_ncn[i][0] = Xx[ncn[i][0]]\n",
    "        for j in range(1, len(ncn[0])):\n",
    "            add = 0 + lm_ncn[i][0]\n",
    "            for a in range(j):\n",
    "                add += Xx[ncn[i][a + 1]]\n",
    "            lm_ncn[i][j] = add / (j+1)\n",
    "    return np.array(lm_ncn)"
   ]
  },
  {
   "cell_type": "markdown",
   "metadata": {
    "colab_type": "text",
    "hidden": true,
    "id": "Pimj9wplP7ax"
   },
   "source": [
    "## Harmonic Mean Distance"
   ]
  },
  {
   "cell_type": "code",
   "execution_count": 13,
   "metadata": {
    "ExecuteTime": {
     "end_time": "2020-06-30T22:34:59.247263Z",
     "start_time": "2020-06-30T22:34:58.914523Z"
    },
    "colab": {},
    "colab_type": "code",
    "deletable": false,
    "editable": false,
    "hidden": true,
    "id": "9NLHcN7hQGQ0",
    "scrolled": false
   },
   "outputs": [],
   "source": [
    "def harmonicMean(lm_ncn, Y, nominal):\n",
    "    k = len(lm_ncn[0])\n",
    "    hm_ncn = []\n",
    "    for i in range(len(lm_ncn)):\n",
    "        add = 0\n",
    "        for j in range(len(lm_ncn[0])):\n",
    "            distance = euclidian(Y, lm_ncn[i][j], nominal)\n",
    "            ## Centroid Lokal i Tepat Pada Data Uji\n",
    "            if distance == 0:\n",
    "                add =+ 0\n",
    "            else:\n",
    "                add += (1/distance)\n",
    "        ## Semua Centroid Lokal Tepat Pada Data Uji\n",
    "        if add == 0:\n",
    "            harmonic_mean = 0\n",
    "        else:\n",
    "            harmonic_mean = (k/add)\n",
    "        hm_ncn.append(harmonic_mean)\n",
    "    return hm_ncn"
   ]
  },
  {
   "cell_type": "markdown",
   "metadata": {
    "colab_type": "text",
    "hidden": true,
    "id": "dWv3nlC8So_Y"
   },
   "source": [
    "## Classification Decision"
   ]
  },
  {
   "cell_type": "code",
   "execution_count": 14,
   "metadata": {
    "ExecuteTime": {
     "end_time": "2020-06-30T22:34:59.347159Z",
     "start_time": "2020-06-30T22:34:59.249252Z"
    },
    "colab": {},
    "colab_type": "code",
    "deletable": false,
    "editable": false,
    "hidden": true,
    "id": "-mb6a5heStfh",
    "scrolled": false
   },
   "outputs": [],
   "source": [
    "def decision(hm_ncn, Y_label):\n",
    "    min_distance_index = hm_ncn.index(min(x for x in hm_ncn))\n",
    "    return (min_distance_index + 1), Y_label[0]"
   ]
  },
  {
   "cell_type": "markdown",
   "metadata": {},
   "source": [
    "# Performance Evaluation"
   ]
  },
  {
   "cell_type": "markdown",
   "metadata": {},
   "source": [
    "## K Cross Fold Validation"
   ]
  },
  {
   "cell_type": "code",
   "execution_count": 15,
   "metadata": {
    "ExecuteTime": {
     "end_time": "2020-06-30T22:34:59.424523Z",
     "start_time": "2020-06-30T22:34:59.349064Z"
    },
    "deletable": false,
    "editable": false,
    "scrolled": false
   },
   "outputs": [],
   "source": [
    "def crossValidation(data, id_data, cross_val, cross_index, label_index):\n",
    "    \n",
    "    split_test = int(len(data) * (1 / cross_val))\n",
    "    change_index = (cross_index - 1) * split_test\n",
    "    \n",
    "    for i in range(split_test):\n",
    "        j = (i + change_index)\n",
    "        data[i], data[j] = data[j], data[i]\n",
    "        id_data[i], id_data[j] = id_data[j], id_data[i]\n",
    "    \n",
    "    data_train_feature = pd.DataFrame(data[split_test:]).drop([label_index], axis=1)\n",
    "    data_train_label = pd.DataFrame(pd.DataFrame(data[split_test:]), columns=[label_index]).astype(np.int)\n",
    "    data_test_feature = pd.DataFrame(data[0:split_test]).drop([label_index], axis=1)\n",
    "    data_test_label = pd.DataFrame(pd.DataFrame(data[0:split_test]), columns=[label_index]).astype(np.int)\n",
    "    \n",
    "    id_data = np.array(pd.DataFrame(id_data[0:split_test]))\n",
    "    \n",
    "    data_train_feature = np.array(data_train_feature)\n",
    "    data_train_label = np.array(data_train_label)\n",
    "    data_test_feature = np.array(data_test_feature)\n",
    "    data_test_label = np.array(data_test_label)\n",
    "\n",
    "    return data, id_data, data_train_feature, data_train_label, data_test_feature, data_test_label"
   ]
  },
  {
   "cell_type": "markdown",
   "metadata": {
    "colab_type": "text",
    "heading_collapsed": true,
    "id": "h2Ym7FNVXFFQ"
   },
   "source": [
    "## LMKHNCN"
   ]
  },
  {
   "cell_type": "code",
   "execution_count": 16,
   "metadata": {
    "ExecuteTime": {
     "end_time": "2020-06-30T22:34:59.501434Z",
     "start_time": "2020-06-30T22:34:59.426405Z"
    },
    "colab": {},
    "colab_type": "code",
    "deletable": false,
    "editable": false,
    "hidden": true,
    "id": "1glBAlFoXP5k",
    "scrolled": false
   },
   "outputs": [],
   "source": [
    "def lmkhncn(k, Xx, Xx_label, Yy, Yy_label, cLabel, nominal):\n",
    "    acc = 0\n",
    "    coff = np.array([[0 for i in range(jml_kelas)] for j in range(jml_kelas)])\n",
    "    \n",
    "    predict_arr = [] ##khusus lampiran\n",
    "    \n",
    "    for i in range(len(Yy)):\n",
    "        jarak, jarak_index_min, jarak_nilai_min = closest(Xx, Xx_label, Yy[i], cLabel, nominal)\n",
    "        ncn = kncn(k, Xx, Xx_label, Yy[i], cLabel, jarak_index_min, nominal)\n",
    "        local_mean = localMeanVector(Xx, ncn)\n",
    "        harmonic_mean = harmonicMean(local_mean, Yy[i], nominal)\n",
    "        predict, actual = decision(harmonic_mean, Yy_label[i])\n",
    "        \n",
    "        predict_arr.append(predict) ##khusus lampiran\n",
    "        \n",
    "        coff[actual-1][predict-1] += 1\n",
    "        if(predict == actual):\n",
    "            acc += 1\n",
    "#         print(str(round((i+1)/len(Yy),2)*100)+\"%. Prediksi :\"+ str(predict) + \" Actual :\" + str(actual) + \" Acc Lokal: \"+ str(acc/(i+1)))\n",
    "    \n",
    "    acc /= len(Yy)\n",
    "    return acc, coff, predict_arr"
   ]
  },
  {
   "cell_type": "markdown",
   "metadata": {
    "colab_type": "text",
    "id": "1cLGE6CbfX6C"
   },
   "source": [
    "# Inisialisasi"
   ]
  },
  {
   "cell_type": "code",
   "execution_count": 17,
   "metadata": {
    "deletable": false,
    "editable": false,
    "run_control": {
     "frozen": true
    },
    "scrolled": false
   },
   "outputs": [],
   "source": [
    "k = 15\n",
    "nominal = [8] ##Kawin Attribute\n",
    "file = 'Dataset Pegawai.xlsx'\n",
    "cross_val = 10\n",
    "label_index = 9 #Kinerja\n",
    "normalisasi = True\n",
    "random_data = True\n",
    "data, id_data = extraction(file, normalisasi, random_data)\n",
    "arr_kelas, jml_kelas = count_label(data)"
   ]
  },
  {
   "cell_type": "markdown",
   "metadata": {
    "colab_type": "text",
    "id": "3QNRC_KPZAc1"
   },
   "source": [
    "# Testing"
   ]
  },
  {
   "cell_type": "code",
   "execution_count": 18,
   "metadata": {
    "deletable": false,
    "editable": false,
    "run_control": {
     "frozen": true
    }
   },
   "outputs": [],
   "source": [
    "cross = 3\n",
    "k_param = 6\n",
    "data, id_data, train_f, train_l, test_f, test_l = crossValidation(data, id_data, cross_val, cross, label_index)\n",
    "acc, coff, predict = lmkhncn(k_param, train_f, train_l, test_f, test_l, jml_kelas, nominal)"
   ]
  },
  {
   "cell_type": "code",
   "execution_count": 17,
   "metadata": {
    "ExecuteTime": {
     "end_time": "2020-06-30T22:34:59.607964Z",
     "start_time": "2020-06-30T22:34:59.503417Z"
    }
   },
   "outputs": [
    {
     "data": {
      "text/plain": [
       "array([[247,   9,   0],\n",
       "       [  6, 318,   0],\n",
       "       [  0,   2,  76]])"
      ]
     },
     "execution_count": 17,
     "metadata": {},
     "output_type": "execute_result"
    }
   ],
   "source": [
    "# print(np.array(test_l))\n",
    "# print(id_data)\n",
    "coff"
   ]
  },
  {
   "cell_type": "code",
   "execution_count": 20,
   "metadata": {
    "deletable": false,
    "editable": false,
    "run_control": {
     "frozen": true
    }
   },
   "outputs": [],
   "source": [
    "wb = Workbook()\n",
    "ws = wb.active\n",
    "\n",
    "column = ['A', 'B', 'C', 'D', 'E', 'F', 'G', 'H', 'I', 'J']\n",
    "\n",
    "for i in range(len(id_data)):\n",
    "    ws[str('A'+str(i+1))] = id_data[i][0]\n",
    "    ws[str('B'+str(i+1))] = test_l[i][0]\n",
    "    ws[str('C'+str(i+1))] = predict[i]\n",
    "\n",
    "wb.save(\"Hasil.xlsx\")"
   ]
  },
  {
   "cell_type": "markdown",
   "metadata": {
    "deletable": false,
    "editable": false
   },
   "source": [
    "# Save Data"
   ]
  },
  {
   "cell_type": "code",
   "execution_count": 21,
   "metadata": {
    "deletable": false,
    "editable": false,
    "run_control": {
     "frozen": true
    }
   },
   "outputs": [],
   "source": [
    "dill.dump_session('Terbaik.db')"
   ]
  }
 ],
 "metadata": {
  "colab": {
   "collapsed_sections": [],
   "name": "Pengujian.ipynb",
   "provenance": [],
   "toc_visible": true
  },
  "kernelspec": {
   "display_name": "Python 3",
   "language": "python",
   "name": "python3"
  },
  "language_info": {
   "codemirror_mode": {
    "name": "ipython",
    "version": 3
   },
   "file_extension": ".py",
   "mimetype": "text/x-python",
   "name": "python",
   "nbconvert_exporter": "python",
   "pygments_lexer": "ipython3",
   "version": "3.6.2"
  },
  "notify_time": "30",
  "toc": {
   "base_numbering": "1",
   "nav_menu": {
    "height": "140px",
    "width": "172px"
   },
   "number_sections": true,
   "sideBar": true,
   "skip_h1_title": false,
   "title_cell": "Table of Contents",
   "title_sidebar": "Contents",
   "toc_cell": false,
   "toc_position": {
    "height": "359.6px",
    "left": "937px",
    "top": "158.8px",
    "width": "215px"
   },
   "toc_section_display": true,
   "toc_window_display": true
  }
 },
 "nbformat": 4,
 "nbformat_minor": 1
}
