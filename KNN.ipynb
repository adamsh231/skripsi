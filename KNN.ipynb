{
 "cells": [
  {
   "cell_type": "markdown",
   "metadata": {
    "deletable": false,
    "editable": false,
    "heading_collapsed": true
   },
   "source": [
    "# Import Library"
   ]
  },
  {
   "cell_type": "code",
   "execution_count": 1,
   "metadata": {
    "ExecuteTime": {
     "end_time": "2020-06-09T12:01:33.942927Z",
     "start_time": "2020-06-09T12:01:32.530866Z"
    },
    "deletable": false,
    "editable": false,
    "hidden": true
   },
   "outputs": [],
   "source": [
    "import numpy as np\n",
    "import pandas as pd\n",
    "import random\n",
    "import math\n",
    "from sklearn.neighbors import KNeighborsClassifier #KNN\n",
    "from sklearn import metrics #akurasi\n",
    "from sklearn.metrics import confusion_matrix #confussion matrix\n",
    "from sklearn.metrics import recall_score # recall\n",
    "from sklearn.metrics import precision_score #precision\n",
    "from sklearn.metrics import f1_score #f1 score"
   ]
  },
  {
   "cell_type": "markdown",
   "metadata": {
    "deletable": false,
    "editable": false,
    "heading_collapsed": true
   },
   "source": [
    "# Manual Method (Preprocessing and Support)"
   ]
  },
  {
   "cell_type": "code",
   "execution_count": 2,
   "metadata": {
    "ExecuteTime": {
     "end_time": "2020-06-09T12:01:33.952861Z",
     "start_time": "2020-06-09T12:01:33.945136Z"
    },
    "deletable": false,
    "editable": false,
    "hidden": true
   },
   "outputs": [],
   "source": [
    "def count_label(data):\n",
    "    distinct = [data[0][-1]]\n",
    "    for i in range(len(data)):\n",
    "        check = True\n",
    "        for j in range(len(distinct)):\n",
    "            if distinct[j] == data[i][-1]:\n",
    "                check = False\n",
    "        if check:\n",
    "            distinct.append(data[i][-1])\n",
    "    return np.array(distinct).astype(int), len(distinct)"
   ]
  },
  {
   "cell_type": "code",
   "execution_count": 3,
   "metadata": {
    "ExecuteTime": {
     "end_time": "2020-06-09T12:01:34.034964Z",
     "start_time": "2020-06-09T12:01:33.955848Z"
    },
    "deletable": false,
    "editable": false,
    "hidden": true
   },
   "outputs": [],
   "source": [
    "def evaluation(arr_acc):\n",
    "    mean = np.mean(arr_acc)\n",
    "    varian = sum((arr_acc - mean) * (arr_acc - mean)) / len(arr_acc)\n",
    "    std = math.sqrt(varian)\n",
    "    return mean, std"
   ]
  },
  {
   "cell_type": "code",
   "execution_count": 4,
   "metadata": {
    "ExecuteTime": {
     "end_time": "2020-06-09T12:01:34.156827Z",
     "start_time": "2020-06-09T12:01:34.036959Z"
    },
    "deletable": false,
    "editable": false,
    "hidden": true
   },
   "outputs": [],
   "source": [
    "def handleMissValue(data):\n",
    "    filled_data = np.array([[0 for i in range(len(data[0]))] for j in range(len(data))])\n",
    "    cLabel = count_label(data)[1]\n",
    "    arr_data = [[] for j in range(cLabel)]\n",
    "    mean = []\n",
    "    for i in range(len(data)):\n",
    "        arr_data[int(data[i][-1])-1].append(data[i])\n",
    "    counter = 0\n",
    "    for i in range(len(arr_data)):\n",
    "        mean.append(np.nanmean(arr_data[i], axis=0))\n",
    "        for j in range(len(arr_data[i])):\n",
    "            for k in range(len(arr_data[i][j])):\n",
    "                if np.isnan(arr_data[i][j][k]):\n",
    "                    arr_data[i][j][k] = mean[i][k]\n",
    "            filled_data[counter] = arr_data[i][j]\n",
    "            counter += 1\n",
    "    return filled_data"
   ]
  },
  {
   "cell_type": "code",
   "execution_count": 5,
   "metadata": {
    "ExecuteTime": {
     "end_time": "2020-06-09T12:01:34.278717Z",
     "start_time": "2020-06-09T12:01:34.157999Z"
    },
    "deletable": false,
    "editable": false,
    "hidden": true
   },
   "outputs": [],
   "source": [
    "def randomize(arr):\n",
    "    for i in range(len(arr)-1, 0, -1):\n",
    "        j = random.randint(0, i)\n",
    "        arr[i], arr[j] = arr[j], arr[i]\n",
    "    return arr"
   ]
  },
  {
   "cell_type": "code",
   "execution_count": 6,
   "metadata": {
    "ExecuteTime": {
     "end_time": "2020-06-09T12:01:34.377774Z",
     "start_time": "2020-06-09T12:01:34.280673Z"
    },
    "deletable": false,
    "editable": false,
    "hidden": true
   },
   "outputs": [],
   "source": [
    "def normalize(data):\n",
    "    data = np.array(data).astype(float)\n",
    "    max_value = np.max(data, axis=0)\n",
    "    min_value = np.min(data, axis=0)\n",
    "    for i in range(len(data)):\n",
    "        for j in range(len(data[0])-1):\n",
    "            data[i][j] = (data[i][j] - min_value[j]) / (max_value[j] - min_value[j])\n",
    "    return data"
   ]
  },
  {
   "cell_type": "code",
   "execution_count": 7,
   "metadata": {
    "ExecuteTime": {
     "end_time": "2020-06-09T12:01:34.477079Z",
     "start_time": "2020-06-09T12:01:34.379593Z"
    },
    "deletable": false,
    "editable": false,
    "hidden": true
   },
   "outputs": [],
   "source": [
    "def extraction(file, is_normal = True, is_random = True):\n",
    "    data = pd.read_excel(file)\n",
    "    data = handleMissValue(np.array(data))\n",
    "    data = pd.DataFrame(data)\n",
    "    data.drop_duplicates()\n",
    "    data = np.array(data)\n",
    "    if is_normal:\n",
    "        data = normalize(data)\n",
    "    if is_random:\n",
    "        data = randomize(data.tolist())\n",
    "    return data"
   ]
  },
  {
   "cell_type": "code",
   "execution_count": 8,
   "metadata": {
    "ExecuteTime": {
     "end_time": "2020-06-09T12:01:34.577221Z",
     "start_time": "2020-06-09T12:01:34.479429Z"
    },
    "deletable": false,
    "editable": false,
    "hidden": true
   },
   "outputs": [],
   "source": [
    "def crossValidation(data, cross_val, cross_index, label_index):\n",
    "    split_test = int(len(data) * (1 / cross_val))\n",
    "    change_index = (cross_index - 1) * split_test\n",
    "    \n",
    "    for i in range(split_test):\n",
    "        j = (i + change_index)\n",
    "        data[i], data[j] = data[j], data[i]\n",
    "    \n",
    "    data_train_feature = pd.DataFrame(data[split_test:]).drop([label_index], axis=1)\n",
    "    data_train_label = pd.DataFrame(pd.DataFrame(data[split_test:]), columns=[label_index]).astype(np.int)\n",
    "    data_test_feature = pd.DataFrame(data[0:split_test]).drop([label_index], axis=1)\n",
    "    data_test_label = pd.DataFrame(pd.DataFrame(data[0:split_test]), columns=[label_index]).astype(np.int)\n",
    "    \n",
    "    data_train_feature = np.array(data_train_feature)\n",
    "    data_train_label = np.array(data_train_label)\n",
    "    data_test_feature = np.array(data_test_feature)\n",
    "    data_test_label = np.array(data_test_label)\n",
    "\n",
    "    return data, data_train_feature, data_train_label, data_test_feature, data_test_label"
   ]
  },
  {
   "cell_type": "code",
   "execution_count": 9,
   "metadata": {
    "ExecuteTime": {
     "end_time": "2020-06-09T12:01:34.688400Z",
     "start_time": "2020-06-09T12:01:34.578453Z"
    },
    "deletable": false,
    "editable": false,
    "hidden": true
   },
   "outputs": [],
   "source": [
    "##transform into 1d label array \n",
    "def transformArrLabel(X_label, Y_label):\n",
    "    X_transformed = []\n",
    "    Y_transformed = []\n",
    "    for i in range(len(X_label)):\n",
    "        X_transformed.append(X_label[i][0])\n",
    "    for i in range(len(Y_label)):\n",
    "        Y_transformed.append(Y_label[i][0])\n",
    "    return np.array(X_transformed), np.array(Y_transformed)"
   ]
  },
  {
   "cell_type": "markdown",
   "metadata": {
    "deletable": false,
    "editable": false,
    "heading_collapsed": true
   },
   "source": [
    "# Inisialisasi"
   ]
  },
  {
   "cell_type": "code",
   "execution_count": 10,
   "metadata": {
    "ExecuteTime": {
     "end_time": "2020-06-09T12:01:35.773961Z",
     "start_time": "2020-06-09T12:01:34.689720Z"
    },
    "deletable": false,
    "editable": false,
    "hidden": true
   },
   "outputs": [],
   "source": [
    "k = 15\n",
    "file = 'Dataset Pegawai.xlsx'\n",
    "cross_val = 10\n",
    "label_index = 9 #Kinerja\n",
    "normalisasi = True\n",
    "random_data = True\n",
    "data = extraction(file, normalisasi, random_data)"
   ]
  },
  {
   "cell_type": "markdown",
   "metadata": {
    "deletable": false,
    "editable": false
   },
   "source": [
    "# Testing"
   ]
  },
  {
   "cell_type": "code",
   "execution_count": 11,
   "metadata": {
    "ExecuteTime": {
     "end_time": "2020-06-09T12:01:58.285183Z",
     "start_time": "2020-06-09T12:01:35.775906Z"
    },
    "deletable": false,
    "editable": false
   },
   "outputs": [],
   "source": [
    "k_range = range(1,16)\n",
    "\n",
    "arr_coff = [[] for i in range(k)]\n",
    "arr_mean_acc = [0 for i in range(k)]\n",
    "arr_std_acc  = [0 for i in range(k)]\n",
    "\n",
    "for k in k_range:\n",
    "    arr_acc = [0 for i in range(cross_val)]\n",
    "    for i in range(1, cross_val + 1):\n",
    "        data, train_f, train_l, test_f, test_l = crossValidation(data, cross_val, i, label_index)\n",
    "        train_l, test_l = transformArrLabel(train_l, test_l)\n",
    "        knn = KNeighborsClassifier(n_neighbors = k, algorithm='brute')\n",
    "        knn.fit(train_f, train_l)\n",
    "        y_pred = knn.predict(test_f)\n",
    "        acc = metrics.accuracy_score(test_l, y_pred)\n",
    "        arr_acc[i-1] = acc\n",
    "        \n",
    "        arr_coff[k-1].append(confusion_matrix(test_l, y_pred))\n",
    "\n",
    "#         print(\"Cross-\"+str(i)+\" Acc:\"+ str(acc))\n",
    "#         print(\"---------------------------------------------------------\")\n",
    "\n",
    "    mean, std = evaluation(arr_acc)\n",
    "    arr_mean_acc[k-1] = mean\n",
    "    arr_std_acc[k-1] = std\n",
    "#     print('K-{0} Mean : {1} with Standar Deviation : {2}.'.format(k,mean,std))\n",
    "#     print(\"==========================================================\")"
   ]
  },
  {
   "cell_type": "code",
   "execution_count": 12,
   "metadata": {
    "ExecuteTime": {
     "end_time": "2020-06-09T12:01:58.295856Z",
     "start_time": "2020-06-09T12:01:58.287162Z"
    },
    "deletable": false,
    "editable": false
   },
   "outputs": [
    {
     "name": "stdout",
     "output_type": "stream",
     "text": [
      "[0.95425532 0.94513678 0.95805471 0.95319149 0.95805471 0.95288754\n",
      " 0.95759878 0.95410334 0.95592705 0.95075988 0.95258359 0.95106383\n",
      " 0.95395137 0.94969605 0.95227964]\n",
      "[0.01119783 0.00664014 0.00838487 0.00661749 0.00649063 0.00880935\n",
      " 0.0074592  0.00689105 0.00709582 0.00710232 0.00740794 0.00786171\n",
      " 0.00789835 0.00631934 0.00862922]\n"
     ]
    }
   ],
   "source": [
    "print(np.array(arr_mean_acc))\n",
    "print(np.array(arr_std_acc))\n",
    "# print(np.array(arr_coff))"
   ]
  },
  {
   "cell_type": "code",
   "execution_count": 13,
   "metadata": {
    "ExecuteTime": {
     "end_time": "2020-06-09T12:01:58.400395Z",
     "start_time": "2020-06-09T12:01:58.298771Z"
    },
    "deletable": false,
    "editable": false
   },
   "outputs": [],
   "source": [
    "def pickCoff(coff):\n",
    "    choosen_coff = []\n",
    "    for i in range(len(coff)):\n",
    "        for j in range(len(coff[i])):\n",
    "            acc = 0\n",
    "            for k in range(len(coff[i][j])):\n",
    "                for l in range(len(coff[i][j][k])):\n",
    "                    if k == l:\n",
    "                        acc += coff[i][j][k][l]\n",
    "            acc /= np.sum(coff[i][j])\n",
    "            if acc != 1:\n",
    "                choosen_coff.append(coff[i][j])\n",
    "                break\n",
    "            elif j == len(coff[i]) - 1:\n",
    "                choosen_coff.append(coff[i][j])\n",
    "    return np.array(choosen_coff)"
   ]
  },
  {
   "cell_type": "code",
   "execution_count": 14,
   "metadata": {
    "ExecuteTime": {
     "end_time": "2020-06-09T12:01:58.488918Z",
     "start_time": "2020-06-09T12:01:58.401968Z"
    },
    "deletable": false,
    "editable": false
   },
   "outputs": [],
   "source": [
    "def splitCoff(picked_coff):\n",
    "    actual = []\n",
    "    predict = []\n",
    "    for i in range(len(picked_coff)):\n",
    "        predict.append([])\n",
    "        actual.append([])\n",
    "        for j in range(len(picked_coff[i])):\n",
    "            for k in range(len(picked_coff[i][j])):\n",
    "                for l in range(picked_coff[i][j][k]):\n",
    "                    if j == k:\n",
    "                        actual[i].append(j)\n",
    "                        predict[i].append(j)\n",
    "                    else:\n",
    "                        actual[i].append(j)\n",
    "                        predict[i].append(k)\n",
    "    return actual, predict"
   ]
  },
  {
   "cell_type": "code",
   "execution_count": 16,
   "metadata": {
    "ExecuteTime": {
     "end_time": "2020-06-09T12:06:44.947176Z",
     "start_time": "2020-06-09T12:06:44.923249Z"
    }
   },
   "outputs": [
    {
     "name": "stdout",
     "output_type": "stream",
     "text": [
      "[[243   6   0]\n",
      " [ 13 308   0]\n",
      " [  0   2  86]]\n",
      "[0.97590361 0.95950156 0.97727273]\n",
      "0.9708926331209858\n",
      "[0.94921875 0.97468354 1.        ]\n",
      "0.9746340981012658\n",
      "[0.96237624 0.96703297 0.98850575]\n",
      "0.9726383172610554\n"
     ]
    }
   ],
   "source": [
    "coff_k = 2\n",
    "\n",
    "picked_coff = pickCoff(np.array(arr_coff))\n",
    "print(picked_coff[coff_k])\n",
    "\n",
    "actual, predict = splitCoff(picked_coff)\n",
    "recall_lib = recall_score(actual[coff_k], predict[coff_k], average=None)\n",
    "precision_lib = precision_score(actual[coff_k], predict[coff_k], average=None)\n",
    "f1score_lib = f1_score(actual[coff_k], predict[coff_k], average=None)\n",
    "\n",
    "print(recall_lib)\n",
    "print(recall_score(actual[coff_k], predict[coff_k], average='macro'))\n",
    "\n",
    "print(precision_lib)\n",
    "print(precision_score(actual[coff_k], predict[coff_k], average='macro'))\n",
    "\n",
    "print(f1score_lib)\n",
    "print(f1_score(actual[coff_k], predict[coff_k], average='macro'))"
   ]
  },
  {
   "cell_type": "code",
   "execution_count": null,
   "metadata": {},
   "outputs": [],
   "source": []
  }
 ],
 "metadata": {
  "kernelspec": {
   "display_name": "Python 3.6.2 64-bit",
   "language": "python",
   "name": "python36264bita850f09a2630471f9307a996c8fc1915"
  },
  "language_info": {
   "codemirror_mode": {
    "name": "ipython",
    "version": 3
   },
   "file_extension": ".py",
   "mimetype": "text/x-python",
   "name": "python",
   "nbconvert_exporter": "python",
   "pygments_lexer": "ipython3",
   "version": "3.6.2"
  },
  "toc": {
   "base_numbering": 1,
   "nav_menu": {},
   "number_sections": true,
   "sideBar": true,
   "skip_h1_title": false,
   "title_cell": "Table of Contents",
   "title_sidebar": "Contents",
   "toc_cell": false,
   "toc_position": {},
   "toc_section_display": true,
   "toc_window_display": true
  }
 },
 "nbformat": 4,
 "nbformat_minor": 2
}
